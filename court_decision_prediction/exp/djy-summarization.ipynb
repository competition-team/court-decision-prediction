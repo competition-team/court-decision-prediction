{
 "cells": [
  {
   "cell_type": "code",
   "execution_count": 1,
   "id": "c8585515",
   "metadata": {},
   "outputs": [],
   "source": [
    "%load_ext autoreload\n",
    "%autoreload 2\n",
    "import sys\n",
    "sys.path.append('../..')\n",
    "\n",
    "from court_decision_prediction.utils import *"
   ]
  },
  {
   "cell_type": "markdown",
   "id": "e4fb74ac",
   "metadata": {},
   "source": [
    "# 1. Load Data"
   ]
  },
  {
   "cell_type": "code",
   "execution_count": 2,
   "id": "e8a4f87e",
   "metadata": {},
   "outputs": [
    {
     "data": {
      "text/plain": [
       "'On June 27, 1962, Phil St. Amant, a candidate for public office, made a television speech in Baton Rouge, Louisiana.  During this speech, St. Amant accused his political opponent of being a Communist and of being involved in criminal activities with the head of the local Teamsters Union.  Finally, St. Amant implicated Herman Thompson, an East Baton Rouge deputy sheriff, in a scheme to move money between the Teamsters Union and St. Amant’s political opponent. \\nThompson successfully sued St. Amant for defamation.  Louisiana’s First Circuit Court of Appeals reversed, holding that Thompson did not show St. Amant acted with “malice.”  Thompson then appealed to the Supreme Court of Louisiana.  That court held that, although public figures forfeit some of their First Amendment protection from defamation, St. Amant accused Thompson of a crime with utter disregard of whether the remarks were true.  Finally, that court held that the First Amendment protects uninhibited, robust debate, rather than an open season to shoot down the good name of anyone who happens to be a public servant. \\n'"
      ]
     },
     "execution_count": 2,
     "metadata": {},
     "output_type": "execute_result"
    }
   ],
   "source": [
    "train_data = pd.read_csv(PATH.train)\n",
    "facts      = train_data['facts'].tolist()\n",
    "\n",
    "facts[0]"
   ]
  },
  {
   "cell_type": "code",
   "execution_count": 21,
   "id": "82a5f1b0",
   "metadata": {},
   "outputs": [
    {
     "data": {
      "text/html": [
       "<div>\n",
       "<style scoped>\n",
       "    .dataframe tbody tr th:only-of-type {\n",
       "        vertical-align: middle;\n",
       "    }\n",
       "\n",
       "    .dataframe tbody tr th {\n",
       "        vertical-align: top;\n",
       "    }\n",
       "\n",
       "    .dataframe thead th {\n",
       "        text-align: right;\n",
       "    }\n",
       "</style>\n",
       "<table border=\"1\" class=\"dataframe\">\n",
       "  <thead>\n",
       "    <tr style=\"text-align: right;\">\n",
       "      <th></th>\n",
       "      <th>ID</th>\n",
       "      <th>first_party</th>\n",
       "      <th>second_party</th>\n",
       "      <th>facts</th>\n",
       "      <th>first_party_winner</th>\n",
       "    </tr>\n",
       "  </thead>\n",
       "  <tbody>\n",
       "    <tr>\n",
       "      <th>0</th>\n",
       "      <td>TRAIN_0000</td>\n",
       "      <td>Phil A. St. Amant</td>\n",
       "      <td>Herman A. Thompson</td>\n",
       "      <td>On June 27, 1962, Phil St. Amant, a candidate for public office, made a television speech in Baton Rouge, Louisiana.  During this speech, St. Amant accused his political opponent of being a Communist and of being involved in criminal activities with the head of the local Teamsters Union.  Finally, St. Amant implicated Herman Thompson, an East Baton Rouge deputy sheriff, in a scheme to move money between the Teamsters Union and St. Amant’s political opponent. \\nThompson successfully sued St. Amant for defamation.  Louisiana’s First Circuit Court of Appeals reversed, holding that Thompson did not show St. Amant acted with “malice.”  Thompson then appealed to the Supreme Court of Louisiana.  That court held that, although public figures forfeit some of their First Amendment protection from defamation, St. Amant accused Thompson of a crime with utter disregard of whether the remarks were true.  Finally, that court held that the First Amendment protects uninhibited, robust debate, rathe...</td>\n",
       "      <td>1</td>\n",
       "    </tr>\n",
       "    <tr>\n",
       "      <th>1</th>\n",
       "      <td>TRAIN_0001</td>\n",
       "      <td>Stephen Duncan</td>\n",
       "      <td>Lawrence Owens</td>\n",
       "      <td>Ramon Nelson was riding his bike when he suffered a lethal blow to the back of his head with a baseball bat. After two eyewitnesses identified Lawrence Owens from an array of photos and then a lineup, he was tried and convicted for Nelson’s death. Because Nelson was carrying cocaine and crack cocaine potentially for distribution, the judge at Owens’ bench trial ruled that Owens was probably also a drug dealer and was trying to “knock [Nelson] off.” Owens was found guilty of first-degree murder and sentenced to 25 years in prison.\\nOwens filed a petition for a writ of habeas corpus on the grounds that his constitutional right to due process was violated during the trial. He argued that the eyewitness identification should have been inadmissible based on unreliability and that the judge impermissibly inferred a motive when a motive was not an element of the offense. The district court denied the writ of habeas corpus, and Owens appealed. The U.S. Court of Appeals for the Seventh Circ...</td>\n",
       "      <td>0</td>\n",
       "    </tr>\n",
       "    <tr>\n",
       "      <th>2</th>\n",
       "      <td>TRAIN_0002</td>\n",
       "      <td>Billy Joe Magwood</td>\n",
       "      <td>Tony Patterson, Warden, et al.</td>\n",
       "      <td>An Alabama state court convicted Billy Joe Magwood of murder and sentenced him to death. Subsequently, an Alabama federal district court partially granted Mr. Magwood's petition for federal habeas corpus relief. The court upheld his conviction but instructed the state court to look at mitigating evidence when resentencing Mr. Magwood. Upon resentencing, the state court sentenced Mr. Magwood to death once again. Mr. Magwood filed a second petition for federal habeas corpus relief with the federal district court arguing that a judicial rule was retroactively applied in his case and that he lacked effective counsel at sentencing. The district court granted the petition and vacated Mr. Magwood's death sentence.\\nOn appeal, the U.S. Court of Appeals for the Eleventh circuit reversed, holding that prisoners may not raise challenges to an original sentence that could have been raised in an earlier petition. The court also held that Mr. Magwood's counsel was not ineffective because he fail...</td>\n",
       "      <td>1</td>\n",
       "    </tr>\n",
       "    <tr>\n",
       "      <th>3</th>\n",
       "      <td>TRAIN_0003</td>\n",
       "      <td>Linkletter</td>\n",
       "      <td>Walker</td>\n",
       "      <td>Victor Linkletter was convicted in state court on evidence illegally obtained by police prior to the Supreme Court decision concerning the Fourth Amendment in Mapp v. Ohio. Mapp applied the exclusionary rule to state criminal proceedings, denying the use of illegally obtained evidence at trial. Linkletter argued for a retrial based on the Mapp decision.\\n</td>\n",
       "      <td>0</td>\n",
       "    </tr>\n",
       "    <tr>\n",
       "      <th>4</th>\n",
       "      <td>TRAIN_0004</td>\n",
       "      <td>William Earl Fikes</td>\n",
       "      <td>Alabama</td>\n",
       "      <td>On April 24, 1953 in Selma, Alabama, an intruder broke into the apartment of the daughter of the city mayor. The daughter and the intruder struggled through several rooms until she was able to seize his knife, and he fled. The assailant had a towel over his head, so the victim could not identify the defendant during the trial. The police apprehended William Earl Fikes on the basis of a call from a private citizen and held him “on an open charge of investigation.” The police questioned Fikes for hours, placed him in jail, and limited his access to anyone familiar. After nearly a week of this treatment, Fikes confessed in the form of answers to the interrogator’s leading questions. Five days later, Fikes confessed under questioning a second time. When these confessions were admitted into the trial as evidence, Fikes did not testify regarding the events surrounding his interrogation because the judge had ruled he would be subjected to unlimited cross-examination. The jury convicted Fi...</td>\n",
       "      <td>1</td>\n",
       "    </tr>\n",
       "    <tr>\n",
       "      <th>...</th>\n",
       "      <td>...</td>\n",
       "      <td>...</td>\n",
       "      <td>...</td>\n",
       "      <td>...</td>\n",
       "      <td>...</td>\n",
       "    </tr>\n",
       "    <tr>\n",
       "      <th>2473</th>\n",
       "      <td>TRAIN_2473</td>\n",
       "      <td>HollyFrontier Cheyenne Refining, LLC, et al.</td>\n",
       "      <td>Renewable Fuels Association, et al.</td>\n",
       "      <td>Congress amended the Clean Air Act through the Energy Policy Act of 2005 in an effort to reduce the nation’s dependence on fossil fuels. The legislation set certain targets for replacing fossil fuels with renewable fuels but created several exemptions, including one for small refineries if compliance in a given year would impose disproportionate economic hardship.\\nThe U.S. Environmental Protection Agency (EPA) promulgated three different orders granting extensions of the small refinery exemption, but these orders were not made publicly available. A group of renewable fuels producers challenged the orders, alleging that the orders exceeded the EPA’s statutory authority. The Tenth Circuit agreed, finding that a small refinery may obtain an exemption only when it had received uninterrupted, continuous extensions of the exemption for every year since 2011.\\n</td>\n",
       "      <td>1</td>\n",
       "    </tr>\n",
       "    <tr>\n",
       "      <th>2474</th>\n",
       "      <td>TRAIN_2474</td>\n",
       "      <td>Grupo Mexicano de Desarrollo, S. A.</td>\n",
       "      <td>Alliance Bond Fund, Inc.</td>\n",
       "      <td>Alliance Bond Fund, Inc., an investment fund, purchased approximately $75 million in unsecured notes (Notes) from Grupo Mexicano de Desarrollo, S. A., (GMD) a Mexican holding company involved in a tool road construction program sponsored by the Government of Mexico. Four GMD subsidiaries guaranteed the Notes. After GMD fell into financial trouble and missed an interest payment on the Notes, Alliance accelerated the Notes' principal amount and filed suit for the amount due in Federal District Court. Alliance requested a preliminary injunction restraining GMD from transferring its assets alleging that GMD was at risk of insolvency, or already insolvent, that it was preferring its Mexican creditors by its planned allocation to them of its most valuable assets, and that these actions would frustrate any judgment that Alliance could obtain. Alliance sought monetary damages and no lien or equitable interest was claimed. The District Court issued the preliminary injunction and ordered GMD...</td>\n",
       "      <td>1</td>\n",
       "    </tr>\n",
       "    <tr>\n",
       "      <th>2475</th>\n",
       "      <td>TRAIN_2475</td>\n",
       "      <td>Peguero</td>\n",
       "      <td>United States</td>\n",
       "      <td>In 1992, the District Court sentenced Manuel D. Peguero to 274 months of imprisonment after he pleaded guilty to federal drug charges. During sentencing, the court did not inform Peguero of his right to appeal the sentence. In 1996, in a later motion for habeas relief, Peguero claimed that the court violated Federal Rule of Criminal Procedure 32(a)(2) by failing to advise him of his right to appeal. After an evidentiary hearing, the District Court found that, although it failed to advise Peguero of his right, he knew of his right when the sentencing hearing occurred. Thus the court, rejecting Peguero's claim that any violation of Rule 32 is enough to vacate a sentence, held that he was not entitled to relief because he was aware of his right to appeal at the time of sentencing. In affirming, the Court of Appeals held that a Rule 32 violation was subject to harmless-error review and concluded that the rule's purpose had been served since Peguero was aware of his right to appeal.\\n</td>\n",
       "      <td>0</td>\n",
       "    </tr>\n",
       "    <tr>\n",
       "      <th>2476</th>\n",
       "      <td>TRAIN_2476</td>\n",
       "      <td>Immigration and Naturalization Service</td>\n",
       "      <td>St. Cyr</td>\n",
       "      <td>On March 8, 1996, Enrico St. Cyr, a lawful permanent resident, pled guilty in a Connecticut court to a charge of selling a controlled substance. That conviction made him deportable. Before the effective dates of the Antiterrorism and Effective Death Penalty Act of 1996 (AEDPA) and the Illegal Immigration Reform and Immigrant Responsibility Act of 1996 (IIRIRA) section 212(c) of the Immigration and Nationality Act of 1952 was interpreted to give the Attorney General broad discretion to waive deportation of resident aliens. The AEDPA and IIRIRA restricted the class of aliens depending on section 212(c) for relief. St. Cyr's removal proceedings commenced after AEDPA's and IIRIRA's effective dates. Subsequently, the Attorney General claimed that the AEDPA and IIRIRA withdrew his authority to grant St. Cyr a waiver. The District Court accepted St. Cyr's habeas corpus application and agreed that the new restrictions do not apply to removal proceedings brought against an alien who pleaded...</td>\n",
       "      <td>0</td>\n",
       "    </tr>\n",
       "    <tr>\n",
       "      <th>2477</th>\n",
       "      <td>TRAIN_2477</td>\n",
       "      <td>Markman</td>\n",
       "      <td>Westview Instruments, Inc.</td>\n",
       "      <td>Herbert Markman owns the patent to a system that tracks clothing through the dry-cleaning process using a keyboard and data processor to generate transaction records, including a bar code readable by optical detectors. According to the patent's claim, the portion of the patent document that defines the patentee's rights, Markman's product can \"maintain an inventory total\" and \"detect and localize spurious additions to inventory.\" Westview Instruments, Inc.'s product also uses a keyboard and processor and lists dry-cleaning charges on bar-coded tickets that can be read by optical detectors. In an infringement suit, after hearing an expert witness testify about the meaning of the claim's language, a jury found that Westview's product had infringed Markman's patent. However, the District Court directed a verdict for Westview on the ground that its device is unable to track \"inventory\" as that term is used in the claim. In affirming, the Court of Appeals held that the interpretation of...</td>\n",
       "      <td>0</td>\n",
       "    </tr>\n",
       "  </tbody>\n",
       "</table>\n",
       "<p>2478 rows × 5 columns</p>\n",
       "</div>"
      ],
      "text/plain": [
       "              ID                                   first_party                         second_party  \\\n",
       "0     TRAIN_0000                             Phil A. St. Amant                   Herman A. Thompson   \n",
       "1     TRAIN_0001                                Stephen Duncan                       Lawrence Owens   \n",
       "2     TRAIN_0002                             Billy Joe Magwood       Tony Patterson, Warden, et al.   \n",
       "3     TRAIN_0003                                    Linkletter                               Walker   \n",
       "4     TRAIN_0004                            William Earl Fikes                              Alabama   \n",
       "...          ...                                           ...                                  ...   \n",
       "2473  TRAIN_2473  HollyFrontier Cheyenne Refining, LLC, et al.  Renewable Fuels Association, et al.   \n",
       "2474  TRAIN_2474           Grupo Mexicano de Desarrollo, S. A.             Alliance Bond Fund, Inc.   \n",
       "2475  TRAIN_2475                                       Peguero                        United States   \n",
       "2476  TRAIN_2476        Immigration and Naturalization Service                              St. Cyr   \n",
       "2477  TRAIN_2477                                       Markman           Westview Instruments, Inc.   \n",
       "\n",
       "                                                                                                                                                                                                                                                                                                                                                                                                                                                                                                                                                                                                                                                                                                                                                                                                                                                                                                                                                                                                                                        facts  \\\n",
       "0     On June 27, 1962, Phil St. Amant, a candidate for public office, made a television speech in Baton Rouge, Louisiana.  During this speech, St. Amant accused his political opponent of being a Communist and of being involved in criminal activities with the head of the local Teamsters Union.  Finally, St. Amant implicated Herman Thompson, an East Baton Rouge deputy sheriff, in a scheme to move money between the Teamsters Union and St. Amant’s political opponent. \\nThompson successfully sued St. Amant for defamation.  Louisiana’s First Circuit Court of Appeals reversed, holding that Thompson did not show St. Amant acted with “malice.”  Thompson then appealed to the Supreme Court of Louisiana.  That court held that, although public figures forfeit some of their First Amendment protection from defamation, St. Amant accused Thompson of a crime with utter disregard of whether the remarks were true.  Finally, that court held that the First Amendment protects uninhibited, robust debate, rathe...   \n",
       "1     Ramon Nelson was riding his bike when he suffered a lethal blow to the back of his head with a baseball bat. After two eyewitnesses identified Lawrence Owens from an array of photos and then a lineup, he was tried and convicted for Nelson’s death. Because Nelson was carrying cocaine and crack cocaine potentially for distribution, the judge at Owens’ bench trial ruled that Owens was probably also a drug dealer and was trying to “knock [Nelson] off.” Owens was found guilty of first-degree murder and sentenced to 25 years in prison.\\nOwens filed a petition for a writ of habeas corpus on the grounds that his constitutional right to due process was violated during the trial. He argued that the eyewitness identification should have been inadmissible based on unreliability and that the judge impermissibly inferred a motive when a motive was not an element of the offense. The district court denied the writ of habeas corpus, and Owens appealed. The U.S. Court of Appeals for the Seventh Circ...   \n",
       "2     An Alabama state court convicted Billy Joe Magwood of murder and sentenced him to death. Subsequently, an Alabama federal district court partially granted Mr. Magwood's petition for federal habeas corpus relief. The court upheld his conviction but instructed the state court to look at mitigating evidence when resentencing Mr. Magwood. Upon resentencing, the state court sentenced Mr. Magwood to death once again. Mr. Magwood filed a second petition for federal habeas corpus relief with the federal district court arguing that a judicial rule was retroactively applied in his case and that he lacked effective counsel at sentencing. The district court granted the petition and vacated Mr. Magwood's death sentence.\\nOn appeal, the U.S. Court of Appeals for the Eleventh circuit reversed, holding that prisoners may not raise challenges to an original sentence that could have been raised in an earlier petition. The court also held that Mr. Magwood's counsel was not ineffective because he fail...   \n",
       "3                                                                                                                                                                                                                                                                                                                                                                                                                                                                                                                                                                                                                                                                       Victor Linkletter was convicted in state court on evidence illegally obtained by police prior to the Supreme Court decision concerning the Fourth Amendment in Mapp v. Ohio. Mapp applied the exclusionary rule to state criminal proceedings, denying the use of illegally obtained evidence at trial. Linkletter argued for a retrial based on the Mapp decision.\\n   \n",
       "4     On April 24, 1953 in Selma, Alabama, an intruder broke into the apartment of the daughter of the city mayor. The daughter and the intruder struggled through several rooms until she was able to seize his knife, and he fled. The assailant had a towel over his head, so the victim could not identify the defendant during the trial. The police apprehended William Earl Fikes on the basis of a call from a private citizen and held him “on an open charge of investigation.” The police questioned Fikes for hours, placed him in jail, and limited his access to anyone familiar. After nearly a week of this treatment, Fikes confessed in the form of answers to the interrogator’s leading questions. Five days later, Fikes confessed under questioning a second time. When these confessions were admitted into the trial as evidence, Fikes did not testify regarding the events surrounding his interrogation because the judge had ruled he would be subjected to unlimited cross-examination. The jury convicted Fi...   \n",
       "...                                                                                                                                                                                                                                                                                                                                                                                                                                                                                                                                                                                                                                                                                                                                                                                                                                                                                                                                                                                                                                       ...   \n",
       "2473                                                                                                                                      Congress amended the Clean Air Act through the Energy Policy Act of 2005 in an effort to reduce the nation’s dependence on fossil fuels. The legislation set certain targets for replacing fossil fuels with renewable fuels but created several exemptions, including one for small refineries if compliance in a given year would impose disproportionate economic hardship.\\nThe U.S. Environmental Protection Agency (EPA) promulgated three different orders granting extensions of the small refinery exemption, but these orders were not made publicly available. A group of renewable fuels producers challenged the orders, alleging that the orders exceeded the EPA’s statutory authority. The Tenth Circuit agreed, finding that a small refinery may obtain an exemption only when it had received uninterrupted, continuous extensions of the exemption for every year since 2011.\\n   \n",
       "2474  Alliance Bond Fund, Inc., an investment fund, purchased approximately $75 million in unsecured notes (Notes) from Grupo Mexicano de Desarrollo, S. A., (GMD) a Mexican holding company involved in a tool road construction program sponsored by the Government of Mexico. Four GMD subsidiaries guaranteed the Notes. After GMD fell into financial trouble and missed an interest payment on the Notes, Alliance accelerated the Notes' principal amount and filed suit for the amount due in Federal District Court. Alliance requested a preliminary injunction restraining GMD from transferring its assets alleging that GMD was at risk of insolvency, or already insolvent, that it was preferring its Mexican creditors by its planned allocation to them of its most valuable assets, and that these actions would frustrate any judgment that Alliance could obtain. Alliance sought monetary damages and no lien or equitable interest was claimed. The District Court issued the preliminary injunction and ordered GMD...   \n",
       "2475       In 1992, the District Court sentenced Manuel D. Peguero to 274 months of imprisonment after he pleaded guilty to federal drug charges. During sentencing, the court did not inform Peguero of his right to appeal the sentence. In 1996, in a later motion for habeas relief, Peguero claimed that the court violated Federal Rule of Criminal Procedure 32(a)(2) by failing to advise him of his right to appeal. After an evidentiary hearing, the District Court found that, although it failed to advise Peguero of his right, he knew of his right when the sentencing hearing occurred. Thus the court, rejecting Peguero's claim that any violation of Rule 32 is enough to vacate a sentence, held that he was not entitled to relief because he was aware of his right to appeal at the time of sentencing. In affirming, the Court of Appeals held that a Rule 32 violation was subject to harmless-error review and concluded that the rule's purpose had been served since Peguero was aware of his right to appeal.\\n   \n",
       "2476  On March 8, 1996, Enrico St. Cyr, a lawful permanent resident, pled guilty in a Connecticut court to a charge of selling a controlled substance. That conviction made him deportable. Before the effective dates of the Antiterrorism and Effective Death Penalty Act of 1996 (AEDPA) and the Illegal Immigration Reform and Immigrant Responsibility Act of 1996 (IIRIRA) section 212(c) of the Immigration and Nationality Act of 1952 was interpreted to give the Attorney General broad discretion to waive deportation of resident aliens. The AEDPA and IIRIRA restricted the class of aliens depending on section 212(c) for relief. St. Cyr's removal proceedings commenced after AEDPA's and IIRIRA's effective dates. Subsequently, the Attorney General claimed that the AEDPA and IIRIRA withdrew his authority to grant St. Cyr a waiver. The District Court accepted St. Cyr's habeas corpus application and agreed that the new restrictions do not apply to removal proceedings brought against an alien who pleaded...   \n",
       "2477  Herbert Markman owns the patent to a system that tracks clothing through the dry-cleaning process using a keyboard and data processor to generate transaction records, including a bar code readable by optical detectors. According to the patent's claim, the portion of the patent document that defines the patentee's rights, Markman's product can \"maintain an inventory total\" and \"detect and localize spurious additions to inventory.\" Westview Instruments, Inc.'s product also uses a keyboard and processor and lists dry-cleaning charges on bar-coded tickets that can be read by optical detectors. In an infringement suit, after hearing an expert witness testify about the meaning of the claim's language, a jury found that Westview's product had infringed Markman's patent. However, the District Court directed a verdict for Westview on the ground that its device is unable to track \"inventory\" as that term is used in the claim. In affirming, the Court of Appeals held that the interpretation of...   \n",
       "\n",
       "      first_party_winner  \n",
       "0                      1  \n",
       "1                      0  \n",
       "2                      1  \n",
       "3                      0  \n",
       "4                      1  \n",
       "...                  ...  \n",
       "2473                   1  \n",
       "2474                   1  \n",
       "2475                   0  \n",
       "2476                   0  \n",
       "2477                   0  \n",
       "\n",
       "[2478 rows x 5 columns]"
      ]
     },
     "execution_count": 21,
     "metadata": {},
     "output_type": "execute_result"
    }
   ],
   "source": [
    "train_data"
   ]
  },
  {
   "cell_type": "markdown",
   "id": "cdc496e5",
   "metadata": {},
   "source": [
    "# 2. Load Text Summarization Model"
   ]
  },
  {
   "cell_type": "code",
   "execution_count": 3,
   "id": "f66e8bb0",
   "metadata": {},
   "outputs": [],
   "source": [
    "import torch\n",
    "from transformers import AutoTokenizer, AutoModelWithLMHead\n",
    "\n",
    "model_id = 'T5-base'\n",
    "tokenizer = AutoTokenizer.from_pretrained(model_id)\n",
    "model = AutoModelWithLMHead.from_pretrained(model_id, return_dict=True)"
   ]
  },
  {
   "cell_type": "code",
   "execution_count": 20,
   "id": "f4f3ec75",
   "metadata": {},
   "outputs": [
    {
     "data": {
      "text/plain": [
       "'<pad> a candidate for public office accused his political opponent of being a Communist. he implicated herman Thompson, an east baton rouge deputy sheriff, in a scheme to move money between the Teamsters union and his political opponent. the court reversed, holding that Thompson did not show St. Amant acted with \"malice\"</s>'"
      ]
     },
     "execution_count": 20,
     "metadata": {},
     "output_type": "execute_result"
    }
   ],
   "source": [
    "def generate_input(seq):\n",
    "    return tokenizer.encode(\"summarize: \" + seq, return_tensors='pt', max_length=512, truncation=True)\n",
    "\n",
    "inputs  = generate_input(facts[0])\n",
    "output  = model.generate(inputs, min_length=50, max_length=150)\n",
    "summary = tokenizer.decode(output[0])\n",
    "summary"
   ]
  },
  {
   "cell_type": "markdown",
   "id": "3f2259de",
   "metadata": {},
   "source": [
    "# T5-small (4328MB)\n",
    "```\n",
    "'<pad><extra_id_0> data science is an interdisciplinary field[10] focused on extracting knowledge from typically large data sets and applying the knowledge and insights from that data to solve problems in a wide range of applications domains[11] The field encompasses preparing data for analysis, formulating data science problems, analyzing data, developing data-driven solutions, and presenting findings to inform high-level decisions in a wide range of applications domains.[12][13]'\n",
    "```\n",
    "\n",
    "# T5-base (4260MB)\n",
    "```\n",
    "'<pad> data science is a broad field encompassing preparing data for analysis. it also includes analyzing data, developing data-driven solutions. the field also includes computer science, statistics and information science.</s>'\n",
    "```\n",
    "\n",
    "# T5-large (4286MB)\n",
    "```\n",
    "'<pad><extra_id_0>ize with list:<extra_id_1>][17][18][19][20][21][22][23][24][25][26][27][28][29][30][31][32][33][34][35][36][37][38][39][40][40][40][40][40][40][40][40][41][42][43][44]</s>'\n",
    "```"
   ]
  },
  {
   "cell_type": "code",
   "execution_count": 25,
   "id": "c90b07ce",
   "metadata": {},
   "outputs": [
    {
     "data": {
      "text/plain": [
       "'On June 27, 1962, Phil St. Amant, a candidate for public office, made a television speech in Baton Rouge, Louisiana.  During this speech, St. Amant accused his political opponent of being a Communist and of being involved in criminal activities with the head of the local Teamsters Union.  Finally, St. Amant implicated Herman Thompson, an East Baton Rouge deputy sheriff, in a scheme to move money between the Teamsters Union and St. Amant’s political opponent. \\nThompson successfully sued St. Amant for defamation.  Louisiana’s First Circuit Court of Appeals reversed, holding that Thompson did not show St. Amant acted with “malice.”  Thompson then appealed to the Supreme Court of Louisiana.  That court held that, although public figures forfeit some of their First Amendment protection from defamation, St. Amant accused Thompson of a crime with utter disregard of whether the remarks were true.  Finally, that court held that the First Amendment protects uninhibited, robust debate, rather than an open season to shoot down the good name of anyone who happens to be a public servant. \\nFinally, the plaintiff'"
      ]
     },
     "execution_count": 25,
     "metadata": {},
     "output_type": "execute_result"
    }
   ],
   "source": [
    "'On June 27, 1962, Phil St. Amant, a candidate for public office, made a television speech in Baton Rouge, Louisiana.  During this speech, St. Amant accused his political opponent of being a Communist and of being involved in criminal activities with the head of the local Teamsters Union.  Finally, St. Amant implicated Herman Thompson, an East Baton Rouge deputy sheriff, in a scheme to move money between the Teamsters Union and St. Amant’s political opponent. \\nThompson successfully sued St. Amant for defamation.  Louisiana’s First Circuit Court of Appeals reversed, holding that Thompson did not show St. Amant acted with “malice.”  Thompson then appealed to the Supreme Court of Louisiana.  That court held that, although public figures forfeit some of their First Amendment protection from defamation, St. Amant accused Thompson of a crime with utter disregard of whether the remarks were true.  Finally, that court held that the First Amendment protects uninhibited, robust debate, rather than an open season to shoot down the good name of anyone who happens to be a public servant. \\nFinally, the plaintiff'"
   ]
  },
  {
   "cell_type": "code",
   "execution_count": null,
   "id": "b27da013",
   "metadata": {},
   "outputs": [],
   "source": [
    "\n"
   ]
  }
 ],
 "metadata": {
  "kernelspec": {
   "display_name": "base",
   "language": "python",
   "name": "base"
  },
  "language_info": {
   "codemirror_mode": {
    "name": "ipython",
    "version": 3
   },
   "file_extension": ".py",
   "mimetype": "text/x-python",
   "name": "python",
   "nbconvert_exporter": "python",
   "pygments_lexer": "ipython3",
   "version": "3.8.16"
  }
 },
 "nbformat": 4,
 "nbformat_minor": 5
}
