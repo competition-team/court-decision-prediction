{
 "cells": [
  {
   "cell_type": "markdown",
   "id": "b3920ff2",
   "metadata": {},
   "source": [
    "# 1. Configurations"
   ]
  },
  {
   "cell_type": "markdown",
   "id": "050c1b34",
   "metadata": {},
   "source": [
    "## 1.1 Install Packages"
   ]
  },
  {
   "cell_type": "code",
   "execution_count": null,
   "id": "cc7984f7",
   "metadata": {},
   "outputs": [],
   "source": [
    "!pip install transformers loralib sentencepiece pycaret[full]"
   ]
  },
  {
   "cell_type": "markdown",
   "id": "cac2f920",
   "metadata": {},
   "source": [
    "## 1.2 Import Packages"
   ]
  },
  {
   "cell_type": "code",
   "execution_count": null,
   "id": "116f19a6",
   "metadata": {},
   "outputs": [],
   "source": [
    "import os\n",
    "from os.path import join, dirname, abspath\n",
    "import matplotlib.pyplot as plt\n",
    "import random\n",
    "import copy\n",
    "\n",
    "import numpy as np\n",
    "import pandas as pd\n",
    "\n",
    "import torch\n",
    "from torch import nn"
   ]
  },
  {
   "cell_type": "markdown",
   "id": "38300f28",
   "metadata": {},
   "source": [
    "## 1.3 Options"
   ]
  },
  {
   "cell_type": "code",
   "execution_count": null,
   "id": "410a53b3",
   "metadata": {},
   "outputs": [],
   "source": [
    "def seed_everything(seed: int = 42):\n",
    "    random.seed(seed)\n",
    "    np.random.seed(seed)\n",
    "    os.environ[\"PYTHONHASHSEED\"] = str(seed)\n",
    "    torch.manual_seed(seed)\n",
    "    torch.cuda.manual_seed(seed)  # type: ignore\n",
    "    torch.backends.cudnn.deterministic = True  # type: ignore\n",
    "    torch.backends.cudnn.benchmark = True  # type: ignore\n",
    "seed_everything()\n",
    "\n",
    "\n",
    "class PATH:\n",
    "    root   = '/root/court-decision-prediction'\n",
    "    yaml   = join(root, 'court_decision_prediction/configs.yaml')\n",
    "    data   = join(root, 'data/open')\n",
    "    train  = join(data, 'train.csv')\n",
    "    test   = join(data, 'test.csv')\n",
    "    sample = join(data, 'sample_submission.csv')\n",
    "    submit = join(root, 'submission')"
   ]
  },
  {
   "cell_type": "markdown",
   "id": "53a5d714",
   "metadata": {},
   "source": [
    "# 2. Load Dataset"
   ]
  },
  {
   "cell_type": "code",
   "execution_count": null,
   "id": "0d402373",
   "metadata": {},
   "outputs": [],
   "source": []
  }
 ],
 "metadata": {
  "kernelspec": {
   "display_name": "Python 3",
   "language": "python",
   "name": "python3"
  },
  "language_info": {
   "codemirror_mode": {
    "name": "ipython",
    "version": 3
   },
   "file_extension": ".py",
   "mimetype": "text/x-python",
   "name": "python",
   "nbconvert_exporter": "python",
   "pygments_lexer": "ipython3",
   "version": "3.10.12"
  }
 },
 "nbformat": 4,
 "nbformat_minor": 5
}
