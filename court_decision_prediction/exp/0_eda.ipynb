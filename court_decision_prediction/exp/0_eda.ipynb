{
 "cells": [
  {
   "cell_type": "code",
   "execution_count": 1,
   "id": "3dbcda06",
   "metadata": {
    "scrolled": true
   },
   "outputs": [],
   "source": [
    "%load_ext autoreload\n",
    "%autoreload 2\n",
    "import sys\n",
    "sys.path.append('../..')\n",
    "\n",
    "from court_decision_prediction.utils import *"
   ]
  },
  {
   "cell_type": "markdown",
   "id": "5ee06efa",
   "metadata": {},
   "source": [
    "# 1. Overview"
   ]
  },
  {
   "cell_type": "code",
   "execution_count": 2,
   "id": "a76ba9e0",
   "metadata": {},
   "outputs": [
    {
     "name": "stdout",
     "output_type": "stream",
     "text": [
      "<class 'pandas.core.frame.DataFrame'>\n",
      "RangeIndex: 2478 entries, 0 to 2477\n",
      "Data columns (total 5 columns):\n",
      " #   Column              Non-Null Count  Dtype \n",
      "---  ------              --------------  ----- \n",
      " 0   ID                  2478 non-null   object\n",
      " 1   first_party         2478 non-null   object\n",
      " 2   second_party        2478 non-null   object\n",
      " 3   facts               2478 non-null   object\n",
      " 4   first_party_winner  2478 non-null   int64 \n",
      "dtypes: int64(1), object(4)\n",
      "memory usage: 96.9+ KB\n"
     ]
    },
    {
     "data": {
      "text/html": [
       "<div>\n",
       "<style scoped>\n",
       "    .dataframe tbody tr th:only-of-type {\n",
       "        vertical-align: middle;\n",
       "    }\n",
       "\n",
       "    .dataframe tbody tr th {\n",
       "        vertical-align: top;\n",
       "    }\n",
       "\n",
       "    .dataframe thead th {\n",
       "        text-align: right;\n",
       "    }\n",
       "</style>\n",
       "<table border=\"1\" class=\"dataframe\">\n",
       "  <thead>\n",
       "    <tr style=\"text-align: right;\">\n",
       "      <th></th>\n",
       "      <th>ID</th>\n",
       "      <th>first_party</th>\n",
       "      <th>second_party</th>\n",
       "      <th>facts</th>\n",
       "      <th>first_party_winner</th>\n",
       "    </tr>\n",
       "  </thead>\n",
       "  <tbody>\n",
       "    <tr>\n",
       "      <th>0</th>\n",
       "      <td>TRAIN_0000</td>\n",
       "      <td>Phil A. St. Amant</td>\n",
       "      <td>Herman A. Thompson</td>\n",
       "      <td>On June 27, 1962, Phil St. Amant, a candidate for public office, made a television speech in Baton Rouge, Louisiana.  During this speech, St. Amant accused his political opponent of being a Communist and of being involved in criminal activities with the head of the local Teamsters Union.  Finally, St. Amant implicated Herman Thompson, an East Baton Rouge deputy sheriff, in a scheme to move money between the Teamsters Union and St. Amant’s political opponent. \\nThompson successfully sued St. Amant for defamation.  Louisiana’s First Circuit Court of Appeals reversed, holding that Thompson did not show St. Amant acted with “malice.”  Thompson then appealed to the Supreme Court of Louisiana.  That court held that, although public figures forfeit some of their First Amendment protection from defamation, St. Amant accused Thompson of a crime with utter disregard of whether the remarks were true.  Finally, that court held that the First Amendment protects uninhibited, robust debate, rathe...</td>\n",
       "      <td>1</td>\n",
       "    </tr>\n",
       "    <tr>\n",
       "      <th>1</th>\n",
       "      <td>TRAIN_0001</td>\n",
       "      <td>Stephen Duncan</td>\n",
       "      <td>Lawrence Owens</td>\n",
       "      <td>Ramon Nelson was riding his bike when he suffered a lethal blow to the back of his head with a baseball bat. After two eyewitnesses identified Lawrence Owens from an array of photos and then a lineup, he was tried and convicted for Nelson’s death. Because Nelson was carrying cocaine and crack cocaine potentially for distribution, the judge at Owens’ bench trial ruled that Owens was probably also a drug dealer and was trying to “knock [Nelson] off.” Owens was found guilty of first-degree murder and sentenced to 25 years in prison.\\nOwens filed a petition for a writ of habeas corpus on the grounds that his constitutional right to due process was violated during the trial. He argued that the eyewitness identification should have been inadmissible based on unreliability and that the judge impermissibly inferred a motive when a motive was not an element of the offense. The district court denied the writ of habeas corpus, and Owens appealed. The U.S. Court of Appeals for the Seventh Circ...</td>\n",
       "      <td>0</td>\n",
       "    </tr>\n",
       "    <tr>\n",
       "      <th>2</th>\n",
       "      <td>TRAIN_0002</td>\n",
       "      <td>Billy Joe Magwood</td>\n",
       "      <td>Tony Patterson, Warden, et al.</td>\n",
       "      <td>An Alabama state court convicted Billy Joe Magwood of murder and sentenced him to death. Subsequently, an Alabama federal district court partially granted Mr. Magwood's petition for federal habeas corpus relief. The court upheld his conviction but instructed the state court to look at mitigating evidence when resentencing Mr. Magwood. Upon resentencing, the state court sentenced Mr. Magwood to death once again. Mr. Magwood filed a second petition for federal habeas corpus relief with the federal district court arguing that a judicial rule was retroactively applied in his case and that he lacked effective counsel at sentencing. The district court granted the petition and vacated Mr. Magwood's death sentence.\\nOn appeal, the U.S. Court of Appeals for the Eleventh circuit reversed, holding that prisoners may not raise challenges to an original sentence that could have been raised in an earlier petition. The court also held that Mr. Magwood's counsel was not ineffective because he fail...</td>\n",
       "      <td>1</td>\n",
       "    </tr>\n",
       "    <tr>\n",
       "      <th>3</th>\n",
       "      <td>TRAIN_0003</td>\n",
       "      <td>Linkletter</td>\n",
       "      <td>Walker</td>\n",
       "      <td>Victor Linkletter was convicted in state court on evidence illegally obtained by police prior to the Supreme Court decision concerning the Fourth Amendment in Mapp v. Ohio. Mapp applied the exclusionary rule to state criminal proceedings, denying the use of illegally obtained evidence at trial. Linkletter argued for a retrial based on the Mapp decision.\\n</td>\n",
       "      <td>0</td>\n",
       "    </tr>\n",
       "    <tr>\n",
       "      <th>4</th>\n",
       "      <td>TRAIN_0004</td>\n",
       "      <td>William Earl Fikes</td>\n",
       "      <td>Alabama</td>\n",
       "      <td>On April 24, 1953 in Selma, Alabama, an intruder broke into the apartment of the daughter of the city mayor. The daughter and the intruder struggled through several rooms until she was able to seize his knife, and he fled. The assailant had a towel over his head, so the victim could not identify the defendant during the trial. The police apprehended William Earl Fikes on the basis of a call from a private citizen and held him “on an open charge of investigation.” The police questioned Fikes for hours, placed him in jail, and limited his access to anyone familiar. After nearly a week of this treatment, Fikes confessed in the form of answers to the interrogator’s leading questions. Five days later, Fikes confessed under questioning a second time. When these confessions were admitted into the trial as evidence, Fikes did not testify regarding the events surrounding his interrogation because the judge had ruled he would be subjected to unlimited cross-examination. The jury convicted Fi...</td>\n",
       "      <td>1</td>\n",
       "    </tr>\n",
       "  </tbody>\n",
       "</table>\n",
       "</div>"
      ],
      "text/plain": [
       "           ID         first_party                    second_party  \\\n",
       "0  TRAIN_0000   Phil A. St. Amant              Herman A. Thompson   \n",
       "1  TRAIN_0001      Stephen Duncan                  Lawrence Owens   \n",
       "2  TRAIN_0002   Billy Joe Magwood  Tony Patterson, Warden, et al.   \n",
       "3  TRAIN_0003          Linkletter                          Walker   \n",
       "4  TRAIN_0004  William Earl Fikes                         Alabama   \n",
       "\n",
       "                                                                                                                                                                                                                                                                                                                                                                                                                                                                                                                                                                                                                                                                                                                                                                                                                                                                                                                                                                                                                                     facts  \\\n",
       "0  On June 27, 1962, Phil St. Amant, a candidate for public office, made a television speech in Baton Rouge, Louisiana.  During this speech, St. Amant accused his political opponent of being a Communist and of being involved in criminal activities with the head of the local Teamsters Union.  Finally, St. Amant implicated Herman Thompson, an East Baton Rouge deputy sheriff, in a scheme to move money between the Teamsters Union and St. Amant’s political opponent. \\nThompson successfully sued St. Amant for defamation.  Louisiana’s First Circuit Court of Appeals reversed, holding that Thompson did not show St. Amant acted with “malice.”  Thompson then appealed to the Supreme Court of Louisiana.  That court held that, although public figures forfeit some of their First Amendment protection from defamation, St. Amant accused Thompson of a crime with utter disregard of whether the remarks were true.  Finally, that court held that the First Amendment protects uninhibited, robust debate, rathe...   \n",
       "1  Ramon Nelson was riding his bike when he suffered a lethal blow to the back of his head with a baseball bat. After two eyewitnesses identified Lawrence Owens from an array of photos and then a lineup, he was tried and convicted for Nelson’s death. Because Nelson was carrying cocaine and crack cocaine potentially for distribution, the judge at Owens’ bench trial ruled that Owens was probably also a drug dealer and was trying to “knock [Nelson] off.” Owens was found guilty of first-degree murder and sentenced to 25 years in prison.\\nOwens filed a petition for a writ of habeas corpus on the grounds that his constitutional right to due process was violated during the trial. He argued that the eyewitness identification should have been inadmissible based on unreliability and that the judge impermissibly inferred a motive when a motive was not an element of the offense. The district court denied the writ of habeas corpus, and Owens appealed. The U.S. Court of Appeals for the Seventh Circ...   \n",
       "2  An Alabama state court convicted Billy Joe Magwood of murder and sentenced him to death. Subsequently, an Alabama federal district court partially granted Mr. Magwood's petition for federal habeas corpus relief. The court upheld his conviction but instructed the state court to look at mitigating evidence when resentencing Mr. Magwood. Upon resentencing, the state court sentenced Mr. Magwood to death once again. Mr. Magwood filed a second petition for federal habeas corpus relief with the federal district court arguing that a judicial rule was retroactively applied in his case and that he lacked effective counsel at sentencing. The district court granted the petition and vacated Mr. Magwood's death sentence.\\nOn appeal, the U.S. Court of Appeals for the Eleventh circuit reversed, holding that prisoners may not raise challenges to an original sentence that could have been raised in an earlier petition. The court also held that Mr. Magwood's counsel was not ineffective because he fail...   \n",
       "3                                                                                                                                                                                                                                                                                                                                                                                                                                                                                                                                                                                                                                                                    Victor Linkletter was convicted in state court on evidence illegally obtained by police prior to the Supreme Court decision concerning the Fourth Amendment in Mapp v. Ohio. Mapp applied the exclusionary rule to state criminal proceedings, denying the use of illegally obtained evidence at trial. Linkletter argued for a retrial based on the Mapp decision.\\n   \n",
       "4  On April 24, 1953 in Selma, Alabama, an intruder broke into the apartment of the daughter of the city mayor. The daughter and the intruder struggled through several rooms until she was able to seize his knife, and he fled. The assailant had a towel over his head, so the victim could not identify the defendant during the trial. The police apprehended William Earl Fikes on the basis of a call from a private citizen and held him “on an open charge of investigation.” The police questioned Fikes for hours, placed him in jail, and limited his access to anyone familiar. After nearly a week of this treatment, Fikes confessed in the form of answers to the interrogator’s leading questions. Five days later, Fikes confessed under questioning a second time. When these confessions were admitted into the trial as evidence, Fikes did not testify regarding the events surrounding his interrogation because the judge had ruled he would be subjected to unlimited cross-examination. The jury convicted Fi...   \n",
       "\n",
       "   first_party_winner  \n",
       "0                   1  \n",
       "1                   0  \n",
       "2                   1  \n",
       "3                   0  \n",
       "4                   1  "
      ]
     },
     "execution_count": 2,
     "metadata": {},
     "output_type": "execute_result"
    }
   ],
   "source": [
    "data = pd.read_csv(PATH.train)\n",
    "data.info()\n",
    "data.head()"
   ]
  },
  {
   "cell_type": "code",
   "execution_count": 3,
   "id": "007be235",
   "metadata": {},
   "outputs": [],
   "source": [
    "pd.set_option('display.width', 500)"
   ]
  },
  {
   "cell_type": "code",
   "execution_count": 4,
   "id": "d7436515",
   "metadata": {},
   "outputs": [
    {
     "data": {
      "text/html": [
       "<div>\n",
       "<style scoped>\n",
       "    .dataframe tbody tr th:only-of-type {\n",
       "        vertical-align: middle;\n",
       "    }\n",
       "\n",
       "    .dataframe tbody tr th {\n",
       "        vertical-align: top;\n",
       "    }\n",
       "\n",
       "    .dataframe thead th {\n",
       "        text-align: right;\n",
       "    }\n",
       "</style>\n",
       "<table border=\"1\" class=\"dataframe\">\n",
       "  <thead>\n",
       "    <tr style=\"text-align: right;\">\n",
       "      <th></th>\n",
       "      <th>ID</th>\n",
       "      <th>first_party</th>\n",
       "      <th>second_party</th>\n",
       "      <th>facts</th>\n",
       "      <th>first_party_winner</th>\n",
       "    </tr>\n",
       "  </thead>\n",
       "  <tbody>\n",
       "    <tr>\n",
       "      <th>0</th>\n",
       "      <td>TRAIN_0000</td>\n",
       "      <td>Phil A. St. Amant</td>\n",
       "      <td>Herman A. Thompson</td>\n",
       "      <td>On June 27, 1962, Phil St. Amant, a candidate for public office, made a television speech in Baton Rouge, Louisiana.  During this speech, St. Amant accused his political opponent of being a Communist and of being involved in criminal activities with the head of the local Teamsters Union.  Finally, St. Amant implicated Herman Thompson, an East Baton Rouge deputy sheriff, in a scheme to move money between the Teamsters Union and St. Amant’s political opponent. \\nThompson successfully sued St. Amant for defamation.  Louisiana’s First Circuit Court of Appeals reversed, holding that Thompson did not show St. Amant acted with “malice.”  Thompson then appealed to the Supreme Court of Louisiana.  That court held that, although public figures forfeit some of their First Amendment protection from defamation, St. Amant accused Thompson of a crime with utter disregard of whether the remarks were true.  Finally, that court held that the First Amendment protects uninhibited, robust debate, rathe...</td>\n",
       "      <td>1</td>\n",
       "    </tr>\n",
       "    <tr>\n",
       "      <th>1</th>\n",
       "      <td>TRAIN_0001</td>\n",
       "      <td>Stephen Duncan</td>\n",
       "      <td>Lawrence Owens</td>\n",
       "      <td>Ramon Nelson was riding his bike when he suffered a lethal blow to the back of his head with a baseball bat. After two eyewitnesses identified Lawrence Owens from an array of photos and then a lineup, he was tried and convicted for Nelson’s death. Because Nelson was carrying cocaine and crack cocaine potentially for distribution, the judge at Owens’ bench trial ruled that Owens was probably also a drug dealer and was trying to “knock [Nelson] off.” Owens was found guilty of first-degree murder and sentenced to 25 years in prison.\\nOwens filed a petition for a writ of habeas corpus on the grounds that his constitutional right to due process was violated during the trial. He argued that the eyewitness identification should have been inadmissible based on unreliability and that the judge impermissibly inferred a motive when a motive was not an element of the offense. The district court denied the writ of habeas corpus, and Owens appealed. The U.S. Court of Appeals for the Seventh Circ...</td>\n",
       "      <td>0</td>\n",
       "    </tr>\n",
       "  </tbody>\n",
       "</table>\n",
       "</div>"
      ],
      "text/plain": [
       "           ID        first_party        second_party  \\\n",
       "0  TRAIN_0000  Phil A. St. Amant  Herman A. Thompson   \n",
       "1  TRAIN_0001     Stephen Duncan      Lawrence Owens   \n",
       "\n",
       "                                                                                                                                                                                                                                                                                                                                                                                                                                                                                                                                                                                                                                                                                                                                                                                                                                                                                                                                                                                                                                     facts  \\\n",
       "0  On June 27, 1962, Phil St. Amant, a candidate for public office, made a television speech in Baton Rouge, Louisiana.  During this speech, St. Amant accused his political opponent of being a Communist and of being involved in criminal activities with the head of the local Teamsters Union.  Finally, St. Amant implicated Herman Thompson, an East Baton Rouge deputy sheriff, in a scheme to move money between the Teamsters Union and St. Amant’s political opponent. \\nThompson successfully sued St. Amant for defamation.  Louisiana’s First Circuit Court of Appeals reversed, holding that Thompson did not show St. Amant acted with “malice.”  Thompson then appealed to the Supreme Court of Louisiana.  That court held that, although public figures forfeit some of their First Amendment protection from defamation, St. Amant accused Thompson of a crime with utter disregard of whether the remarks were true.  Finally, that court held that the First Amendment protects uninhibited, robust debate, rathe...   \n",
       "1  Ramon Nelson was riding his bike when he suffered a lethal blow to the back of his head with a baseball bat. After two eyewitnesses identified Lawrence Owens from an array of photos and then a lineup, he was tried and convicted for Nelson’s death. Because Nelson was carrying cocaine and crack cocaine potentially for distribution, the judge at Owens’ bench trial ruled that Owens was probably also a drug dealer and was trying to “knock [Nelson] off.” Owens was found guilty of first-degree murder and sentenced to 25 years in prison.\\nOwens filed a petition for a writ of habeas corpus on the grounds that his constitutional right to due process was violated during the trial. He argued that the eyewitness identification should have been inadmissible based on unreliability and that the judge impermissibly inferred a motive when a motive was not an element of the offense. The district court denied the writ of habeas corpus, and Owens appealed. The U.S. Court of Appeals for the Seventh Circ...   \n",
       "\n",
       "   first_party_winner  \n",
       "0                   1  \n",
       "1                   0  "
      ]
     },
     "execution_count": 4,
     "metadata": {},
     "output_type": "execute_result"
    }
   ],
   "source": [
    "data.head(2)"
   ]
  },
  {
   "cell_type": "code",
   "execution_count": 11,
   "id": "eb32ab9b",
   "metadata": {},
   "outputs": [
    {
     "data": {
      "text/html": [
       "<div>\n",
       "<style scoped>\n",
       "    .dataframe tbody tr th:only-of-type {\n",
       "        vertical-align: middle;\n",
       "    }\n",
       "\n",
       "    .dataframe tbody tr th {\n",
       "        vertical-align: top;\n",
       "    }\n",
       "\n",
       "    .dataframe thead th {\n",
       "        text-align: right;\n",
       "    }\n",
       "</style>\n",
       "<table border=\"1\" class=\"dataframe\">\n",
       "  <thead>\n",
       "    <tr style=\"text-align: right;\">\n",
       "      <th></th>\n",
       "      <th>ID</th>\n",
       "      <th>first_party</th>\n",
       "      <th>second_party</th>\n",
       "      <th>facts</th>\n",
       "      <th>first_party_winner</th>\n",
       "    </tr>\n",
       "  </thead>\n",
       "  <tbody>\n",
       "    <tr>\n",
       "      <th>0</th>\n",
       "      <td>TRAIN_0000</td>\n",
       "      <td>Phil A. St. Amant</td>\n",
       "      <td>Herman A. Thompson</td>\n",
       "      <td>On June 27, 1962, Phil St. Amant, a candidate for public office, made a television speech in Baton Rouge, Louisiana.  During this speech, St. Amant accused his political opponent of being a Communist and of being involved in criminal activities with the head of the local Teamsters Union.  Finally, St. Amant implicated Herman Thompson, an East Baton Rouge deputy sheriff, in a scheme to move money between the Teamsters Union and St. Amant’s political opponent. \\nThompson successfully sued St. Amant for defamation.  Louisiana’s First Circuit Court of Appeals reversed, holding that Thompson did not show St. Amant acted with “malice.”  Thompson then appealed to the Supreme Court of Louisiana.  That court held that, although public figures forfeit some of their First Amendment protection from defamation, St. Amant accused Thompson of a crime with utter disregard of whether the remarks were true.  Finally, that court held that the First Amendment protects uninhibited, robust debate, rathe...</td>\n",
       "      <td>1</td>\n",
       "    </tr>\n",
       "  </tbody>\n",
       "</table>\n",
       "</div>"
      ],
      "text/plain": [
       "           ID        first_party        second_party  \\\n",
       "0  TRAIN_0000  Phil A. St. Amant  Herman A. Thompson   \n",
       "\n",
       "                                                                                                                                                                                                                                                                                                                                                                                                                                                                                                                                                                                                                                                                                                                                                                                                                                                                                                                                                                                                                                     facts  \\\n",
       "0  On June 27, 1962, Phil St. Amant, a candidate for public office, made a television speech in Baton Rouge, Louisiana.  During this speech, St. Amant accused his political opponent of being a Communist and of being involved in criminal activities with the head of the local Teamsters Union.  Finally, St. Amant implicated Herman Thompson, an East Baton Rouge deputy sheriff, in a scheme to move money between the Teamsters Union and St. Amant’s political opponent. \\nThompson successfully sued St. Amant for defamation.  Louisiana’s First Circuit Court of Appeals reversed, holding that Thompson did not show St. Amant acted with “malice.”  Thompson then appealed to the Supreme Court of Louisiana.  That court held that, although public figures forfeit some of their First Amendment protection from defamation, St. Amant accused Thompson of a crime with utter disregard of whether the remarks were true.  Finally, that court held that the First Amendment protects uninhibited, robust debate, rathe...   \n",
       "\n",
       "   first_party_winner  \n",
       "0                   1  "
      ]
     },
     "execution_count": 11,
     "metadata": {},
     "output_type": "execute_result"
    }
   ],
   "source": [
    "data.head(1)"
   ]
  },
  {
   "cell_type": "markdown",
   "id": "08753ce9",
   "metadata": {},
   "source": [
    "# 2. `party` vs `first_party_winner`"
   ]
  },
  {
   "cell_type": "code",
   "execution_count": null,
   "id": "5c9ce506",
   "metadata": {},
   "outputs": [],
   "source": [
    "fp, sp = data['first_party'], data['second_party']\n",
    "target = data['first_party_winner']"
   ]
  },
  {
   "cell_type": "code",
   "execution_count": null,
   "id": "2ab289bf",
   "metadata": {},
   "outputs": [],
   "source": [
    "target_mean_global = target.mean()\n",
    "\n",
    "print(target.value_counts())\n",
    "print(target_mean_global)\n",
    "sns.histplot(target, stat='probability');"
   ]
  },
  {
   "cell_type": "markdown",
   "id": "c60f0f75",
   "metadata": {},
   "source": [
    "- Unbalanced target \\\n",
    "`target=1` 약 66%"
   ]
  },
  {
   "cell_type": "code",
   "execution_count": null,
   "id": "6a3f2059",
   "metadata": {},
   "outputs": [],
   "source": [
    "fp.value_counts().to_frame().head(20).T"
   ]
  },
  {
   "cell_type": "code",
   "execution_count": null,
   "id": "a900f514",
   "metadata": {},
   "outputs": [],
   "source": [
    "sp.value_counts().to_frame().head(20).T"
   ]
  },
  {
   "cell_type": "markdown",
   "id": "d6696381",
   "metadata": {},
   "source": [
    "- `party`에는 `Uited States`가 가장 많고, 동일 대상을 지칭하는 여러 단어들을 통합할 필요가 있음\n",
    "- `united states`, `states`, `other`로 나누어보고, `other`를 좀 더 세분화할 필요가 있음"
   ]
  },
  {
   "cell_type": "code",
   "execution_count": null,
   "id": "9cefdafb",
   "metadata": {},
   "outputs": [],
   "source": [
    "states = list(map(str.lower, ['Alabama', 'Alaska', 'Arizona', 'Arkansas', 'California', 'Colorado', 'Connecticut', 'Delaware', 'Florida', 'Georgia', 'Hawaii', 'Idaho', 'Illinois', 'Indiana', 'Iowa', 'Kansas', 'Kentucky', 'Louisiana', 'Maine', 'Maryland', 'Massachusetts', 'Michigan', 'Minnesota', 'Mississippi', 'Missouri', 'Montana', 'Nebraska', 'Nevada', 'New Hampshire', 'New Jersey', 'New Mexico', 'New York', 'North Carolina', 'North Dakota', 'Ohio', 'Oklahoma', 'Oregon', 'Pennsylvania', 'Rhode Island', 'South Carolina', 'South Dakota', 'Tennessee', 'Texas', 'Utah', 'Vermont', 'Virginia', 'Washington', 'West Virginia', 'Wisconsin', 'Wyoming']))\n",
    "cities = ['new york', 'los angeles', 'chicago', 'houston', 'phoenix', 'philadelphia', 'san antonio', 'san diego', 'dallas', 'san francisco', 'oakland', 'austin', 'jacksonville', 'san jose', 'california', 'indianapolis', 'seattle', 'denver', 'washington', 'boston', 'el paso', 'nashville', 'detroit', 'oklahoma', 'portland', 'las vegas', 'memphis', 'louisville', 'baltimore', 'milwaukee', 'albuquerque', 'tucson', 'fresno', 'mesa', 'sacramento', 'atlanta', 'kansas city', 'colorado springs', 'omaha', 'raleigh', 'miami', 'long beach', 'virginia beach', 'oakland', 'minneapolis', 'tulsa', 'tampa', 'arlington', 'new orleans', 'wichita', 'cleveland', 'bakersfield', 'aurora', 'anaheim', 'honolulu', 'santa ana', 'riverside', 'corpus christi', 'lexington', 'stockton', 'anchorage', 'st. paul', 'newark', 'buffalo', 'plano', 'henderson', 'fort wayne', 'greensboro', 'lincoln', 'glendale', 'chandler', 'st. petersburg', 'jersey city', 'scottsdale', 'norfolk', 'madison', 'orlando', 'birmingham', 'baton rouge', 'durham', 'laredo', 'garland', 'chula vista', 'riverside', 'hialeah', 'lubbock', 'reno', 'north las vegas', 'akron', 'gilbert', 'rochester', 'boise', 'spokane']"
   ]
  },
  {
   "cell_type": "code",
   "execution_count": null,
   "id": "7ad5cfb3",
   "metadata": {},
   "outputs": [],
   "source": [
    "def generate_fn(col):\n",
    "    def fn(row):\n",
    "        party = row[col].lower()\n",
    "        \n",
    "        # 1. Check US\n",
    "        if ('united states' in party) or ('federal' in party):\n",
    "            return 'united states'\n",
    "        else:\n",
    "            # 2. Check state\n",
    "            for state in states:\n",
    "                if state in party:\n",
    "                    return 'state'\n",
    "        return 'other'\n",
    "    return fn\n",
    "    \n",
    "data['first_party_grp']  = data.apply(generate_fn('first_party'), axis=1)\n",
    "data['second_party_grp'] = data.apply(generate_fn('second_party'), axis=1)"
   ]
  },
  {
   "cell_type": "code",
   "execution_count": null,
   "id": "3c0180fb",
   "metadata": {},
   "outputs": [],
   "source": [
    "data.head()"
   ]
  },
  {
   "cell_type": "code",
   "execution_count": null,
   "id": "cacf9210",
   "metadata": {},
   "outputs": [],
   "source": [
    "data['grp'] = list(zip(data['first_party_grp'], data['second_party_grp']))\n",
    "data['grp'] = data['grp'].astype('string')"
   ]
  },
  {
   "cell_type": "code",
   "execution_count": null,
   "id": "21e8a063",
   "metadata": {},
   "outputs": [],
   "source": [
    "parties_grp = pd.concat([data['first_party_grp'], data['second_party_grp']], ignore_index=True)\n",
    "parties_grp.value_counts()"
   ]
  },
  {
   "cell_type": "markdown",
   "id": "1ed0872c",
   "metadata": {},
   "source": [
    "- `other`가 너무 많아서 좀 나누고 싶다. us, state인데 other로 잘못 분류된 친구들이라던지, 기업이라던지"
   ]
  },
  {
   "cell_type": "code",
   "execution_count": null,
   "id": "1fdc2fa1",
   "metadata": {},
   "outputs": [],
   "source": [
    "parties = pd.concat([data['first_party'], data['second_party']], ignore_index=True)\n",
    "parties.value_counts()"
   ]
  },
  {
   "cell_type": "code",
   "execution_count": null,
   "id": "0d6577e7",
   "metadata": {},
   "outputs": [],
   "source": [
    "parties_concat = pd.concat([parties, parties_grp], axis=1, keys=['party', 'party_grp'])\n",
    "parties_concat"
   ]
  },
  {
   "cell_type": "code",
   "execution_count": null,
   "id": "e0ac3840",
   "metadata": {},
   "outputs": [],
   "source": [
    "parties_other = parties_concat[parties_concat['party_grp'] == 'other'][['party']]\n",
    "parties_other"
   ]
  },
  {
   "cell_type": "code",
   "execution_count": null,
   "id": "7ffa4d03",
   "metadata": {
    "scrolled": true
   },
   "outputs": [],
   "source": [
    "parties_other.value_counts().to_frame().head(10)"
   ]
  },
  {
   "cell_type": "code",
   "execution_count": null,
   "id": "bd3ac3eb",
   "metadata": {
    "scrolled": true
   },
   "outputs": [],
   "source": [
    "parties_other.value_counts().to_frame()"
   ]
  },
  {
   "cell_type": "markdown",
   "id": "4ee35197",
   "metadata": {},
   "source": [
    "- 좀 더 자세히 나눌 수 있을 것 같다.\n",
    "    - 'united states': 'Commision', 'Commodity'\n",
    "    - 'state': 'School Board', 'City'\n",
    "    - 'group1': 'Corporation', 'Inc', 'Company', 'Bank', 'Association', 'Republic', 'LLC', 'Co.'\n",
    "    - 'group2': , (쉼표)\n",
    "    - 'indiv': 나머지"
   ]
  },
  {
   "cell_type": "code",
   "execution_count": null,
   "id": "18c65d23",
   "metadata": {},
   "outputs": [],
   "source": [
    "def append_party_group(data):\n",
    "    def generate_fn(col):\n",
    "        def fn(row):\n",
    "            party = row[col].lower()\n",
    "\n",
    "            keywords1 = ['united states', 'federal', 'commision', 'commodity', 'national']\n",
    "            keywords2 = states + cities + ['school board', 'city', 'republic', 'region', 'district', 'county']\n",
    "            keywords3 = ['corporation', 'inc', 'company', 'bank', 'association', 'llc', 'co.', 'hospital', 'usa', 'school', 'group', 'office', 'department']\n",
    "            keywords4 = [',', 'et al']\n",
    "\n",
    "            for grp, keywords in zip(['united states', 'states', 'group1', 'group2'],\n",
    "                                    [keywords1, keywords2, keywords3, keywords4]):\n",
    "                for key in keywords:\n",
    "                    if key in party:\n",
    "                        return grp\n",
    "            return 'indiv'\n",
    "        return fn\n",
    "\n",
    "    data['first_party_grp']  = data.apply(generate_fn('first_party'), axis=1)\n",
    "    data['second_party_grp'] = data.apply(generate_fn('second_party'), axis=1)    \n",
    "\n",
    "\n",
    "data = pd.read_csv(PATH.train)\n",
    "append_party_group(data)"
   ]
  },
  {
   "cell_type": "code",
   "execution_count": null,
   "id": "18c140a9",
   "metadata": {},
   "outputs": [],
   "source": [
    "parties     = pd.concat([data['first_party'], data['second_party']], ignore_index=True)\n",
    "parties_grp = pd.concat([data['first_party_grp'], data['second_party_grp']], ignore_index=True)\n",
    "parties_concat = pd.concat([parties, parties_grp], axis=1, keys=['party', 'party_grp'])\n",
    "parties_concat['party_grp'].value_counts().to_frame()"
   ]
  },
  {
   "cell_type": "code",
   "execution_count": null,
   "id": "95d1df0c",
   "metadata": {
    "scrolled": false
   },
   "outputs": [],
   "source": [
    "parties_concat[parties_concat['party_grp'] == 'indiv'].head(10)"
   ]
  },
  {
   "cell_type": "markdown",
   "id": "7b597dc9",
   "metadata": {},
   "source": [
    "---"
   ]
  },
  {
   "cell_type": "code",
   "execution_count": null,
   "id": "a485496f",
   "metadata": {},
   "outputs": [],
   "source": [
    "conf = data.pivot_table(index='first_party_grp', columns='second_party_grp', values='first_party_winner')\n",
    "sns.heatmap(conf, annot=True, center=target_mean_global, cmap='coolwarm');"
   ]
  },
  {
   "cell_type": "code",
   "execution_count": null,
   "id": "44cc998b",
   "metadata": {},
   "outputs": [],
   "source": [
    "sns.heatmap(conf - target_mean_global, cmap='coolwarm', center=0, annot=True);"
   ]
  },
  {
   "cell_type": "markdown",
   "id": "19a33f19",
   "metadata": {},
   "source": [
    "- 3개 pair가 가장 눈에 띤다.\n",
    "    - (group2, indiv)\n",
    "    - (united states, group2)\n",
    "    - (indiv, united states)"
   ]
  },
  {
   "cell_type": "code",
   "execution_count": null,
   "id": "a9a76c25",
   "metadata": {},
   "outputs": [],
   "source": [
    "select = lambda grp1, grp2: data[(data['first_party_grp'] == grp1) & (data['second_party_grp'] == grp2)]\n",
    "pair1 = select('group2', 'indiv')\n",
    "pair2 = select('united states', 'group2')\n",
    "pair3 = select('indiv', 'united states')"
   ]
  },
  {
   "cell_type": "code",
   "execution_count": null,
   "id": "5250ce8e",
   "metadata": {},
   "outputs": [],
   "source": [
    "len(pair1), len(pair2), len(pair3)"
   ]
  },
  {
   "cell_type": "code",
   "execution_count": null,
   "id": "b59ce064",
   "metadata": {},
   "outputs": [],
   "source": [
    "pair1"
   ]
  },
  {
   "cell_type": "code",
   "execution_count": null,
   "id": "923147aa",
   "metadata": {},
   "outputs": [],
   "source": [
    "pair1.values[0][3]"
   ]
  },
  {
   "cell_type": "markdown",
   "id": "6608a83b",
   "metadata": {},
   "source": [
    "1. 헥터 아야라는 히스패닉 남성으로서 캘리포니아 주에서 살인과 살인시도 혐의로 기소되었다.\n",
    "2. 배심원 선출 절차에서 검찰은 검은 인종과 히스패닉 출신 배심원을 배제하기 위해 예견적 도전을 사용했다.\n",
    "3. 아야라는 이를 인종적인 차별로 보고 Batson 판결을 인용하여 반박했다.\n",
    "4. 주 법원은 비공개 회의에서 검찰이 비인종적 동기를 제시할 수 있도록 허용했으며, 검찰의 예견적 도전은 인종적 동기가 아니라고 결정되었다.\n",
    "5. 아야라와 변호인은 청취회의에서 제외되었고, 회의 내용이나 이유를 알지 못했다.\n",
    "6. 재판 이후, 배심원 설문지 대부분이 분실된 사실이 밝혀졌다.\n",
    "7. 캘리포니아 주 최고법원은 상소 절차에서 오류가 있었지만 가벼운 영향을 미쳤으며, 따라서 아야라의 유죄 판결을 유지했다.\n",
    "8. 아야라는 미국 제9 회로항소법원에 상소하였고, 이는 Batson 청취회의에서 제외된 점과 설문지 손실이 그의 헌법적 권리를 침해했다는 주장이다."
   ]
  },
  {
   "cell_type": "markdown",
   "id": "d7be0b74",
   "metadata": {},
   "source": [
    "- 죄명에 대한 분류도 있으면 좋을 것 같다"
   ]
  },
  {
   "cell_type": "code",
   "execution_count": null,
   "id": "3cc5bf4f",
   "metadata": {},
   "outputs": [],
   "source": [
    "pair2"
   ]
  },
  {
   "cell_type": "code",
   "execution_count": null,
   "id": "b7e9e407",
   "metadata": {},
   "outputs": [],
   "source": [
    "pair2.iloc[0, 3]"
   ]
  },
  {
   "cell_type": "markdown",
   "id": "23ea1dac",
   "metadata": {},
   "source": [
    "1. 1929년 10월 글로벌 주식시장 대폭락 직전, 독일의 몇몇 유대인 예술품 상인들이 중세 성자유물 컬렉션을 구입했다.\n",
    "2. 세계 대공황으로 인해 상인들은 그 중 약 절반을 판매하고 나머지를 네덜란드에 보관했다.\n",
    "3. 나치 지도자들은 상인들과 남은 작품을 구매하기 위해 협상을 진행했으며, 이 협상이 억압적인 상황에서 이루어졌는지에 대해 당사자들 간에 분쟁이 있다.\n",
    "4. 제2차 세계대전 이후, 해당 컬렉션은 프로이센 주의 문화 자산을 소유하는 독일 정부 기관인 슈티프퉁 프로이시셔 쿨투어베짓(\"SPK\")에 이전되었으며, 그 이후로 거의 연속적으로 독일 박물관에서 전시되어왔다.\n",
    "5. 2014년, 해당 유대인 예술품 상인들의 후계인들은 \"나치의 박해, 특히 유대인의 재산으로 인해 압수된 문화재를 반환하기 위한 자문위원회\"라는 비결정적 중재 과정에 참여했다.\n",
    "6. 후계인들은 이 중재 결정이 \"미리 결정된 결론\"으로서 증거에 반하여 재산의 반환을 권장하지 않았다고 주장한다.\n",
    "7. 후계인들은 \"외국 국가주권 면제법\"의 압수 예외 조항을 인용하여 자신들의 청구에 대한 관할 기준으로 미국 컬럼비아 지방 법원에 소송을 제기했다.\n",
    "8. 독일과 SPK는 기각을 구하고 지방 법원은 대부분의 청구를 인정하여 압수 예외 범위에 해당된다고 결정했다.\n",
    "9. 독일과 SPK는 항소하였고, 미국 컬럼비아 지방 법원의 항소법원은 관할권에 대해 확정판결을 내리며, 인류학적 압수는 국제법 위반으로 본다는 이전 사례의 입장을 재확인하고 국제 예의의 원칙에 기반한 독일과 SPK의 주장을 거부했다."
   ]
  },
  {
   "cell_type": "code",
   "execution_count": null,
   "id": "364f8f1d",
   "metadata": {},
   "outputs": [],
   "source": [
    "pair3"
   ]
  },
  {
   "cell_type": "code",
   "execution_count": null,
   "id": "a496871e",
   "metadata": {},
   "outputs": [],
   "source": [
    "pair3.iloc[0, 3]"
   ]
  },
  {
   "cell_type": "markdown",
   "id": "88d2b393",
   "metadata": {},
   "source": [
    "1. 2004년, 스티븐 스피어스는 적어도 50그램의 크랙 코카인과 500그램의 파우더 코카인을 유통하는 협의죄로 기소되었고 유죄 판결을 받았다.\n",
    "2. 지방 법원은 미국 판결 위원회의 지침서(Guidelines)가 사용하는 크랙 코카인과 파우더 코카인에 대한 100:1 무게 비율이 상황을 고려할 때 과도하다고 판단하여 대신 20:1 비율을 기준으로 판결을 내렸다.\n",
    "3. 제8 회로 상급법원은 지방 법원이 유죄 판결에 적용할 비율을 결정할 수 없으며, 스피어스 사건을 재심과 처벌을 위해 다시 회부하였다.\n",
    "4. 대법원은 합의를 인정하고 재심을 위해 사건을 재회부하하였으며, 대법원의 판결인 Kimbrough v. United States를 고려하여 재심할 것을 명시했다. 해당 사건에서 대법원은 판결서가 권고적이며, 지침서의 규정된 비율에 대한 불일치로 인해 크랙 코카인과 파우더 코카인 사이에 생성되는 불균형에 대한 의견 차이로 인해 지방 법원이 지침서에서 규정한 비율과 다른 비율로 벗어나는 것은 재량권의 남용으로 보지 않는다고 판결하였다.\n",
    "5. 재심에서, 항소법원은 지방 법원이 지침서의 비율을 범주적으로 거부하고 자체 비율로 대체하는 것이 잘못되었다고 다시 판결했다."
   ]
  },
  {
   "cell_type": "code",
   "execution_count": null,
   "id": "e29c7a7a",
   "metadata": {},
   "outputs": [],
   "source": []
  },
  {
   "cell_type": "code",
   "execution_count": null,
   "id": "abf27b00",
   "metadata": {},
   "outputs": [],
   "source": []
  },
  {
   "cell_type": "markdown",
   "id": "701d99c8",
   "metadata": {},
   "source": [
    "---"
   ]
  }
 ],
 "metadata": {
  "kernelspec": {
   "display_name": "Python 3 (ipykernel)",
   "language": "python",
   "name": "python3"
  },
  "language_info": {
   "codemirror_mode": {
    "name": "ipython",
    "version": 3
   },
   "file_extension": ".py",
   "mimetype": "text/x-python",
   "name": "python",
   "nbconvert_exporter": "python",
   "pygments_lexer": "ipython3",
   "version": "3.8.16"
  }
 },
 "nbformat": 4,
 "nbformat_minor": 5
}
