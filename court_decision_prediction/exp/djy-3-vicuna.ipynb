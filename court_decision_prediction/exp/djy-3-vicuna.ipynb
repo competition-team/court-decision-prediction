{
 "cells": [
  {
   "cell_type": "markdown",
   "id": "39a79910",
   "metadata": {},
   "source": [
    "# Import Packages"
   ]
  },
  {
   "cell_type": "code",
   "execution_count": 1,
   "id": "a9f8c939",
   "metadata": {
    "collapsed": true
   },
   "outputs": [
    {
     "name": "stdout",
     "output_type": "stream",
     "text": [
      "Requirement already satisfied: transformers in /usr/local/lib/python3.10/dist-packages (4.30.2)\n",
      "Requirement already satisfied: loralib in /usr/local/lib/python3.10/dist-packages (0.1.1)\n",
      "Requirement already satisfied: sentencepiece in /usr/local/lib/python3.10/dist-packages (0.1.99)\n",
      "Requirement already satisfied: filelock in /usr/local/lib/python3.10/dist-packages (from transformers) (3.12.2)\n",
      "Requirement already satisfied: huggingface-hub<1.0,>=0.14.1 in /usr/local/lib/python3.10/dist-packages (from transformers) (0.15.1)\n",
      "Requirement already satisfied: numpy>=1.17 in /usr/local/lib/python3.10/dist-packages (from transformers) (1.22.4)\n",
      "Requirement already satisfied: packaging>=20.0 in /usr/local/lib/python3.10/dist-packages (from transformers) (23.1)\n",
      "Requirement already satisfied: pyyaml>=5.1 in /usr/local/lib/python3.10/dist-packages (from transformers) (6.0)\n",
      "Requirement already satisfied: regex!=2019.12.17 in /usr/local/lib/python3.10/dist-packages (from transformers) (2022.10.31)\n",
      "Requirement already satisfied: requests in /usr/local/lib/python3.10/dist-packages (from transformers) (2.27.1)\n",
      "Requirement already satisfied: tokenizers!=0.11.3,<0.14,>=0.11.1 in /usr/local/lib/python3.10/dist-packages (from transformers) (0.13.3)\n",
      "Requirement already satisfied: safetensors>=0.3.1 in /usr/local/lib/python3.10/dist-packages (from transformers) (0.3.1)\n",
      "Requirement already satisfied: tqdm>=4.27 in /usr/local/lib/python3.10/dist-packages (from transformers) (4.65.0)\n",
      "Requirement already satisfied: fsspec in /usr/local/lib/python3.10/dist-packages (from huggingface-hub<1.0,>=0.14.1->transformers) (2023.6.0)\n",
      "Requirement already satisfied: typing-extensions>=3.7.4.3 in /usr/local/lib/python3.10/dist-packages (from huggingface-hub<1.0,>=0.14.1->transformers) (4.6.3)\n",
      "Requirement already satisfied: urllib3<1.27,>=1.21.1 in /usr/local/lib/python3.10/dist-packages (from requests->transformers) (1.26.16)\n",
      "Requirement already satisfied: certifi>=2017.4.17 in /usr/local/lib/python3.10/dist-packages (from requests->transformers) (2023.5.7)\n",
      "Requirement already satisfied: charset-normalizer~=2.0.0 in /usr/local/lib/python3.10/dist-packages (from requests->transformers) (2.0.12)\n",
      "Requirement already satisfied: idna<4,>=2.5 in /usr/local/lib/python3.10/dist-packages (from requests->transformers) (3.4)\n"
     ]
    }
   ],
   "source": [
    "!pip install transformers loralib sentencepiece "
   ]
  },
  {
   "cell_type": "code",
   "execution_count": 2,
   "id": "c26459a4",
   "metadata": {},
   "outputs": [],
   "source": [
    "import os\n",
    "from os.path import join, dirname, abspath\n",
    "import matplotlib.pyplot as plt\n",
    "import random\n",
    "import copy\n",
    "\n",
    "import numpy as np\n",
    "import pandas as pd\n",
    "\n",
    "import torch\n",
    "from torch import nn"
   ]
  },
  {
   "cell_type": "markdown",
   "id": "4283b375",
   "metadata": {},
   "source": [
    "# Options"
   ]
  },
  {
   "cell_type": "code",
   "execution_count": 3,
   "id": "77b4d248",
   "metadata": {},
   "outputs": [],
   "source": [
    "def seed_everything(seed: int = 42):\n",
    "    random.seed(seed)\n",
    "    np.random.seed(seed)\n",
    "    os.environ[\"PYTHONHASHSEED\"] = str(seed)\n",
    "    torch.manual_seed(seed)\n",
    "    torch.cuda.manual_seed(seed)  # type: ignore\n",
    "    torch.backends.cudnn.deterministic = True  # type: ignore\n",
    "    torch.backends.cudnn.benchmark = True  # type: ignore\n",
    "seed_everything()"
   ]
  },
  {
   "cell_type": "code",
   "execution_count": 4,
   "id": "78ad569a",
   "metadata": {},
   "outputs": [],
   "source": [
    "class PATH:\n",
    "    root   = '/root/court-decision-prediction'\n",
    "    yaml   = join(root, 'court_decision_prediction/configs.yaml')\n",
    "    data   = join(root, 'data/open')\n",
    "    train  = join(data, 'train.csv')\n",
    "    test   = join(data, 'test.csv')\n",
    "    sample = join(data, 'sample_submission.csv')\n",
    "    submit = join(root, 'submission')"
   ]
  },
  {
   "cell_type": "markdown",
   "id": "48d14d9f",
   "metadata": {},
   "source": [
    "# 1. Load dataset"
   ]
  },
  {
   "cell_type": "code",
   "execution_count": 222,
   "id": "d66c78c5",
   "metadata": {},
   "outputs": [
    {
     "data": {
      "text/html": [
       "\n",
       "  <div id=\"df-d7492ad8-26de-4407-9a85-af1fdcf59376\">\n",
       "    <div class=\"colab-df-container\">\n",
       "      <div>\n",
       "<style scoped>\n",
       "    .dataframe tbody tr th:only-of-type {\n",
       "        vertical-align: middle;\n",
       "    }\n",
       "\n",
       "    .dataframe tbody tr th {\n",
       "        vertical-align: top;\n",
       "    }\n",
       "\n",
       "    .dataframe thead th {\n",
       "        text-align: right;\n",
       "    }\n",
       "</style>\n",
       "<table border=\"1\" class=\"dataframe\">\n",
       "  <thead>\n",
       "    <tr style=\"text-align: right;\">\n",
       "      <th></th>\n",
       "      <th>ID</th>\n",
       "      <th>first_party</th>\n",
       "      <th>second_party</th>\n",
       "      <th>facts</th>\n",
       "      <th>first_party_winner</th>\n",
       "    </tr>\n",
       "  </thead>\n",
       "  <tbody>\n",
       "    <tr>\n",
       "      <th>0</th>\n",
       "      <td>TRAIN_0000</td>\n",
       "      <td>Phil A. St. Amant</td>\n",
       "      <td>Herman A. Thompson</td>\n",
       "      <td>On June 27, 1962, Phil St. Amant, a candidate ...</td>\n",
       "      <td>1</td>\n",
       "    </tr>\n",
       "    <tr>\n",
       "      <th>1</th>\n",
       "      <td>TRAIN_0001</td>\n",
       "      <td>Stephen Duncan</td>\n",
       "      <td>Lawrence Owens</td>\n",
       "      <td>Ramon Nelson was riding his bike when he suffe...</td>\n",
       "      <td>0</td>\n",
       "    </tr>\n",
       "    <tr>\n",
       "      <th>2</th>\n",
       "      <td>TRAIN_0002</td>\n",
       "      <td>Billy Joe Magwood</td>\n",
       "      <td>Tony Patterson, Warden, et al.</td>\n",
       "      <td>An Alabama state court convicted Billy Joe Mag...</td>\n",
       "      <td>1</td>\n",
       "    </tr>\n",
       "    <tr>\n",
       "      <th>3</th>\n",
       "      <td>TRAIN_0003</td>\n",
       "      <td>Linkletter</td>\n",
       "      <td>Walker</td>\n",
       "      <td>Victor Linkletter was convicted in state court...</td>\n",
       "      <td>0</td>\n",
       "    </tr>\n",
       "    <tr>\n",
       "      <th>4</th>\n",
       "      <td>TRAIN_0004</td>\n",
       "      <td>William Earl Fikes</td>\n",
       "      <td>Alabama</td>\n",
       "      <td>On April 24, 1953 in Selma, Alabama, an intrud...</td>\n",
       "      <td>1</td>\n",
       "    </tr>\n",
       "    <tr>\n",
       "      <th>...</th>\n",
       "      <td>...</td>\n",
       "      <td>...</td>\n",
       "      <td>...</td>\n",
       "      <td>...</td>\n",
       "      <td>...</td>\n",
       "    </tr>\n",
       "    <tr>\n",
       "      <th>2473</th>\n",
       "      <td>TRAIN_2473</td>\n",
       "      <td>HollyFrontier Cheyenne Refining, LLC, et al.</td>\n",
       "      <td>Renewable Fuels Association, et al.</td>\n",
       "      <td>Congress amended the Clean Air Act through the...</td>\n",
       "      <td>1</td>\n",
       "    </tr>\n",
       "    <tr>\n",
       "      <th>2474</th>\n",
       "      <td>TRAIN_2474</td>\n",
       "      <td>Grupo Mexicano de Desarrollo, S. A.</td>\n",
       "      <td>Alliance Bond Fund, Inc.</td>\n",
       "      <td>Alliance Bond Fund, Inc., an investment fund, ...</td>\n",
       "      <td>1</td>\n",
       "    </tr>\n",
       "    <tr>\n",
       "      <th>2475</th>\n",
       "      <td>TRAIN_2475</td>\n",
       "      <td>Peguero</td>\n",
       "      <td>United States</td>\n",
       "      <td>In 1992, the District Court sentenced Manuel D...</td>\n",
       "      <td>0</td>\n",
       "    </tr>\n",
       "    <tr>\n",
       "      <th>2476</th>\n",
       "      <td>TRAIN_2476</td>\n",
       "      <td>Immigration and Naturalization Service</td>\n",
       "      <td>St. Cyr</td>\n",
       "      <td>On March 8, 1996, Enrico St. Cyr, a lawful per...</td>\n",
       "      <td>0</td>\n",
       "    </tr>\n",
       "    <tr>\n",
       "      <th>2477</th>\n",
       "      <td>TRAIN_2477</td>\n",
       "      <td>Markman</td>\n",
       "      <td>Westview Instruments, Inc.</td>\n",
       "      <td>Herbert Markman owns the patent to a system th...</td>\n",
       "      <td>0</td>\n",
       "    </tr>\n",
       "  </tbody>\n",
       "</table>\n",
       "<p>2478 rows × 5 columns</p>\n",
       "</div>\n",
       "      <button class=\"colab-df-convert\" onclick=\"convertToInteractive('df-d7492ad8-26de-4407-9a85-af1fdcf59376')\"\n",
       "              title=\"Convert this dataframe to an interactive table.\"\n",
       "              style=\"display:none;\">\n",
       "        \n",
       "  <svg xmlns=\"http://www.w3.org/2000/svg\" height=\"24px\"viewBox=\"0 0 24 24\"\n",
       "       width=\"24px\">\n",
       "    <path d=\"M0 0h24v24H0V0z\" fill=\"none\"/>\n",
       "    <path d=\"M18.56 5.44l.94 2.06.94-2.06 2.06-.94-2.06-.94-.94-2.06-.94 2.06-2.06.94zm-11 1L8.5 8.5l.94-2.06 2.06-.94-2.06-.94L8.5 2.5l-.94 2.06-2.06.94zm10 10l.94 2.06.94-2.06 2.06-.94-2.06-.94-.94-2.06-.94 2.06-2.06.94z\"/><path d=\"M17.41 7.96l-1.37-1.37c-.4-.4-.92-.59-1.43-.59-.52 0-1.04.2-1.43.59L10.3 9.45l-7.72 7.72c-.78.78-.78 2.05 0 2.83L4 21.41c.39.39.9.59 1.41.59.51 0 1.02-.2 1.41-.59l7.78-7.78 2.81-2.81c.8-.78.8-2.07 0-2.86zM5.41 20L4 18.59l7.72-7.72 1.47 1.35L5.41 20z\"/>\n",
       "  </svg>\n",
       "      </button>\n",
       "      \n",
       "  <style>\n",
       "    .colab-df-container {\n",
       "      display:flex;\n",
       "      flex-wrap:wrap;\n",
       "      gap: 12px;\n",
       "    }\n",
       "\n",
       "    .colab-df-convert {\n",
       "      background-color: #E8F0FE;\n",
       "      border: none;\n",
       "      border-radius: 50%;\n",
       "      cursor: pointer;\n",
       "      display: none;\n",
       "      fill: #1967D2;\n",
       "      height: 32px;\n",
       "      padding: 0 0 0 0;\n",
       "      width: 32px;\n",
       "    }\n",
       "\n",
       "    .colab-df-convert:hover {\n",
       "      background-color: #E2EBFA;\n",
       "      box-shadow: 0px 1px 2px rgba(60, 64, 67, 0.3), 0px 1px 3px 1px rgba(60, 64, 67, 0.15);\n",
       "      fill: #174EA6;\n",
       "    }\n",
       "\n",
       "    [theme=dark] .colab-df-convert {\n",
       "      background-color: #3B4455;\n",
       "      fill: #D2E3FC;\n",
       "    }\n",
       "\n",
       "    [theme=dark] .colab-df-convert:hover {\n",
       "      background-color: #434B5C;\n",
       "      box-shadow: 0px 1px 3px 1px rgba(0, 0, 0, 0.15);\n",
       "      filter: drop-shadow(0px 1px 2px rgba(0, 0, 0, 0.3));\n",
       "      fill: #FFFFFF;\n",
       "    }\n",
       "  </style>\n",
       "\n",
       "      <script>\n",
       "        const buttonEl =\n",
       "          document.querySelector('#df-d7492ad8-26de-4407-9a85-af1fdcf59376 button.colab-df-convert');\n",
       "        buttonEl.style.display =\n",
       "          google.colab.kernel.accessAllowed ? 'block' : 'none';\n",
       "\n",
       "        async function convertToInteractive(key) {\n",
       "          const element = document.querySelector('#df-d7492ad8-26de-4407-9a85-af1fdcf59376');\n",
       "          const dataTable =\n",
       "            await google.colab.kernel.invokeFunction('convertToInteractive',\n",
       "                                                     [key], {});\n",
       "          if (!dataTable) return;\n",
       "\n",
       "          const docLinkHtml = 'Like what you see? Visit the ' +\n",
       "            '<a target=\"_blank\" href=https://colab.research.google.com/notebooks/data_table.ipynb>data table notebook</a>'\n",
       "            + ' to learn more about interactive tables.';\n",
       "          element.innerHTML = '';\n",
       "          dataTable['output_type'] = 'display_data';\n",
       "          await google.colab.output.renderOutput(dataTable, element);\n",
       "          const docLink = document.createElement('div');\n",
       "          docLink.innerHTML = docLinkHtml;\n",
       "          element.appendChild(docLink);\n",
       "        }\n",
       "      </script>\n",
       "    </div>\n",
       "  </div>\n",
       "  "
      ],
      "text/plain": [
       "              ID                                   first_party  \\\n",
       "0     TRAIN_0000                             Phil A. St. Amant   \n",
       "1     TRAIN_0001                                Stephen Duncan   \n",
       "2     TRAIN_0002                             Billy Joe Magwood   \n",
       "3     TRAIN_0003                                    Linkletter   \n",
       "4     TRAIN_0004                            William Earl Fikes   \n",
       "...          ...                                           ...   \n",
       "2473  TRAIN_2473  HollyFrontier Cheyenne Refining, LLC, et al.   \n",
       "2474  TRAIN_2474           Grupo Mexicano de Desarrollo, S. A.   \n",
       "2475  TRAIN_2475                                       Peguero   \n",
       "2476  TRAIN_2476        Immigration and Naturalization Service   \n",
       "2477  TRAIN_2477                                       Markman   \n",
       "\n",
       "                             second_party  \\\n",
       "0                      Herman A. Thompson   \n",
       "1                          Lawrence Owens   \n",
       "2          Tony Patterson, Warden, et al.   \n",
       "3                                  Walker   \n",
       "4                                 Alabama   \n",
       "...                                   ...   \n",
       "2473  Renewable Fuels Association, et al.   \n",
       "2474             Alliance Bond Fund, Inc.   \n",
       "2475                        United States   \n",
       "2476                              St. Cyr   \n",
       "2477           Westview Instruments, Inc.   \n",
       "\n",
       "                                                  facts  first_party_winner  \n",
       "0     On June 27, 1962, Phil St. Amant, a candidate ...                   1  \n",
       "1     Ramon Nelson was riding his bike when he suffe...                   0  \n",
       "2     An Alabama state court convicted Billy Joe Mag...                   1  \n",
       "3     Victor Linkletter was convicted in state court...                   0  \n",
       "4     On April 24, 1953 in Selma, Alabama, an intrud...                   1  \n",
       "...                                                 ...                 ...  \n",
       "2473  Congress amended the Clean Air Act through the...                   1  \n",
       "2474  Alliance Bond Fund, Inc., an investment fund, ...                   1  \n",
       "2475  In 1992, the District Court sentenced Manuel D...                   0  \n",
       "2476  On March 8, 1996, Enrico St. Cyr, a lawful per...                   0  \n",
       "2477  Herbert Markman owns the patent to a system th...                   0  \n",
       "\n",
       "[2478 rows x 5 columns]"
      ]
     },
     "execution_count": 222,
     "metadata": {},
     "output_type": "execute_result"
    }
   ],
   "source": [
    "train_data = pd.read_csv(PATH.train)\n",
    "train_data"
   ]
  },
  {
   "cell_type": "markdown",
   "id": "280dcfc8",
   "metadata": {},
   "source": [
    "# 2. Modeling"
   ]
  },
  {
   "cell_type": "code",
   "execution_count": 8,
   "id": "d172d8bd",
   "metadata": {
    "collapsed": true
   },
   "outputs": [
    {
     "data": {
      "application/vnd.jupyter.widget-view+json": {
       "model_id": "98e6ee37ce5a4f968df19f9af783a522",
       "version_major": 2,
       "version_minor": 0
      },
      "text/plain": [
       "Downloading tokenizer.model:   0%|          | 0.00/500k [00:00<?, ?B/s]"
      ]
     },
     "metadata": {},
     "output_type": "display_data"
    },
    {
     "data": {
      "application/vnd.jupyter.widget-view+json": {
       "model_id": "d00c0e58ca9c4c45838d197276bead6b",
       "version_major": 2,
       "version_minor": 0
      },
      "text/plain": [
       "Downloading (…)cial_tokens_map.json:   0%|          | 0.00/435 [00:00<?, ?B/s]"
      ]
     },
     "metadata": {},
     "output_type": "display_data"
    },
    {
     "data": {
      "application/vnd.jupyter.widget-view+json": {
       "model_id": "59e6bc23ddf74e3da6596937ca30304f",
       "version_major": 2,
       "version_minor": 0
      },
      "text/plain": [
       "Downloading (…)okenizer_config.json:   0%|          | 0.00/727 [00:00<?, ?B/s]"
      ]
     },
     "metadata": {},
     "output_type": "display_data"
    },
    {
     "data": {
      "application/vnd.jupyter.widget-view+json": {
       "model_id": "0a2e70f445194c51a74cecca3cfe7421",
       "version_major": 2,
       "version_minor": 0
      },
      "text/plain": [
       "Downloading (…)lve/main/config.json:   0%|          | 0.00/585 [00:00<?, ?B/s]"
      ]
     },
     "metadata": {},
     "output_type": "display_data"
    },
    {
     "data": {
      "application/vnd.jupyter.widget-view+json": {
       "model_id": "22af5ec252774e91816e639d76c73114",
       "version_major": 2,
       "version_minor": 0
      },
      "text/plain": [
       "Downloading (…)model.bin.index.json:   0%|          | 0.00/33.4k [00:00<?, ?B/s]"
      ]
     },
     "metadata": {},
     "output_type": "display_data"
    },
    {
     "data": {
      "application/vnd.jupyter.widget-view+json": {
       "model_id": "534333f8f96746319a8f5b266f21d3bb",
       "version_major": 2,
       "version_minor": 0
      },
      "text/plain": [
       "Downloading shards:   0%|          | 0/3 [00:00<?, ?it/s]"
      ]
     },
     "metadata": {},
     "output_type": "display_data"
    },
    {
     "data": {
      "application/vnd.jupyter.widget-view+json": {
       "model_id": "c2b856af46214d74b7dd8c88bc084368",
       "version_major": 2,
       "version_minor": 0
      },
      "text/plain": [
       "Downloading (…)l-00001-of-00003.bin:   0%|          | 0.00/9.95G [00:00<?, ?B/s]"
      ]
     },
     "metadata": {},
     "output_type": "display_data"
    },
    {
     "data": {
      "application/vnd.jupyter.widget-view+json": {
       "model_id": "08b176f62c404b48ac1b4c8fb418b180",
       "version_major": 2,
       "version_minor": 0
      },
      "text/plain": [
       "Downloading (…)l-00002-of-00003.bin:   0%|          | 0.00/9.90G [00:00<?, ?B/s]"
      ]
     },
     "metadata": {},
     "output_type": "display_data"
    },
    {
     "data": {
      "application/vnd.jupyter.widget-view+json": {
       "model_id": "9ee622e3066f4eefad0c1d5a09f18897",
       "version_major": 2,
       "version_minor": 0
      },
      "text/plain": [
       "Downloading (…)l-00003-of-00003.bin:   0%|          | 0.00/6.18G [00:00<?, ?B/s]"
      ]
     },
     "metadata": {},
     "output_type": "display_data"
    },
    {
     "data": {
      "application/vnd.jupyter.widget-view+json": {
       "model_id": "887e201d26624523a7a094d7a9d460f4",
       "version_major": 2,
       "version_minor": 0
      },
      "text/plain": [
       "Loading checkpoint shards:   0%|          | 0/3 [00:00<?, ?it/s]"
      ]
     },
     "metadata": {},
     "output_type": "display_data"
    },
    {
     "data": {
      "application/vnd.jupyter.widget-view+json": {
       "model_id": "f306a7a888db425d9d1cdf481adeeb23",
       "version_major": 2,
       "version_minor": 0
      },
      "text/plain": [
       "Downloading (…)neration_config.json:   0%|          | 0.00/132 [00:00<?, ?B/s]"
      ]
     },
     "metadata": {},
     "output_type": "display_data"
    }
   ],
   "source": [
    "from transformers import AutoTokenizer, LlamaForCausalLM, LlamaTokenizer\n",
    "import loralib as lora\n",
    "\n",
    "# model_select = 'AlekseyKorshuk/vicuna-7b'\n",
    "model_select = 'lmsys/vicuna-13b-v1.3'\n",
    "tokenizer    = LlamaTokenizer.from_pretrained(model_select)\n",
    "model        = LlamaForCausalLM.from_pretrained(model_select).to(torch.bfloat16).cuda()\n",
    "\n",
    "# model.requires_grad = False\n",
    "# lora.mark_only_lora_as_trainable(model)"
   ]
  },
  {
   "cell_type": "code",
   "execution_count": 233,
   "id": "cc3a7d2d",
   "metadata": {},
   "outputs": [],
   "source": [
    "def generate_input(first_party, second_party, facts):\n",
    "    prompt = f\"\"\"\n",
    "    A chat between a curious user and an artificial intelligence assistant.\n",
    "    The assistant gives helpful and concise answers to the user's questions.\n",
    "    \n",
    "    USER: \n",
    "        - first_party: {first_party}\n",
    "        - second_party: {second_party}\n",
    "        - facts:\n",
    "        {facts}\n",
    "        \n",
    "        - Question:\n",
    "        Summarize actions and states of first_party and second_party with list.\n",
    "            \n",
    "    ASSISTANT: \n",
    "    \"\"\"\n",
    "#         Who wins the case, first_party or second_party?\n",
    "#         Answer with listed four reasons.\n",
    "\n",
    "    #     Tell me just the answer, without any detailed reasons.\n",
    "\n",
    "    input_ids = tokenizer(prompt, return_tensors='pt').input_ids.cuda()\n",
    "    return input_ids\n",
    "\n",
    "\n",
    "def decode_output(outputs):\n",
    "    rst = []\n",
    "    answer = tokenizer.decode(outputs[0], skip_special_tokens=True)\n",
    "#     if 'first' in answer.lower():\n",
    "#         rst.append(1)\n",
    "#     else:\n",
    "#         rst.append(0)\n",
    "    rst.append(answer)\n",
    "    return rst"
   ]
  },
  {
   "cell_type": "code",
   "execution_count": 234,
   "id": "c9c82186",
   "metadata": {},
   "outputs": [
    {
     "name": "stdout",
     "output_type": "stream",
     "text": [
      "\n",
      "    A chat between a curious user and an artificial intelligence assistant.\n",
      "    The assistant gives helpful and concise answers to the user's questions.\n",
      "    \n",
      "    USER: \n",
      "        - first_party: Leiter Minerals, Inc.,\n",
      "        - second_party: United States, The California Company, Allen L. Lobrano\n",
      "        - facts:\n",
      "        In December 1938, Thomas Leiter conveyed approximately 8,711 acres of land in Plaquemines Parish, Louisiana to the United States. The deed contained a mineral reservation under which Leiter retained the right to mine and remove all valuable minerals until April 1, 1945. The deed allowed for the extension of this reservation for an additional five years so long as operations were conducted profitably during the previous five years for an average of fifty days a year. If at the end of the original term or an additional extended term the operation had not carried on for fifty days a year, Leiter’s right to mine would terminate, and complete title would become vested in the United States. No mineral operations were conducted on the land in question during the original term.\n",
      "On March 1, 1949, the United States conveyed the operating rights under lease to Frank J. and Albert Lobrano, who then conveyed those rights to The California Company. The California Company drilled and completed eighty wells, producing $3,500,000 in royalties for the United States. Leiter Minerals, Inc. then filed an action in state court against Allen L. Lobrano and The California Company based on a Louisiana law allegedly making a reservation of mineral rights to the United States “imprescriptible”. The United States was not a party to the suit. Leiter Minerals claimed that it was the fee simple owner of all the oil, gas and mineral rights in or on the land acquired by the United States from Thomas Leiter.\n",
      "The United States then brought an action in district court; it sought to quiet Leiter Minerals’ title and rights and to enjoin Leiter Minerals from further asserting any claims in state court. The United States argued in part that irreparable injury in the form of lost royalties would result from any dispossession to its lessees. The district court granted the injunction, holding that the action could only be tried in federal court because the United States was not a party to the state court action.\n",
      "\n",
      "        \n",
      "        - Question:\n",
      "        Summarize actions and states of first_party and second_party with list.\n",
      "            \n",
      "    ASSISTANT: \n",
      "    \n",
      "    First-Party:\n",
      "    * Thomas Leiter conveyed approximately 8,711 acres of land in Plaquemines Parish, Louisiana to the United States in December 1938.\n",
      "    * The deed contained a mineral reservation under which Leiter retained the right to mine and remove all valuable minerals until April 1, 1945.\n",
      "    * The deed allowed for the extension of this reservation for an additional five years so long as operations were conducted profitably during the previous five years for an average of fifty days a year.\n",
      "    * No mineral operations were conducted on the land in question during the original term.\n",
      "    \n",
      "    Second-Party:\n",
      "    * The United States conveyed the operating rights under lease to Frank J. and Albert Lobrano in March 1949.\n",
      "    * Frank J. and Albert Lobrano then conveyed those rights to The California Company.\n",
      "    * The California Company drilled and completed eighty wells, producing $3,500,000 in royalties for the United States.\n",
      "    * The United States brought an action in district court to quiet Leiter Minerals’ title and rights and to enjoin Leiter Minerals from further asserting any claims in state court.\n",
      "    \n",
      "    Facts:\n",
      "    * In December 1938, Thomas Leiter conveyed approximately 8,711 acres of land in Plaquemines Parish, Louisiana to the United States.\n",
      "    * The deed contained a mineral reservation under which Leiter retained the right to mine and remove all valuable minerals until April 1, 1945.\n",
      "    * The deed allowed for the extension of this reservation for an additional five years so long as operations were conducted profitably during the previous five years for an average of fifty days a year.\n",
      "    * No mineral operations were conducted on the land in question during the original term.\n",
      "    * The United States conveyed the operating rights under lease to Frank J. and Albert Lobrano in March 1949.\n",
      "    * Frank J. and Albert Lobrano then conveyed those rights to The California Company.\n",
      "    * The California Company drilled and completed eighty wells, producing $3,500,000 in royalties for the\n"
     ]
    }
   ],
   "source": [
    "with torch.no_grad():\n",
    "    input_ids  = generate_input(first_party, second_party, facts)\n",
    "    output_ids = model.generate(input_ids, max_new_tokens=128)\n",
    "    answer     = tokenizer.decode(output_ids[0], skip_special_tokens=True)\n",
    "print(answer)"
   ]
  },
  {
   "cell_type": "code",
   "execution_count": 226,
   "id": "85b47943",
   "metadata": {},
   "outputs": [
    {
     "name": "stdout",
     "output_type": "stream",
     "text": [
      "1 \n",
      "    Second party, Herman A. Thompson, wins the case.\n",
      "0 \n",
      "    Second party, Lawrence Owens.\n",
      "1 \n",
      "    Second party (Tony Patterson, Warden, et al.) wins the case.\n",
      "0 \n",
      "    Based on the facts provided, it is likely that Victor Linkletter would win the case and be granted a retrial. The Mapp v. Ohio decision applied the exclusionary rule to state criminal proceedings, which means that illegally obtained evidence cannot be used at trial. Since Linkletter was conv\n",
      "1 \n",
      "    It is not clear from the information provided who wins the case between the first and second parties. The facts describe a criminal trial in which the defendant, William Earl Fikes, was convicted and sentenced to death. It is possible that the state, represented by Alabama, won the case, but it\n",
      "1 \n",
      "    It is not clear from the information provided who wins the case between the first and second parties. The information provided only states that Clarkstown sued Carbone in a New York Supreme Court, and that Carbone responded by suing Clarkstown in a federal District Court, claiming that the ordin\n",
      "1 \n",
      "    The plaintiff class, represented by David Jennings and other attorneys, wins the case against the government, represented by Alejandro Rodriguez and other attorneys.\n",
      "1 \n",
      "    Barnett wins the case.\n",
      "1 \n",
      "    Second party (Hector Ayala) wins the case.\n",
      "1 \n",
      "    The second party, Selma Cash Paty, wins the case.\n",
      "1 \n",
      "    Second-party (Vanco Beverage, Inc.) wins the case.\n",
      "1 \n",
      "    It is not possible to determine who will win the case based on the information provided. The outcome of the case will depend on the specific arguments and evidence presented by both parties, as well as the interpretation of the relevant laws and precedents by the court.\n",
      "1 \n",
      "    The Supreme Court of California affirmed the trial court's decision in 382, holding that the oath did not violate the U.S. Constitution. Therefore, the County of Los Angeles would be the prevailing party in this case.\n",
      "1 \n",
      "    The second party, Richard Hodges, Director of the Ohio Department of Health, et al., wins the case.\n",
      "0 \n",
      "    Second party (U.S. Bank, N.A., et al.) wins the case.\n",
      "\n",
      "The reason is that the court granted the defendants' motion to dismiss the remainder of the action, finding that the plaintiffs lacked a concrete interest in any monetary relief the court could\n",
      "1 \n",
      "    It is not clear from the information provided who wins the case between the first and second parties. The information provided describes a legal case in which the Washington Supreme Court held that the Hazard Elimination Program exceeded Congress's power under the Constitution. It does not provide information on the outcome of the case\n",
      "0 \n",
      "    It is not clear from the information provided who wins the case between the first and second parties. The facts provided only mention that the case was decided together with Texas v. Certain Named and Unnamed Alien Child, but do not provide any information about the outcome of the case.\n",
      "1 \n",
      "    It is not clear from the information provided who wins the case between Steven Spears (first party) and the United States (second party). The case was remanded for reconsideration in light of the Supreme Court's decision in Kimbrough v. United States, and it is not mentioned\n",
      "1 \n",
      "    Second party (Martinez-Salazar) wins the case.\n",
      "1 \n",
      "    Second party, Mazda Motor of America, Inc., et al.\n",
      "    \n",
      "    \n",
      "    The court dismissed the claims, holding that federal law precluded a state court tort action \"to the extent the theory of liability [was rooted in] the lap-only seat belt.\" On\n",
      "1 \n",
      "    Based on the information provided, it appears that the second party (United States) wins the case. Muhammad Ali (first party) was denied classification as a conscientious objector and was ultimately convicted of willful refusal to submit to induction.\n",
      "0 \n",
      "    The second party, United States, wins the case.\n",
      "0 \n",
      "    Based on the information provided, it is not possible to determine who wins the case between the first and second parties. The case was dismissed by the district court and affirmed by the Supreme Court of Alaska, but the outcome of the case is not specified.\n",
      "0 \n",
      "    The second party, James R. Briggs and Louisa Briggs, win the case.\n",
      "1 \n",
      "    It is not clear from the information provided who wins the case between Charles Wilkie et al. and Harvey Frank Robbins. The information provided describes the facts of the case and the arguments made by the parties, but does not indicate the outcome of the case. To determine the winner of the case,\n",
      "0 \n",
      "    The second party, Hiram G. Hill, wins the case.\n",
      "1 \n",
      "    It is not clear from the information provided who wins the case between the first and second parties. The information provided describes a legal case in which Christopher Lee Armstrong and others were indicted on federal charges of conspiring to possess and distribute cocaine base (crack). Armstrong filed a motion\n",
      "1 \n",
      "    Based on the information provided, it is not possible to determine who wins the case between the first and second parties. The case involves a legal dispute between American Express and several merchants, including Italian Colors Restaurant, over the enforceability of an arbitration clause in a contract. The arbitration\n",
      "1 \n",
      "    It is not clear from the information provided who wins the case between the first and second parties. The information provided only describes the events leading up to the trial and the outcome of the trial, but does not provide any information about the final disposition of the case. It is possible that the case was resolved through a\n",
      "1 \n",
      "    It is not clear from the information provided who wins the case between Verlinden B. V. and the Central Bank of Nigeria. The information provided only states that the U.S. District Court for the Southern District of New York dismissed the case due to lack of subject matter jurisdiction, and that\n",
      "0 \n",
      "    Second-party wins the case.\n",
      "0 \n",
      "    Based on the information provided, it appears that the Sioux Nation of Indians (second party) wins the case. The Indian Claims Commission and the Court of Claims both ruled in favor of the Sioux Nation, stating that they were entitled to compensation for the taking of the Black Hills in 1\n",
      "1 \n",
      "    The second party, North American Stainless, LP, wins the case.\n",
      "0 \n",
      "    It is not clear from the information provided who wins the case between the first and second parties. The information provided describes a legal dispute between the parties, but does not provide information on the outcome of the case.\n",
      "1 \n",
      "    Viet Mike Ngo wins the case.\n",
      "1 \n",
      "    It is not clear from the information provided who wins the case between the first and second parties. The information provided describes a lawsuit brought by Lewis against Caterpillar and Whayne, with Liberty Mutual later intervening as a plaintiff. The case involves issues of jurisdiction and\n",
      "1 \n",
      "    It is likely that the second party (Williams) will win the case.\n",
      "    \n",
      "    \n",
      "    The fact that Williams was not read his Miranda rights until after his arrest may render any statements he made to the police inadmissible in court. This could potentially weaken the prosecution\n",
      "0 \n",
      "    It is not clear from the information provided who wins the case between the first and second parties. The facts state that Peter Campbell Brown, Corporation Counsel for the City of New York, sought an injunction against several bookstores, and the process of review that followed was a civil, rather than criminal procedure\n",
      "1 \n",
      "    Second party (Barry J. Pardus, et al.) wins the case.\n",
      "1 \n",
      "    It is not clear from the information provided who wins the case between the first and second parties. The Ninth Circuit Court of Appeals affirmed the lower court's decision, but it is not specified whether the lower court ruled in favor of the first or second party. Additionally, it is\n",
      "1 \n",
      "    The second party, United States ex rel. Roger L. Sanders and Roger L. Thacker, wins the case.\n",
      "1 \n",
      "    It is not possible to determine who wins the case based on the information provided. The outcome of the case will depend on the specific arguments and evidence presented by both parties, as well as the interpretation and application of relevant legal principles by the court.\n",
      "1 \n",
      "    Based on the information provided, it appears that the second party (United States of America) wins the case. The district court and the Third Circuit both affirmed the judgment of the district court, which denied the motion to suppress. This suggests that the evidence obtained during the search of the rental\n"
     ]
    },
    {
     "name": "stdout",
     "output_type": "stream",
     "text": [
      "1 \n",
      "    It is not possible to determine who wins the case based on the information provided. The outcome of the case would depend on the specific arguments and evidence presented by both parties, as well as the decision of the court.\n",
      "0 \n",
      "    It is not clear from the information provided who wins the case between Gooding and Wilson. The information provided only mentions that Johnny Wilson was convicted of violating a state statute and that he successfully sought habeas corpus relief from a Georgia federal district court. It does not provide any information about the outcome\n",
      "1 \n",
      "    Second party (Michael H. Resh, et al.) wins the case.\n",
      "1 \n",
      "    Second-party (Planned Parenthood Federation of America, Inc., et al.) wins the case.\n",
      "0 \n",
      "    The second party, Gralike, wins the case.\n",
      "0 \n",
      "    The second party, Henri Tatro, et ex., wins the case.\n",
      "0 \n",
      "    The Supreme Court ultimately ruled in favor of the first party, Phillips.\n",
      "1 \n",
      "    The second party, John C. Tesmer, et al., wins the case.\n",
      "1 \n",
      "    The second party, Alberto R. Gonzales, Attorney General, wins the case.\n",
      "1 \n",
      "    The U.S. Court of Appeals for the Sixth Circuit reversed the district court's decision, holding that the doctrine of joint and several liability applied to co-conspirators for the purpose of forfeiture of the proceeds of drug sales. Therefore, in this\n",
      "1 \n",
      "    Based on the information provided, it is unclear who would win the case between the first and second parties. The facts provided do not provide enough information to determine the outcome of the case.\n",
      "0 \n",
      "    It is not clear from the information provided who wins the case between the first and second parties. The case was dismissed by both the district court and the California Supreme Court, so it is possible that the case was not decided in favor of either party. It is also possible that the Martinez family'\n",
      "0 \n",
      "    The second party, Ohio State Bar Assn., wins the case.\n",
      "0 \n",
      "    Second-party (State of Illinois) wins the case.\n",
      "0 \n",
      "    Based on the information provided, it is unclear who wins the case between the first and second parties. The details provided do not indicate the outcome of the case or the specific claims made by each party. It is also unclear whether the case was ultimately decided in favor of one party or the other.\n",
      "1 \n",
      "    The second party, Arkansas-Best Freight System, Inc. et al., wins the case.\n",
      "1 \n",
      "    The second party, Jevic Holding Corp., et al., wins the case.\n",
      "\n",
      "    The court approved a structured dismissal settlement that disposed of many of the claims, but left out the drivers. The bankruptcy court, the federal district court, and the U.S.\n",
      "1 \n",
      "    Based on the information provided, it is unclear who wins the case between the first and second parties. The U.S. Court of Appeals for the Sixth Circuit reversed the conviction and held that the investigator's affidavit was insufficient to establish probable cause for\n",
      "0 \n",
      "    The second party, United States, wins the case.\n",
      "0 \n",
      "    The U.S. Court of Appeals for the District of Columbia Circuit affirmed the district court's decision, and the Menominee Tribe did not recover the contract support costs for the years 1995 through 2004. Therefore, the second party\n",
      "0 \n",
      "    The second party, the United States, wins the case.\n",
      "0 \n",
      "    Based on the information provided, it appears that the second party (United States of America) wins the case. The US Court of Appeals held that the federal district court properly exercised jurisdiction over the case, and the district court subsequently sentenced the first party (Jason J. Mont)\n",
      "0 \n",
      "    It is not clear from the information provided who wins the case between the first and second parties. The information provided describes a legal dispute between Home Depot U.S.A., Inc. and George W. Jackson, with Citibank and Carolina Water Systems also involved as third parties. The case was initially\n",
      "0 \n",
      "    It is not clear from the information provided who wins the case, first\\_party or second\\_party. The information provided describes two consolidated cases, but does not provide any information about the outcome of the cases or the legal arguments made by the parties. It is also not clear how the cases are related\n",
      "1 \n",
      "    Second party (R. R. Donnelley & Sons Company) wins the case.\n",
      "1 \n",
      "    Based on the information provided, it is unclear who wins the case between the first and second parties. The US Supreme Court rejected the interpretation of the district court and appellate court, and the case was remanded for further consideration by the Ninth Circuit. Therefore, the outcome of the case is\n",
      "1 \n",
      "    The Supreme Court ultimately ruled in favor of the United States Servicemen's Fund, holding that the subpoena of the bank records would violate the organization's First Amendment rights.\n",
      "0 \n",
      "    Second party (The Inclusive Communities Project, Inc.) wins the case.\n",
      "1 \n",
      "    Based on the information provided, it appears that second\\_party (Vincent) wins the case.\n",
      "    \n",
      "    \n",
      "    The Double Jeopardy Clause of the United States Constitution protects against multiple prosecutions for the same offense. In this case, the trial judge's\n",
      "1 \n",
      "    Based on the information provided, it appears that the second party, CoBank ACB, wins the case. The State Supreme Court ruled that the banks are exempt from state income taxation because the current version of the Farm Credit Act of 1933 is silent as to the banks'\n",
      "1 \n",
      "    It is not clear from the information provided who wins the case between the first and second parties. The District Court dismissed the complaint for failure to state a claim, but the Court of Appeals reversed the District Court's decision and found that the early retirement program and noncontributory\n",
      "1 \n",
      "    Second party (Mayola Williams, Personal Representative of the Estate of Jesse D. Williams, Deceased) wins the case.\n",
      "0 \n",
      "    It is not clear from the information provided who wins the case between the first and second parties. The information provided describes a legal case in which the plaintiffs argued that Virginia's Third Congressional District was racially gerrymandered in violation of the Equal Protection Clause of\n",
      "1 \n",
      "    It is not clear from the information provided who wins the case between the first and second parties. The information provided describes a legal case involving Johnny Paul Penry and the legal proceedings surrounding his capital murder trial and subsequent sentencing. It does not provide information about the parties involved in the case or the outcome of\n",
      "0 \n",
      "    It is not possible to determine who would win the case without more information about the specific legal issue at hand and the arguments presented by both parties. The outcome of a legal case depends on a variety of factors, including the specific facts of the case, the applicable law, and the arguments and evidence presented by both\n",
      "0 \n",
      "    Based on the information provided, it appears that the second party, Shalala, wins the case. The court dismissed the complaint filed by the first party, Your Home Visiting Nurse Services, Inc., and affirmed the decision of the District Court.\n"
     ]
    },
    {
     "ename": "KeyboardInterrupt",
     "evalue": "",
     "output_type": "error",
     "traceback": [
      "\u001b[0;31m---------------------------------------------------------------------------\u001b[0m",
      "\u001b[0;31mKeyboardInterrupt\u001b[0m                         Traceback (most recent call last)",
      "\u001b[0;32m<ipython-input-226-3fc3a1eb132e>\u001b[0m in \u001b[0;36m<cell line: 1>\u001b[0;34m()\u001b[0m\n\u001b[1;32m      4\u001b[0m     \u001b[0;32mwith\u001b[0m \u001b[0mtorch\u001b[0m\u001b[0;34m.\u001b[0m\u001b[0mno_grad\u001b[0m\u001b[0;34m(\u001b[0m\u001b[0;34m)\u001b[0m\u001b[0;34m:\u001b[0m\u001b[0;34m\u001b[0m\u001b[0;34m\u001b[0m\u001b[0m\n\u001b[1;32m      5\u001b[0m         \u001b[0minput_ids\u001b[0m  \u001b[0;34m=\u001b[0m \u001b[0mgenerate_input\u001b[0m\u001b[0;34m(\u001b[0m\u001b[0mfirst_party\u001b[0m\u001b[0;34m,\u001b[0m \u001b[0msecond_party\u001b[0m\u001b[0;34m,\u001b[0m \u001b[0mfacts\u001b[0m\u001b[0;34m)\u001b[0m\u001b[0;34m\u001b[0m\u001b[0;34m\u001b[0m\u001b[0m\n\u001b[0;32m----> 6\u001b[0;31m         \u001b[0moutput_ids\u001b[0m \u001b[0;34m=\u001b[0m \u001b[0mmodel\u001b[0m\u001b[0;34m.\u001b[0m\u001b[0mgenerate\u001b[0m\u001b[0;34m(\u001b[0m\u001b[0minput_ids\u001b[0m\u001b[0;34m,\u001b[0m \u001b[0mmax_new_tokens\u001b[0m\u001b[0;34m=\u001b[0m\u001b[0;36m64\u001b[0m\u001b[0;34m)\u001b[0m\u001b[0;34m\u001b[0m\u001b[0;34m\u001b[0m\u001b[0m\n\u001b[0m\u001b[1;32m      7\u001b[0m         \u001b[0manswer\u001b[0m     \u001b[0;34m=\u001b[0m \u001b[0mtokenizer\u001b[0m\u001b[0;34m.\u001b[0m\u001b[0mdecode\u001b[0m\u001b[0;34m(\u001b[0m\u001b[0moutput_ids\u001b[0m\u001b[0;34m[\u001b[0m\u001b[0;36m0\u001b[0m\u001b[0;34m]\u001b[0m\u001b[0;34m[\u001b[0m\u001b[0mlen\u001b[0m\u001b[0;34m(\u001b[0m\u001b[0minput_ids\u001b[0m\u001b[0;34m[\u001b[0m\u001b[0;36m0\u001b[0m\u001b[0;34m]\u001b[0m\u001b[0;34m)\u001b[0m\u001b[0;34m:\u001b[0m\u001b[0;34m]\u001b[0m\u001b[0;34m,\u001b[0m \u001b[0mskip_special_tokens\u001b[0m\u001b[0;34m=\u001b[0m\u001b[0;32mTrue\u001b[0m\u001b[0;34m)\u001b[0m\u001b[0;34m\u001b[0m\u001b[0;34m\u001b[0m\u001b[0m\n\u001b[1;32m      8\u001b[0m     \u001b[0mprint\u001b[0m\u001b[0;34m(\u001b[0m\u001b[0mlabel\u001b[0m\u001b[0;34m,\u001b[0m \u001b[0manswer\u001b[0m\u001b[0;34m)\u001b[0m\u001b[0;34m\u001b[0m\u001b[0;34m\u001b[0m\u001b[0m\n",
      "\u001b[0;32m/usr/local/lib/python3.10/dist-packages/torch/utils/_contextlib.py\u001b[0m in \u001b[0;36mdecorate_context\u001b[0;34m(*args, **kwargs)\u001b[0m\n\u001b[1;32m    113\u001b[0m     \u001b[0;32mdef\u001b[0m \u001b[0mdecorate_context\u001b[0m\u001b[0;34m(\u001b[0m\u001b[0;34m*\u001b[0m\u001b[0margs\u001b[0m\u001b[0;34m,\u001b[0m \u001b[0;34m**\u001b[0m\u001b[0mkwargs\u001b[0m\u001b[0;34m)\u001b[0m\u001b[0;34m:\u001b[0m\u001b[0;34m\u001b[0m\u001b[0;34m\u001b[0m\u001b[0m\n\u001b[1;32m    114\u001b[0m         \u001b[0;32mwith\u001b[0m \u001b[0mctx_factory\u001b[0m\u001b[0;34m(\u001b[0m\u001b[0;34m)\u001b[0m\u001b[0;34m:\u001b[0m\u001b[0;34m\u001b[0m\u001b[0;34m\u001b[0m\u001b[0m\n\u001b[0;32m--> 115\u001b[0;31m             \u001b[0;32mreturn\u001b[0m \u001b[0mfunc\u001b[0m\u001b[0;34m(\u001b[0m\u001b[0;34m*\u001b[0m\u001b[0margs\u001b[0m\u001b[0;34m,\u001b[0m \u001b[0;34m**\u001b[0m\u001b[0mkwargs\u001b[0m\u001b[0;34m)\u001b[0m\u001b[0;34m\u001b[0m\u001b[0;34m\u001b[0m\u001b[0m\n\u001b[0m\u001b[1;32m    116\u001b[0m \u001b[0;34m\u001b[0m\u001b[0m\n\u001b[1;32m    117\u001b[0m     \u001b[0;32mreturn\u001b[0m \u001b[0mdecorate_context\u001b[0m\u001b[0;34m\u001b[0m\u001b[0;34m\u001b[0m\u001b[0m\n",
      "\u001b[0;32m/usr/local/lib/python3.10/dist-packages/transformers/generation/utils.py\u001b[0m in \u001b[0;36mgenerate\u001b[0;34m(self, inputs, generation_config, logits_processor, stopping_criteria, prefix_allowed_tokens_fn, synced_gpus, assistant_model, streamer, **kwargs)\u001b[0m\n\u001b[1;32m   1520\u001b[0m \u001b[0;34m\u001b[0m\u001b[0m\n\u001b[1;32m   1521\u001b[0m             \u001b[0;31m# 11. run greedy search\u001b[0m\u001b[0;34m\u001b[0m\u001b[0;34m\u001b[0m\u001b[0m\n\u001b[0;32m-> 1522\u001b[0;31m             return self.greedy_search(\n\u001b[0m\u001b[1;32m   1523\u001b[0m                 \u001b[0minput_ids\u001b[0m\u001b[0;34m,\u001b[0m\u001b[0;34m\u001b[0m\u001b[0;34m\u001b[0m\u001b[0m\n\u001b[1;32m   1524\u001b[0m                 \u001b[0mlogits_processor\u001b[0m\u001b[0;34m=\u001b[0m\u001b[0mlogits_processor\u001b[0m\u001b[0;34m,\u001b[0m\u001b[0;34m\u001b[0m\u001b[0;34m\u001b[0m\u001b[0m\n",
      "\u001b[0;32m/usr/local/lib/python3.10/dist-packages/transformers/generation/utils.py\u001b[0m in \u001b[0;36mgreedy_search\u001b[0;34m(self, input_ids, logits_processor, stopping_criteria, max_length, pad_token_id, eos_token_id, output_attentions, output_hidden_states, output_scores, return_dict_in_generate, synced_gpus, streamer, **model_kwargs)\u001b[0m\n\u001b[1;32m   2337\u001b[0m \u001b[0;34m\u001b[0m\u001b[0m\n\u001b[1;32m   2338\u001b[0m             \u001b[0;31m# forward pass to get next token\u001b[0m\u001b[0;34m\u001b[0m\u001b[0;34m\u001b[0m\u001b[0m\n\u001b[0;32m-> 2339\u001b[0;31m             outputs = self(\n\u001b[0m\u001b[1;32m   2340\u001b[0m                 \u001b[0;34m**\u001b[0m\u001b[0mmodel_inputs\u001b[0m\u001b[0;34m,\u001b[0m\u001b[0;34m\u001b[0m\u001b[0;34m\u001b[0m\u001b[0m\n\u001b[1;32m   2341\u001b[0m                 \u001b[0mreturn_dict\u001b[0m\u001b[0;34m=\u001b[0m\u001b[0;32mTrue\u001b[0m\u001b[0;34m,\u001b[0m\u001b[0;34m\u001b[0m\u001b[0;34m\u001b[0m\u001b[0m\n",
      "\u001b[0;32m/usr/local/lib/python3.10/dist-packages/torch/nn/modules/module.py\u001b[0m in \u001b[0;36m_call_impl\u001b[0;34m(self, *args, **kwargs)\u001b[0m\n\u001b[1;32m   1499\u001b[0m                 \u001b[0;32mor\u001b[0m \u001b[0m_global_backward_pre_hooks\u001b[0m \u001b[0;32mor\u001b[0m \u001b[0m_global_backward_hooks\u001b[0m\u001b[0;34m\u001b[0m\u001b[0;34m\u001b[0m\u001b[0m\n\u001b[1;32m   1500\u001b[0m                 or _global_forward_hooks or _global_forward_pre_hooks):\n\u001b[0;32m-> 1501\u001b[0;31m             \u001b[0;32mreturn\u001b[0m \u001b[0mforward_call\u001b[0m\u001b[0;34m(\u001b[0m\u001b[0;34m*\u001b[0m\u001b[0margs\u001b[0m\u001b[0;34m,\u001b[0m \u001b[0;34m**\u001b[0m\u001b[0mkwargs\u001b[0m\u001b[0;34m)\u001b[0m\u001b[0;34m\u001b[0m\u001b[0;34m\u001b[0m\u001b[0m\n\u001b[0m\u001b[1;32m   1502\u001b[0m         \u001b[0;31m# Do not call functions when jit is used\u001b[0m\u001b[0;34m\u001b[0m\u001b[0;34m\u001b[0m\u001b[0m\n\u001b[1;32m   1503\u001b[0m         \u001b[0mfull_backward_hooks\u001b[0m\u001b[0;34m,\u001b[0m \u001b[0mnon_full_backward_hooks\u001b[0m \u001b[0;34m=\u001b[0m \u001b[0;34m[\u001b[0m\u001b[0;34m]\u001b[0m\u001b[0;34m,\u001b[0m \u001b[0;34m[\u001b[0m\u001b[0;34m]\u001b[0m\u001b[0;34m\u001b[0m\u001b[0;34m\u001b[0m\u001b[0m\n",
      "\u001b[0;32m/usr/local/lib/python3.10/dist-packages/transformers/models/llama/modeling_llama.py\u001b[0m in \u001b[0;36mforward\u001b[0;34m(self, input_ids, attention_mask, position_ids, past_key_values, inputs_embeds, labels, use_cache, output_attentions, output_hidden_states, return_dict)\u001b[0m\n\u001b[1;32m    686\u001b[0m \u001b[0;34m\u001b[0m\u001b[0m\n\u001b[1;32m    687\u001b[0m         \u001b[0;31m# decoder outputs consists of (dec_features, layer_state, dec_hidden, dec_attn)\u001b[0m\u001b[0;34m\u001b[0m\u001b[0;34m\u001b[0m\u001b[0m\n\u001b[0;32m--> 688\u001b[0;31m         outputs = self.model(\n\u001b[0m\u001b[1;32m    689\u001b[0m             \u001b[0minput_ids\u001b[0m\u001b[0;34m=\u001b[0m\u001b[0minput_ids\u001b[0m\u001b[0;34m,\u001b[0m\u001b[0;34m\u001b[0m\u001b[0;34m\u001b[0m\u001b[0m\n\u001b[1;32m    690\u001b[0m             \u001b[0mattention_mask\u001b[0m\u001b[0;34m=\u001b[0m\u001b[0mattention_mask\u001b[0m\u001b[0;34m,\u001b[0m\u001b[0;34m\u001b[0m\u001b[0;34m\u001b[0m\u001b[0m\n",
      "\u001b[0;32m/usr/local/lib/python3.10/dist-packages/torch/nn/modules/module.py\u001b[0m in \u001b[0;36m_call_impl\u001b[0;34m(self, *args, **kwargs)\u001b[0m\n\u001b[1;32m   1499\u001b[0m                 \u001b[0;32mor\u001b[0m \u001b[0m_global_backward_pre_hooks\u001b[0m \u001b[0;32mor\u001b[0m \u001b[0m_global_backward_hooks\u001b[0m\u001b[0;34m\u001b[0m\u001b[0;34m\u001b[0m\u001b[0m\n\u001b[1;32m   1500\u001b[0m                 or _global_forward_hooks or _global_forward_pre_hooks):\n\u001b[0;32m-> 1501\u001b[0;31m             \u001b[0;32mreturn\u001b[0m \u001b[0mforward_call\u001b[0m\u001b[0;34m(\u001b[0m\u001b[0;34m*\u001b[0m\u001b[0margs\u001b[0m\u001b[0;34m,\u001b[0m \u001b[0;34m**\u001b[0m\u001b[0mkwargs\u001b[0m\u001b[0;34m)\u001b[0m\u001b[0;34m\u001b[0m\u001b[0;34m\u001b[0m\u001b[0m\n\u001b[0m\u001b[1;32m   1502\u001b[0m         \u001b[0;31m# Do not call functions when jit is used\u001b[0m\u001b[0;34m\u001b[0m\u001b[0;34m\u001b[0m\u001b[0m\n\u001b[1;32m   1503\u001b[0m         \u001b[0mfull_backward_hooks\u001b[0m\u001b[0;34m,\u001b[0m \u001b[0mnon_full_backward_hooks\u001b[0m \u001b[0;34m=\u001b[0m \u001b[0;34m[\u001b[0m\u001b[0;34m]\u001b[0m\u001b[0;34m,\u001b[0m \u001b[0;34m[\u001b[0m\u001b[0;34m]\u001b[0m\u001b[0;34m\u001b[0m\u001b[0;34m\u001b[0m\u001b[0m\n",
      "\u001b[0;32m/usr/local/lib/python3.10/dist-packages/transformers/models/llama/modeling_llama.py\u001b[0m in \u001b[0;36mforward\u001b[0;34m(self, input_ids, attention_mask, position_ids, past_key_values, inputs_embeds, use_cache, output_attentions, output_hidden_states, return_dict)\u001b[0m\n\u001b[1;32m    576\u001b[0m                 )\n\u001b[1;32m    577\u001b[0m             \u001b[0;32melse\u001b[0m\u001b[0;34m:\u001b[0m\u001b[0;34m\u001b[0m\u001b[0;34m\u001b[0m\u001b[0m\n\u001b[0;32m--> 578\u001b[0;31m                 layer_outputs = decoder_layer(\n\u001b[0m\u001b[1;32m    579\u001b[0m                     \u001b[0mhidden_states\u001b[0m\u001b[0;34m,\u001b[0m\u001b[0;34m\u001b[0m\u001b[0;34m\u001b[0m\u001b[0m\n\u001b[1;32m    580\u001b[0m                     \u001b[0mattention_mask\u001b[0m\u001b[0;34m=\u001b[0m\u001b[0mattention_mask\u001b[0m\u001b[0;34m,\u001b[0m\u001b[0;34m\u001b[0m\u001b[0;34m\u001b[0m\u001b[0m\n",
      "\u001b[0;32m/usr/local/lib/python3.10/dist-packages/torch/nn/modules/module.py\u001b[0m in \u001b[0;36m_call_impl\u001b[0;34m(self, *args, **kwargs)\u001b[0m\n\u001b[1;32m   1499\u001b[0m                 \u001b[0;32mor\u001b[0m \u001b[0m_global_backward_pre_hooks\u001b[0m \u001b[0;32mor\u001b[0m \u001b[0m_global_backward_hooks\u001b[0m\u001b[0;34m\u001b[0m\u001b[0;34m\u001b[0m\u001b[0m\n\u001b[1;32m   1500\u001b[0m                 or _global_forward_hooks or _global_forward_pre_hooks):\n\u001b[0;32m-> 1501\u001b[0;31m             \u001b[0;32mreturn\u001b[0m \u001b[0mforward_call\u001b[0m\u001b[0;34m(\u001b[0m\u001b[0;34m*\u001b[0m\u001b[0margs\u001b[0m\u001b[0;34m,\u001b[0m \u001b[0;34m**\u001b[0m\u001b[0mkwargs\u001b[0m\u001b[0;34m)\u001b[0m\u001b[0;34m\u001b[0m\u001b[0;34m\u001b[0m\u001b[0m\n\u001b[0m\u001b[1;32m   1502\u001b[0m         \u001b[0;31m# Do not call functions when jit is used\u001b[0m\u001b[0;34m\u001b[0m\u001b[0;34m\u001b[0m\u001b[0m\n\u001b[1;32m   1503\u001b[0m         \u001b[0mfull_backward_hooks\u001b[0m\u001b[0;34m,\u001b[0m \u001b[0mnon_full_backward_hooks\u001b[0m \u001b[0;34m=\u001b[0m \u001b[0;34m[\u001b[0m\u001b[0;34m]\u001b[0m\u001b[0;34m,\u001b[0m \u001b[0;34m[\u001b[0m\u001b[0;34m]\u001b[0m\u001b[0;34m\u001b[0m\u001b[0;34m\u001b[0m\u001b[0m\n",
      "\u001b[0;32m/usr/local/lib/python3.10/dist-packages/transformers/models/llama/modeling_llama.py\u001b[0m in \u001b[0;36mforward\u001b[0;34m(self, hidden_states, attention_mask, position_ids, past_key_value, output_attentions, use_cache)\u001b[0m\n\u001b[1;32m    290\u001b[0m \u001b[0;34m\u001b[0m\u001b[0m\n\u001b[1;32m    291\u001b[0m         \u001b[0;31m# Self Attention\u001b[0m\u001b[0;34m\u001b[0m\u001b[0;34m\u001b[0m\u001b[0m\n\u001b[0;32m--> 292\u001b[0;31m         hidden_states, self_attn_weights, present_key_value = self.self_attn(\n\u001b[0m\u001b[1;32m    293\u001b[0m             \u001b[0mhidden_states\u001b[0m\u001b[0;34m=\u001b[0m\u001b[0mhidden_states\u001b[0m\u001b[0;34m,\u001b[0m\u001b[0;34m\u001b[0m\u001b[0;34m\u001b[0m\u001b[0m\n\u001b[1;32m    294\u001b[0m             \u001b[0mattention_mask\u001b[0m\u001b[0;34m=\u001b[0m\u001b[0mattention_mask\u001b[0m\u001b[0;34m,\u001b[0m\u001b[0;34m\u001b[0m\u001b[0;34m\u001b[0m\u001b[0m\n",
      "\u001b[0;32m/usr/local/lib/python3.10/dist-packages/torch/nn/modules/module.py\u001b[0m in \u001b[0;36m_call_impl\u001b[0;34m(self, *args, **kwargs)\u001b[0m\n\u001b[1;32m   1499\u001b[0m                 \u001b[0;32mor\u001b[0m \u001b[0m_global_backward_pre_hooks\u001b[0m \u001b[0;32mor\u001b[0m \u001b[0m_global_backward_hooks\u001b[0m\u001b[0;34m\u001b[0m\u001b[0;34m\u001b[0m\u001b[0m\n\u001b[1;32m   1500\u001b[0m                 or _global_forward_hooks or _global_forward_pre_hooks):\n\u001b[0;32m-> 1501\u001b[0;31m             \u001b[0;32mreturn\u001b[0m \u001b[0mforward_call\u001b[0m\u001b[0;34m(\u001b[0m\u001b[0;34m*\u001b[0m\u001b[0margs\u001b[0m\u001b[0;34m,\u001b[0m \u001b[0;34m**\u001b[0m\u001b[0mkwargs\u001b[0m\u001b[0;34m)\u001b[0m\u001b[0;34m\u001b[0m\u001b[0;34m\u001b[0m\u001b[0m\n\u001b[0m\u001b[1;32m   1502\u001b[0m         \u001b[0;31m# Do not call functions when jit is used\u001b[0m\u001b[0;34m\u001b[0m\u001b[0;34m\u001b[0m\u001b[0m\n\u001b[1;32m   1503\u001b[0m         \u001b[0mfull_backward_hooks\u001b[0m\u001b[0;34m,\u001b[0m \u001b[0mnon_full_backward_hooks\u001b[0m \u001b[0;34m=\u001b[0m \u001b[0;34m[\u001b[0m\u001b[0;34m]\u001b[0m\u001b[0;34m,\u001b[0m \u001b[0;34m[\u001b[0m\u001b[0;34m]\u001b[0m\u001b[0;34m\u001b[0m\u001b[0;34m\u001b[0m\u001b[0m\n",
      "\u001b[0;32m/usr/local/lib/python3.10/dist-packages/transformers/models/llama/modeling_llama.py\u001b[0m in \u001b[0;36mforward\u001b[0;34m(self, hidden_states, attention_mask, position_ids, past_key_value, output_attentions, use_cache)\u001b[0m\n\u001b[1;32m    225\u001b[0m             \u001b[0mattn_weights\u001b[0m \u001b[0;34m=\u001b[0m \u001b[0mattn_weights\u001b[0m \u001b[0;34m+\u001b[0m \u001b[0mattention_mask\u001b[0m\u001b[0;34m\u001b[0m\u001b[0;34m\u001b[0m\u001b[0m\n\u001b[1;32m    226\u001b[0m             attn_weights = torch.max(\n\u001b[0;32m--> 227\u001b[0;31m                 \u001b[0mattn_weights\u001b[0m\u001b[0;34m,\u001b[0m \u001b[0mtorch\u001b[0m\u001b[0;34m.\u001b[0m\u001b[0mtensor\u001b[0m\u001b[0;34m(\u001b[0m\u001b[0mtorch\u001b[0m\u001b[0;34m.\u001b[0m\u001b[0mfinfo\u001b[0m\u001b[0;34m(\u001b[0m\u001b[0mattn_weights\u001b[0m\u001b[0;34m.\u001b[0m\u001b[0mdtype\u001b[0m\u001b[0;34m)\u001b[0m\u001b[0;34m.\u001b[0m\u001b[0mmin\u001b[0m\u001b[0;34m,\u001b[0m \u001b[0mdevice\u001b[0m\u001b[0;34m=\u001b[0m\u001b[0mattn_weights\u001b[0m\u001b[0;34m.\u001b[0m\u001b[0mdevice\u001b[0m\u001b[0;34m)\u001b[0m\u001b[0;34m\u001b[0m\u001b[0;34m\u001b[0m\u001b[0m\n\u001b[0m\u001b[1;32m    228\u001b[0m             )\n\u001b[1;32m    229\u001b[0m \u001b[0;34m\u001b[0m\u001b[0m\n",
      "\u001b[0;31mKeyboardInterrupt\u001b[0m: "
     ]
    }
   ],
   "source": [
    "for idx in range(len(train_data)):\n",
    "    row = train_data.values[idx]\n",
    "    _, first_party, second_party, facts, label = row\n",
    "    with torch.no_grad():\n",
    "        input_ids  = generate_input(first_party, second_party, facts)\n",
    "        output_ids = model.generate(input_ids, max_new_tokens=64)        \n",
    "        answer     = tokenizer.decode(output_ids[0][len(input_ids[0]):], skip_special_tokens=True)\n",
    "    print(label, answer)\n",
    "    break"
   ]
  },
  {
   "cell_type": "code",
   "execution_count": 183,
   "id": "705c8467",
   "metadata": {},
   "outputs": [],
   "source": [
    "# from torch.utils.data import Dataset, DataLoader\n",
    "\n",
    "# class FactsDataset(Dataset):\n",
    "#     def __init__(self, data):\n",
    "#         self.data = data.values\n",
    "#     def __len__(self):\n",
    "#         return len(self.data)\n",
    "#     def __getitem__(self, idx):\n",
    "#         row = self.data[idx]\n",
    "#         first_party  = row[1]\n",
    "#         second_party = row[2]\n",
    "#         facts        = row[3]\n",
    "#         label        = row[4]\n",
    "#         input_ids    = tokenizer(self._get_prompt(first_party, second_party, facts), return_tensors='pt').input_ids.cuda()\n",
    "#         return input_ids, label\n",
    "    \n",
    "#     @staticmethod\n",
    "#     def _get_prompt(first_party, second_party, facts):\n",
    "#         return f\"\"\"\n",
    "#             A chat between a curious user and an artificial intelligence assistant.\n",
    "#             The assistant gives helpful and concise answers to the user's questions.\n",
    "\n",
    "#             USER: \n",
    "#                 - first_party: {first_party}\n",
    "#                 - second_party: {second_party}\n",
    "#                 - facts:\n",
    "#                 {facts}\n",
    "\n",
    "#                 - Question:\n",
    "#                 Who wins the case, first_party or second_party?\n",
    "#                 Tell me just the answer, without any detailed reasons.\n",
    "\n",
    "#             ASSISTANT: \n",
    "#             \"\"\"\n",
    "\n",
    "# ds = FactsDataset(train)\n",
    "# # dl = DataLoader(ds, batch_size=1, shuffle=True)"
   ]
  },
  {
   "cell_type": "markdown",
   "id": "fc54e608",
   "metadata": {},
   "source": [
    "\n",
    "\n",
    "\n",
    "\n",
    "\n",
    "\n",
    "\n",
    "\n",
    "\n",
    "\n",
    "\n",
    "\n",
    "\n",
    "\n",
    "\n",
    "\n",
    "\n",
    "\n",
    "\n"
   ]
  },
  {
   "cell_type": "markdown",
   "id": "da4cea09",
   "metadata": {},
   "source": [
    "---"
   ]
  }
 ],
 "metadata": {
  "kernelspec": {
   "display_name": "Python 3",
   "language": "python",
   "name": "python3"
  },
  "language_info": {
   "codemirror_mode": {
    "name": "ipython",
    "version": 3
   },
   "file_extension": ".py",
   "mimetype": "text/x-python",
   "name": "python",
   "nbconvert_exporter": "python",
   "pygments_lexer": "ipython3",
   "version": "3.10.12"
  }
 },
 "nbformat": 4,
 "nbformat_minor": 5
}
