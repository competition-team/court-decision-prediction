{
 "cells": [
  {
   "cell_type": "code",
   "execution_count": 1,
   "id": "d599454a-3185-48f2-9e0f-8a241f5f4bce",
   "metadata": {},
   "outputs": [
    {
     "name": "stdout",
     "output_type": "stream",
     "text": [
      "Requirement already satisfied: transformers in /usr/local/lib/python3.10/dist-packages (4.30.2)\n",
      "Requirement already satisfied: loralib in /usr/local/lib/python3.10/dist-packages (0.1.1)\n",
      "Requirement already satisfied: sentencepiece in /usr/local/lib/python3.10/dist-packages (0.1.99)\n",
      "Requirement already satisfied: filelock in /usr/local/lib/python3.10/dist-packages (from transformers) (3.12.2)\n",
      "Requirement already satisfied: huggingface-hub<1.0,>=0.14.1 in /usr/local/lib/python3.10/dist-packages (from transformers) (0.15.1)\n",
      "Requirement already satisfied: numpy>=1.17 in /usr/local/lib/python3.10/dist-packages (from transformers) (1.22.4)\n",
      "Requirement already satisfied: packaging>=20.0 in /usr/local/lib/python3.10/dist-packages (from transformers) (23.1)\n",
      "Requirement already satisfied: pyyaml>=5.1 in /usr/local/lib/python3.10/dist-packages (from transformers) (6.0)\n",
      "Requirement already satisfied: regex!=2019.12.17 in /usr/local/lib/python3.10/dist-packages (from transformers) (2022.10.31)\n",
      "Requirement already satisfied: requests in /usr/local/lib/python3.10/dist-packages (from transformers) (2.27.1)\n",
      "Requirement already satisfied: tokenizers!=0.11.3,<0.14,>=0.11.1 in /usr/local/lib/python3.10/dist-packages (from transformers) (0.13.3)\n",
      "Requirement already satisfied: safetensors>=0.3.1 in /usr/local/lib/python3.10/dist-packages (from transformers) (0.3.1)\n",
      "Requirement already satisfied: tqdm>=4.27 in /usr/local/lib/python3.10/dist-packages (from transformers) (4.65.0)\n",
      "Requirement already satisfied: fsspec in /usr/local/lib/python3.10/dist-packages (from huggingface-hub<1.0,>=0.14.1->transformers) (2023.6.0)\n",
      "Requirement already satisfied: typing-extensions>=3.7.4.3 in /usr/local/lib/python3.10/dist-packages (from huggingface-hub<1.0,>=0.14.1->transformers) (4.6.3)\n",
      "Requirement already satisfied: urllib3<1.27,>=1.21.1 in /usr/local/lib/python3.10/dist-packages (from requests->transformers) (1.26.16)\n",
      "Requirement already satisfied: certifi>=2017.4.17 in /usr/local/lib/python3.10/dist-packages (from requests->transformers) (2023.5.7)\n",
      "Requirement already satisfied: charset-normalizer~=2.0.0 in /usr/local/lib/python3.10/dist-packages (from requests->transformers) (2.0.12)\n",
      "Requirement already satisfied: idna<4,>=2.5 in /usr/local/lib/python3.10/dist-packages (from requests->transformers) (3.4)\n"
     ]
    }
   ],
   "source": [
    "!pip install transformers loralib sentencepiece"
   ]
  },
  {
   "cell_type": "code",
   "execution_count": 2,
   "id": "76e9e566",
   "metadata": {},
   "outputs": [
    {
     "name": "stderr",
     "output_type": "stream",
     "text": [
      "Xformers is not installed correctly. If you want to use memory_efficient_attention to accelerate training use the following command to install Xformers\n",
      "pip install xformers.\n"
     ]
    }
   ],
   "source": [
    "import pandas as pd\n",
    "from transformers import AutoTokenizer, LlamaForCausalLM\n",
    "from transformers import AutoTokenizer, OpenLlamaForCausalLM\n",
    "from transformers import LlamaTokenizer\n",
    "import pandas as pd\n",
    "import torch\n",
    "import loralib as lora\n",
    "import numpy as np\n",
    "import matplotlib.pyplot as plt\n",
    "import random\n",
    "import copy\n",
    "from torch import nn\n",
    "import os\n",
    "\n",
    "\n",
    "def seed_everything(seed: int = 42):\n",
    "    random.seed(seed)\n",
    "    np.random.seed(seed)\n",
    "    os.environ[\"PYTHONHASHSEED\"] = str(seed)\n",
    "    torch.manual_seed(seed)\n",
    "    torch.cuda.manual_seed(seed)  # type: ignore\n",
    "    torch.backends.cudnn.deterministic = True  # type: ignore\n",
    "    torch.backends.cudnn.benchmark = True  # type: ignore\n",
    "seed_everything()\n",
    "\n",
    "\n",
    "def prompt_setting(first_party, second_party, facts):\n",
    "    return f\"\"\"A chat between a curious user and an artificial intelligence assistant.\n",
    "The assistant gives helpful and concise answers to the user's questions.\n",
    "\n",
    "USER: \n",
    "- first_party: {first_party}\n",
    "- second_party: {second_party}\n",
    "- facts:\n",
    "{facts[:1000]}\n",
    "- Question: I want to know whether the first_party can win the legal case. Tell me just the answer with O or X, without any detailed reasons.\n",
    "\n",
    "ASSISTANT: \n",
    "\n",
    "answer : \n",
    "\"\"\""
   ]
  },
  {
   "cell_type": "markdown",
   "id": "22812d79-d455-4d58-8118-52fa26df85cb",
   "metadata": {},
   "source": [
    "# model"
   ]
  },
  {
   "cell_type": "code",
   "execution_count": 3,
   "id": "d7a6680e-2af2-4f26-9695-d98f6486a1de",
   "metadata": {},
   "outputs": [
    {
     "data": {
      "application/vnd.jupyter.widget-view+json": {
       "model_id": "644fbeb80e8d4dbd95d77cb66df6fcf6",
       "version_major": 2,
       "version_minor": 0
      },
      "text/plain": [
       "Loading checkpoint shards:   0%|          | 0/3 [00:00<?, ?it/s]"
      ]
     },
     "metadata": {},
     "output_type": "display_data"
    },
    {
     "name": "stderr",
     "output_type": "stream",
     "text": [
      "Some weights of LlamaForCausalLM were not initialized from the model checkpoint at lmsys/vicuna-13b-v1.3 and are newly initialized: ['model.layers.33.self_attn.q_proj.bias', 'model.layers.34.self_attn.v_proj.bias', 'model.layers.0.self_attn.q_proj.bias', 'model.layers.10.self_attn.q_proj.bias', 'model.layers.20.self_attn.q_proj.lora_B', 'model.layers.5.self_attn.v_proj.bias', 'model.layers.16.self_attn.v_proj.bias', 'model.layers.5.self_attn.q_proj.bias', 'model.layers.4.self_attn.q_proj.bias', 'model.layers.23.self_attn.q_proj.bias', 'model.layers.4.self_attn.v_proj.lora_B', 'model.layers.15.self_attn.q_proj.lora_B', 'model.layers.4.self_attn.q_proj.lora_B', 'model.layers.37.self_attn.v_proj.lora_A', 'model.layers.15.self_attn.v_proj.bias', 'model.layers.3.self_attn.q_proj.bias', 'model.layers.7.self_attn.v_proj.lora_A', 'model.layers.31.self_attn.q_proj.lora_A', 'model.layers.37.self_attn.v_proj.lora_B', 'model.layers.30.self_attn.q_proj.lora_B', 'model.layers.22.self_attn.v_proj.lora_B', 'model.layers.5.self_attn.v_proj.lora_B', 'model.layers.8.self_attn.v_proj.lora_B', 'model.layers.14.self_attn.v_proj.lora_A', 'model.layers.26.self_attn.q_proj.lora_A', 'model.layers.30.self_attn.q_proj.bias', 'model.layers.31.self_attn.v_proj.lora_A', 'model.layers.2.self_attn.q_proj.lora_A', 'model.layers.22.self_attn.q_proj.lora_A', 'model.layers.36.self_attn.v_proj.bias', 'model.layers.18.self_attn.v_proj.lora_A', 'model.layers.7.self_attn.q_proj.bias', 'model.layers.10.self_attn.q_proj.lora_B', 'model.layers.13.self_attn.q_proj.lora_B', 'model.layers.20.self_attn.q_proj.bias', 'model.layers.31.self_attn.v_proj.bias', 'model.layers.24.self_attn.v_proj.bias', 'model.layers.35.self_attn.v_proj.lora_A', 'model.layers.14.self_attn.q_proj.bias', 'model.layers.17.self_attn.v_proj.lora_B', 'model.layers.33.self_attn.q_proj.lora_A', 'model.layers.12.self_attn.v_proj.lora_A', 'model.layers.28.self_attn.q_proj.lora_A', 'model.layers.26.self_attn.v_proj.bias', 'model.layers.4.self_attn.v_proj.bias', 'model.layers.34.self_attn.q_proj.lora_A', 'model.layers.18.self_attn.v_proj.bias', 'model.layers.38.self_attn.v_proj.bias', 'model.layers.31.self_attn.v_proj.lora_B', 'model.layers.7.self_attn.q_proj.lora_B', 'model.layers.3.self_attn.q_proj.lora_B', 'model.layers.21.self_attn.v_proj.bias', 'model.layers.10.self_attn.v_proj.lora_A', 'model.layers.6.self_attn.q_proj.bias', 'model.layers.9.self_attn.q_proj.bias', 'model.layers.22.self_attn.v_proj.bias', 'model.layers.15.self_attn.v_proj.lora_B', 'model.layers.37.self_attn.q_proj.lora_A', 'model.layers.36.self_attn.v_proj.lora_A', 'model.layers.11.self_attn.v_proj.bias', 'model.layers.30.self_attn.v_proj.bias', 'model.layers.30.self_attn.v_proj.lora_A', 'model.layers.1.self_attn.q_proj.lora_A', 'model.layers.35.self_attn.q_proj.lora_B', 'model.layers.11.self_attn.q_proj.bias', 'model.layers.27.self_attn.v_proj.lora_A', 'model.layers.29.self_attn.q_proj.lora_A', 'model.layers.39.self_attn.v_proj.lora_B', 'model.layers.34.self_attn.v_proj.lora_B', 'model.layers.32.self_attn.q_proj.lora_B', 'model.layers.27.self_attn.v_proj.lora_B', 'model.layers.25.self_attn.q_proj.lora_B', 'model.layers.2.self_attn.v_proj.bias', 'model.layers.27.self_attn.q_proj.lora_B', 'model.layers.32.self_attn.v_proj.lora_B', 'model.layers.6.self_attn.v_proj.lora_B', 'model.layers.13.self_attn.q_proj.bias', 'model.layers.26.self_attn.q_proj.lora_B', 'model.layers.16.self_attn.v_proj.lora_B', 'model.layers.5.self_attn.q_proj.lora_A', 'model.layers.29.self_attn.q_proj.lora_B', 'model.layers.17.self_attn.v_proj.bias', 'model.layers.23.self_attn.v_proj.lora_B', 'model.layers.17.self_attn.q_proj.lora_B', 'model.layers.19.self_attn.q_proj.bias', 'model.layers.24.self_attn.v_proj.lora_A', 'model.layers.39.self_attn.q_proj.bias', 'model.layers.19.self_attn.v_proj.lora_A', 'model.layers.38.self_attn.v_proj.lora_B', 'model.layers.27.self_attn.v_proj.bias', 'model.layers.0.self_attn.v_proj.lora_B', 'model.layers.31.self_attn.q_proj.bias', 'model.layers.37.self_attn.q_proj.bias', 'model.layers.28.self_attn.q_proj.lora_B', 'model.layers.25.self_attn.q_proj.lora_A', 'model.layers.26.self_attn.v_proj.lora_A', 'model.layers.36.self_attn.q_proj.bias', 'model.layers.24.self_attn.q_proj.lora_B', 'model.layers.11.self_attn.q_proj.lora_B', 'model.layers.36.self_attn.q_proj.lora_A', 'model.layers.20.self_attn.v_proj.lora_A', 'model.layers.25.self_attn.v_proj.lora_B', 'model.layers.7.self_attn.v_proj.lora_B', 'model.layers.22.self_attn.v_proj.lora_A', 'model.layers.28.self_attn.v_proj.lora_B', 'model.layers.18.self_attn.v_proj.lora_B', 'model.layers.35.self_attn.q_proj.bias', 'model.layers.19.self_attn.v_proj.bias', 'model.layers.11.self_attn.v_proj.lora_A', 'model.layers.21.self_attn.q_proj.bias', 'model.layers.35.self_attn.v_proj.lora_B', 'model.layers.38.self_attn.q_proj.bias', 'model.layers.38.self_attn.q_proj.lora_A', 'model.layers.16.self_attn.q_proj.bias', 'model.layers.20.self_attn.q_proj.lora_A', 'model.layers.25.self_attn.v_proj.lora_A', 'model.layers.0.self_attn.v_proj.lora_A', 'model.layers.7.self_attn.v_proj.bias', 'model.layers.29.self_attn.v_proj.lora_B', 'model.layers.0.self_attn.v_proj.bias', 'model.layers.32.self_attn.q_proj.bias', 'model.layers.4.self_attn.q_proj.lora_A', 'model.layers.12.self_attn.v_proj.bias', 'model.layers.6.self_attn.q_proj.lora_B', 'model.layers.26.self_attn.v_proj.lora_B', 'model.layers.37.self_attn.q_proj.lora_B', 'model.layers.21.self_attn.q_proj.lora_B', 'model.layers.13.self_attn.q_proj.lora_A', 'model.layers.3.self_attn.v_proj.lora_A', 'model.layers.27.self_attn.q_proj.lora_A', 'model.layers.24.self_attn.q_proj.lora_A', 'model.layers.38.self_attn.v_proj.lora_A', 'model.layers.24.self_attn.q_proj.bias', 'model.layers.1.self_attn.q_proj.bias', 'model.layers.5.self_attn.v_proj.lora_A', 'model.layers.23.self_attn.q_proj.lora_B', 'model.layers.2.self_attn.q_proj.bias', 'model.layers.35.self_attn.q_proj.lora_A', 'model.layers.12.self_attn.v_proj.lora_B', 'model.layers.13.self_attn.v_proj.bias', 'model.layers.8.self_attn.v_proj.lora_A', 'model.layers.12.self_attn.q_proj.bias', 'model.layers.18.self_attn.q_proj.lora_A', 'model.layers.11.self_attn.q_proj.lora_A', 'model.layers.6.self_attn.q_proj.lora_A', 'model.layers.19.self_attn.v_proj.lora_B', 'model.layers.18.self_attn.q_proj.bias', 'model.layers.29.self_attn.v_proj.bias', 'model.layers.28.self_attn.v_proj.lora_A', 'model.layers.17.self_attn.q_proj.lora_A', 'model.layers.30.self_attn.q_proj.lora_A', 'model.layers.27.self_attn.q_proj.bias', 'model.layers.1.self_attn.v_proj.lora_B', 'model.layers.29.self_attn.v_proj.lora_A', 'model.layers.10.self_attn.v_proj.bias', 'model.layers.19.self_attn.q_proj.lora_A', 'model.layers.33.self_attn.v_proj.bias', 'model.layers.14.self_attn.q_proj.lora_B', 'model.layers.39.self_attn.v_proj.bias', 'model.layers.10.self_attn.v_proj.lora_B', 'model.layers.13.self_attn.v_proj.lora_A', 'model.layers.16.self_attn.q_proj.lora_A', 'model.layers.32.self_attn.q_proj.lora_A', 'model.layers.29.self_attn.q_proj.bias', 'model.layers.39.self_attn.q_proj.lora_B', 'model.layers.1.self_attn.v_proj.bias', 'model.layers.16.self_attn.q_proj.lora_B', 'model.layers.0.self_attn.q_proj.lora_A', 'model.layers.8.self_attn.q_proj.bias', 'model.layers.10.self_attn.q_proj.lora_A', 'model.layers.17.self_attn.q_proj.bias', 'model.layers.0.self_attn.q_proj.lora_B', 'model.layers.17.self_attn.v_proj.lora_A', 'model.layers.2.self_attn.v_proj.lora_A', 'model.layers.15.self_attn.v_proj.lora_A', 'model.layers.34.self_attn.v_proj.lora_A', 'model.layers.19.self_attn.q_proj.lora_B', 'model.layers.9.self_attn.q_proj.lora_A', 'model.layers.5.self_attn.q_proj.lora_B', 'model.layers.21.self_attn.v_proj.lora_A', 'model.layers.9.self_attn.v_proj.lora_B', 'model.layers.31.self_attn.q_proj.lora_B', 'model.layers.23.self_attn.v_proj.bias', 'model.layers.34.self_attn.q_proj.lora_B', 'model.layers.11.self_attn.v_proj.lora_B', 'model.layers.18.self_attn.q_proj.lora_B', 'model.layers.25.self_attn.q_proj.bias', 'model.layers.39.self_attn.v_proj.lora_A', 'model.layers.32.self_attn.v_proj.lora_A', 'model.layers.6.self_attn.v_proj.lora_A', 'model.layers.7.self_attn.q_proj.lora_A', 'model.layers.6.self_attn.v_proj.bias', 'model.layers.28.self_attn.v_proj.bias', 'model.layers.2.self_attn.q_proj.lora_B', 'model.layers.14.self_attn.q_proj.lora_A', 'model.layers.20.self_attn.v_proj.bias', 'model.layers.3.self_attn.v_proj.bias', 'model.layers.12.self_attn.q_proj.lora_A', 'model.layers.32.self_attn.v_proj.bias', 'model.layers.25.self_attn.v_proj.bias', 'model.layers.9.self_attn.v_proj.bias', 'model.layers.33.self_attn.v_proj.lora_A', 'model.layers.15.self_attn.q_proj.bias', 'model.layers.22.self_attn.q_proj.bias', 'model.layers.23.self_attn.q_proj.lora_A', 'model.layers.33.self_attn.v_proj.lora_B', 'model.layers.9.self_attn.v_proj.lora_A', 'model.layers.22.self_attn.q_proj.lora_B', 'model.layers.3.self_attn.v_proj.lora_B', 'model.layers.2.self_attn.v_proj.lora_B', 'model.layers.1.self_attn.v_proj.lora_A', 'model.layers.28.self_attn.q_proj.bias', 'model.layers.30.self_attn.v_proj.lora_B', 'model.layers.16.self_attn.v_proj.lora_A', 'model.layers.36.self_attn.q_proj.lora_B', 'model.layers.15.self_attn.q_proj.lora_A', 'model.layers.20.self_attn.v_proj.lora_B', 'model.layers.26.self_attn.q_proj.bias', 'model.layers.8.self_attn.v_proj.bias', 'model.layers.9.self_attn.q_proj.lora_B', 'model.layers.14.self_attn.v_proj.lora_B', 'model.layers.4.self_attn.v_proj.lora_A', 'model.layers.38.self_attn.q_proj.lora_B', 'model.layers.37.self_attn.v_proj.bias', 'model.layers.14.self_attn.v_proj.bias', 'model.layers.8.self_attn.q_proj.lora_B', 'model.layers.33.self_attn.q_proj.lora_B', 'model.layers.24.self_attn.v_proj.lora_B', 'model.layers.1.self_attn.q_proj.lora_B', 'model.layers.39.self_attn.q_proj.lora_A', 'model.layers.12.self_attn.q_proj.lora_B', 'model.layers.8.self_attn.q_proj.lora_A', 'model.layers.13.self_attn.v_proj.lora_B', 'model.layers.21.self_attn.q_proj.lora_A', 'model.layers.36.self_attn.v_proj.lora_B', 'model.layers.3.self_attn.q_proj.lora_A', 'model.layers.21.self_attn.v_proj.lora_B', 'model.layers.34.self_attn.q_proj.bias', 'model.layers.23.self_attn.v_proj.lora_A', 'model.layers.35.self_attn.v_proj.bias']\n",
      "You should probably TRAIN this model on a down-stream task to be able to use it for predictions and inference.\n"
     ]
    }
   ],
   "source": [
    "train = pd.read_csv('/root/court-decision-prediction/data/open/train.csv')\n",
    "model_select = \"lmsys/vicuna-13b-v1.3\" #openlm-research/open_llama_3b\n",
    "# model_select = \"chainyo/alpaca-lora-7b\"\n",
    "# model_select = \"openlm-research/open_llama_3b\"\n",
    "\n",
    "tokenizer = LlamaTokenizer.from_pretrained(model_select)\n",
    "model = LlamaForCausalLM.from_pretrained(model_select).to(torch.bfloat16).to(\"cuda\")"
   ]
  },
  {
   "cell_type": "markdown",
   "id": "39a202ae-d8d0-4b35-9361-d4634b6f5407",
   "metadata": {},
   "source": [
    "# inference test"
   ]
  },
  {
   "cell_type": "code",
   "execution_count": 4,
   "id": "0891299d-3529-46e8-ac4b-c578cdd54d54",
   "metadata": {},
   "outputs": [
    {
     "name": "stderr",
     "output_type": "stream",
     "text": [
      "/usr/local/lib/python3.10/dist-packages/transformers/generation/utils.py:1259: UserWarning: You have modified the pretrained model configuration to control generation. This is a deprecated strategy to control generation and will be removed soon, in a future version. Please use a generation configuration file (see https://huggingface.co/docs/transformers/main_classes/text_generation)\n",
      "  warnings.warn(\n"
     ]
    },
    {
     "name": "stdout",
     "output_type": "stream",
     "text": [
      "Q: What is 1+1?\n",
      "A: 2\n",
      "\n",
      "Q: What is the capital of France?\n",
      "A: Paris\n",
      "\n",
      "Q: What is the square root of 121?\n"
     ]
    }
   ],
   "source": [
    "instruction = \"Q: What is 1+1?\\nA:\"\n",
    "#input_ctxt = 'For some tasks, you can provide an input context to help the model generate a better response.'\n",
    "\n",
    "prompt = instruction#generate_prompt(instruction, input_ctxt)\n",
    "input_ids = tokenizer(prompt, return_tensors=\"pt\").input_ids\n",
    "input_ids = input_ids.to(model.device)\n",
    "\n",
    "with torch.no_grad():\n",
    "    outputs = model.generate(\n",
    "        input_ids=input_ids, max_new_tokens=32\n",
    "    )\n",
    "response = tokenizer.decode(outputs[0], skip_special_tokens=True)\n",
    "print(response)"
   ]
  },
  {
   "cell_type": "markdown",
   "id": "80de4d4f-47dc-468d-98a0-47b072799bcd",
   "metadata": {},
   "source": [
    "# check tokenizer"
   ]
  },
  {
   "cell_type": "code",
   "execution_count": 5,
   "id": "8bc4840f-5daf-4e05-9d5f-520bf582ae91",
   "metadata": {},
   "outputs": [
    {
     "name": "stdout",
     "output_type": "stream",
     "text": [
      "X O\n",
      "{'input_ids': [1, 2367, 592, 1234, 438, 470, 1060], 'attention_mask': [1, 1, 1, 1, 1, 1, 1]}\n"
     ]
    }
   ],
   "source": [
    "'''\n",
    "o 438, x ; 1060\n",
    "'''\n",
    "print(tokenizer.decode([1060, 438]))\n",
    "check_prompt = 'give me answer O or X'\n",
    "print(tokenizer(check_prompt))"
   ]
  },
  {
   "cell_type": "markdown",
   "id": "fdec37fd-664d-4e15-a6ff-f4e8dbe1c568",
   "metadata": {},
   "source": [
    "# data setting"
   ]
  },
  {
   "cell_type": "code",
   "execution_count": 6,
   "id": "4ae1cc07",
   "metadata": {},
   "outputs": [
    {
     "name": "stderr",
     "output_type": "stream",
     "text": [
      "<ipython-input-6-3aef5907a466>:78: SettingWithCopyWarning: \n",
      "A value is trying to be set on a copy of a slice from a DataFrame.\n",
      "Try using .loc[row_indexer,col_indexer] = value instead\n",
      "\n",
      "See the caveats in the documentation: https://pandas.pydata.org/pandas-docs/stable/user_guide/indexing.html#returning-a-view-versus-a-copy\n",
      "  train_data_fin_one['first_party_grp_int'] = LabelEncoder().fit_transform(train_data_fin_one['first_party_grp'])\n"
     ]
    }
   ],
   "source": [
    "from sklearn.preprocessing import OneHotEncoder, LabelEncoder\n",
    "from sklearn.model_selection import train_test_split\n",
    "from os.path import join\n",
    "\n",
    "\n",
    "class PATH:\n",
    "    root   = '/root/court-decision-prediction'\n",
    "    yaml   = join(root, 'court_decision_prediction/configs.yaml')\n",
    "    data   = join(root, 'data/open')\n",
    "    train  = join(data, 'train.csv')\n",
    "    test   = join(data, 'test.csv')\n",
    "    sample = join(data, 'sample_submission.csv')\n",
    "    submit = join(root, 'submission')\n",
    "\n",
    "\n",
    "\n",
    "def append_party_group(data):\n",
    "    states = list(map(str.lower,\n",
    "                      ['Alabama', 'Alaska', 'Arizona', 'Arkansas', 'California', 'Colorado', 'Connecticut', 'Delaware',\n",
    "                       'Florida', 'Georgia', 'Hawaii', 'Idaho', 'Illinois', 'Indiana', 'Iowa', 'Kansas', 'Kentucky',\n",
    "                       'Louisiana', 'Maine', 'Maryland', 'Massachusetts', 'Michigan', 'Minnesota', 'Mississippi',\n",
    "                       'Missouri', 'Montana', 'Nebraska', 'Nevada', 'New Hampshire', 'New Jersey', 'New Mexico',\n",
    "                       'New York', 'North Carolina', 'North Dakota', 'Ohio', 'Oklahoma', 'Oregon', 'Pennsylvania',\n",
    "                       'Rhode Island', 'South Carolina', 'South Dakota', 'Tennessee', 'Texas', 'Utah', 'Vermont',\n",
    "                       'Virginia', 'Washington', 'West Virginia', 'Wisconsin', 'Wyoming']))\n",
    "    cities = ['new york', 'los angeles', 'chicago', 'houston', 'phoenix', 'philadelphia', 'san antonio', 'san diego',\n",
    "              'dallas', 'san francisco', 'oakland', 'austin', 'jacksonville', 'san jose', 'california', 'indianapolis',\n",
    "              'seattle', 'denver', 'washington', 'boston', 'el paso', 'nashville', 'detroit', 'oklahoma', 'portland',\n",
    "              'las vegas', 'memphis', 'louisville', 'baltimore', 'milwaukee', 'albuquerque', 'tucson', 'fresno', 'mesa',\n",
    "              'sacramento', 'atlanta', 'kansas city', 'colorado springs', 'omaha', 'raleigh', 'miami', 'long beach',\n",
    "              'virginia beach', 'oakland', 'minneapolis', 'tulsa', 'tampa', 'arlington', 'new orleans', 'wichita',\n",
    "              'cleveland', 'bakersfield', 'aurora', 'anaheim', 'honolulu', 'santa ana', 'riverside', 'corpus christi',\n",
    "              'lexington', 'stockton', 'anchorage', 'st. paul', 'newark', 'buffalo', 'plano', 'henderson', 'fort wayne',\n",
    "              'greensboro', 'lincoln', 'glendale', 'chandler', 'st. petersburg', 'jersey city', 'scottsdale', 'norfolk',\n",
    "              'madison', 'orlando', 'birmingham', 'baton rouge', 'durham', 'laredo', 'garland', 'chula vista',\n",
    "              'riverside', 'hialeah', 'lubbock', 'reno', 'north las vegas', 'akron', 'gilbert', 'rochester', 'boise',\n",
    "              'spokane']\n",
    "    def generate_fn(col):\n",
    "        def fn(row):\n",
    "            party = row[col].lower()\n",
    "\n",
    "            keywords1 = ['united states', 'federal', 'commision', 'commodity', 'national']\n",
    "            keywords2 = states + cities + ['school board', 'city', 'republic', 'region', 'district', 'county']\n",
    "            keywords3 = ['corporation', 'inc', 'company', 'bank', 'association', 'llc', 'co.', 'hospital', 'usa', 'school', 'group', 'office', 'department']\n",
    "            keywords4 = [',', 'et al']\n",
    "\n",
    "            for grp, keywords in zip(['united states', 'states', 'group1', 'group2'],\n",
    "                                    [keywords1, keywords2, keywords3, keywords4]):\n",
    "                for key in keywords:\n",
    "                    if key in party:\n",
    "                        return grp\n",
    "            return 'indiv'\n",
    "        return fn\n",
    "\n",
    "    data['first_party_grp']  = data.apply(generate_fn('first_party'), axis=1)\n",
    "    data['second_party_grp'] = data.apply(generate_fn('second_party'), axis=1)\n",
    "\n",
    "\n",
    "# 1. Load data\n",
    "train_data = pd.read_csv(PATH.train)\n",
    "test_data  = pd.read_csv(PATH.test)\n",
    "target     = 'first_party_winner'\n",
    "\n",
    "\n",
    "# 2. Append party_group\n",
    "train_data_pp = train_data.copy()\n",
    "append_party_group(train_data_pp)\n",
    "\n",
    "test_data_pp = test_data.copy()\n",
    "append_party_group(test_data_pp)\n",
    "\n",
    "\n",
    "# 3. Split train_data\n",
    "n_zeros = len(train_data_pp[train_data_pp[target] == 0])\n",
    "train_data_fin_zero = train_data_pp[train_data_pp[target] == 0]\n",
    "train_data_fin_one  = train_data_pp[train_data_pp[target] == 1]\n",
    "\n",
    "train_data_fin_one['first_party_grp_int'] = LabelEncoder().fit_transform(train_data_fin_one['first_party_grp'])\n",
    "_, train_data_fin_one = train_test_split(train_data_fin_one, test_size=n_zeros, stratify=train_data_fin_one['first_party_grp_int'])\n",
    "train_data_fin_one = train_data_fin_one[train_data_fin_zero.columns]\n",
    "train_data_fin_adj = pd.concat([train_data_fin_zero, train_data_fin_one], ignore_index=True)\n",
    "train_data_fin_adj = train_data_fin_adj.sample(frac=1)"
   ]
  },
  {
   "cell_type": "code",
   "execution_count": 7,
   "id": "74086dc2",
   "metadata": {},
   "outputs": [],
   "source": [
    "train_data, val_data = train_test_split(train_data_fin_adj, test_size=0.3, stratify=train_data_fin_adj['first_party_grp'])"
   ]
  },
  {
   "cell_type": "code",
   "execution_count": 8,
   "id": "2bcbc15f-5dde-4bec-aba2-bff9ed1aeff2",
   "metadata": {},
   "outputs": [],
   "source": [
    "train_first_partys = train_data['first_party'].tolist()\n",
    "train_second_partys = train_data['second_party'].tolist()\n",
    "train_facts = train_data['facts'].tolist()\n",
    "train_first_party_winners = train_data['first_party_winner'].tolist()\n",
    "\n",
    "\n",
    "valid_first_partys = val_data['first_party'].tolist()\n",
    "valid_second_partys = val_data['second_party'].tolist()\n",
    "valid_facts = val_data['facts'].tolist()\n",
    "valid_first_party_winners = val_data['first_party_winner'].tolist()"
   ]
  },
  {
   "cell_type": "markdown",
   "id": "212997ac-0432-4534-8e8f-fbf7d0edaa27",
   "metadata": {},
   "source": [
    "# test set check"
   ]
  },
  {
   "cell_type": "code",
   "execution_count": 9,
   "id": "ffefd083-74be-4680-8acd-b42a6d43d199",
   "metadata": {},
   "outputs": [
    {
     "ename": "NameError",
     "evalue": "name 'ouputs' is not defined",
     "output_type": "error",
     "traceback": [
      "\u001b[0;31m---------------------------------------------------------------------------\u001b[0m",
      "\u001b[0;31mNameError\u001b[0m                                 Traceback (most recent call last)",
      "\u001b[0;32m<ipython-input-9-076364c346c5>\u001b[0m in \u001b[0;36m<cell line: 12>\u001b[0;34m()\u001b[0m\n\u001b[1;32m     35\u001b[0m \u001b[0;31m#         input1 = torch.cat((input1, torch.tensor([[last_token]]).to('cuda')), dim=-1)\u001b[0m\u001b[0;34m\u001b[0m\u001b[0;34m\u001b[0m\u001b[0m\n\u001b[1;32m     36\u001b[0m         \u001b[0moutputs\u001b[0m \u001b[0;34m=\u001b[0m \u001b[0mmodel\u001b[0m\u001b[0;34m(\u001b[0m\u001b[0minput1\u001b[0m\u001b[0;34m)\u001b[0m\u001b[0;34m\u001b[0m\u001b[0;34m\u001b[0m\u001b[0m\n\u001b[0;32m---> 37\u001b[0;31m         \u001b[0mlast_token2\u001b[0m \u001b[0;34m=\u001b[0m \u001b[0mouputs\u001b[0m\u001b[0;34m.\u001b[0m\u001b[0mlogits\u001b[0m\u001b[0;34m[\u001b[0m\u001b[0;36m0\u001b[0m\u001b[0;34m,\u001b[0m \u001b[0;34m-\u001b[0m\u001b[0;36m1\u001b[0m\u001b[0;34m]\u001b[0m\u001b[0;34m.\u001b[0m\u001b[0margmax\u001b[0m\u001b[0;34m(\u001b[0m\u001b[0;34m)\u001b[0m\u001b[0;34m\u001b[0m\u001b[0;34m\u001b[0m\u001b[0m\n\u001b[0m\u001b[1;32m     38\u001b[0m         \u001b[0mprint\u001b[0m\u001b[0;34m(\u001b[0m\u001b[0moutput\u001b[0m\u001b[0;34m,\u001b[0m \u001b[0mdecode\u001b[0m\u001b[0;34m(\u001b[0m\u001b[0moutput\u001b[0m\u001b[0;34m)\u001b[0m\u001b[0;34m,\u001b[0m \u001b[0mlast_token2\u001b[0m\u001b[0;34m)\u001b[0m\u001b[0;34m\u001b[0m\u001b[0;34m\u001b[0m\u001b[0m\n\u001b[1;32m     39\u001b[0m \u001b[0;34m\u001b[0m\u001b[0m\n",
      "\u001b[0;31mNameError\u001b[0m: name 'ouputs' is not defined"
     ]
    }
   ],
   "source": [
    "# from tqdm import tqdm\n",
    "\n",
    "# decode = lambda t, special=True: tokenizer.decode(t, skip_special_tokens=special)\n",
    "\n",
    "# # model.lm_head = nn.Linear(4096, 2)\n",
    "# # model = model.to(torch.bfloat16).to('cuda')\n",
    "# # model.load_state_dict(torch.load('temp.pt'), strict=False)\n",
    "# # model.load_state_dict(torch.load('temp_h.pt'), strict=False)\n",
    "\n",
    "\n",
    "# testlist = []\n",
    "# with torch.no_grad():\n",
    "#     for idx, (train_first_party, second_party, facts, first_party_winner) in enumerate(zip(valid_first_partys, valid_second_partys, valid_facts, valid_first_party_winners)):\n",
    "#         prompt = prompt_setting(train_first_party, second_party, facts)\n",
    "\n",
    "#         if first_party_winner==1:\n",
    "#             labels = torch.tensor([29949]).to('cuda') \n",
    "#         else:\n",
    "#             labels = torch.tensor([29990]).to('cuda')    \n",
    "\n",
    "#         loss_temp = nn.CrossEntropyLoss()\n",
    "#         inputs = tokenizer(prompt, return_tensors=\"pt\")\n",
    "#         input1 = inputs.input_ids.to('cuda')\n",
    "#         L = len(input1[0])\n",
    "        \n",
    "        \n",
    "#         # 1. model()\n",
    "#         # 2. model.generate()\n",
    "        \n",
    "# #         ouputs = model(input1)\n",
    "# #         outputs = model(input1)\n",
    "# #       last_token = ouputs.logits[0, -1].argmax()\n",
    "# #         output = model.generate(input1, max_new_tokens=8, output_scores = True)[0, L:]\n",
    "        \n",
    "# #         input1 = torch.cat((input1, torch.tensor([[last_token]]).to('cuda')), dim=-1)\n",
    "#         outputs = model(input1)\n",
    "#         last_token2 = ouputs.logits[0, -1].argmax()\n",
    "#         print(output, decode(output), last_token2)\n",
    "    \n",
    "# #         output = outputs[0][L:]\n",
    "# #         print(output, decode(output, special=False))\n",
    "        \n",
    "# #         for s in output:\n",
    "# #             if s in [438, 29949]:\n",
    "# #                 break\n",
    "# #             elif s in [29990, 1060]:\n",
    "# #                 break\n",
    "# #         else:\n",
    "# #             print(\"failed\", output, decode(output))\n",
    "# #         first_token, second_token = output\n",
    "        \n",
    "        \n",
    "#         last_token = ouputs.logits[0, -1].argmax()\n",
    "#         if last_token in [29949, 29990]:\n",
    "#             if first_party_winner==1:\n",
    "#                 if ouputs.logits[0,-1,29949]>ouputs.logits[0,-1,29990]:\n",
    "#                     testlist.append(1)\n",
    "#                     print(1,1)\n",
    "#                 else:\n",
    "#                     testlist.append(0)\n",
    "#                     print(1,0)\n",
    "\n",
    "#             else:\n",
    "#                 if ouputs.logits[0,-1,29949]<ouputs.logits[0,-1,29990]:\n",
    "#                     testlist.append(1)\n",
    "#                     print(0,0)\n",
    "\n",
    "#                 else:\n",
    "#                     testlist.append(0)\n",
    "#                     print(0,1)\n",
    "#         else:\n",
    "# #             print(max_new_tokens)\n",
    "#             print('Error : ', tokenizer.decode([last_token]), last_token)\n",
    "#             testlist.append(1)\n",
    "\n",
    "\n",
    "# torch.cuda.empty_cache()"
   ]
  },
  {
   "cell_type": "markdown",
   "id": "b4e2c030",
   "metadata": {},
   "source": [
    "1. 첫 번째 혹은 두 번째 토큰에 O, X가 나올 확률\n",
    "    - 100%\n",
    "2. O, X가 나왔을 때, 정확도\n",
    "    - ??"
   ]
  },
  {
   "cell_type": "code",
   "execution_count": null,
   "id": "6f556933",
   "metadata": {},
   "outputs": [],
   "source": [
    "# O : 29949, X : 29990\n",
    "# _O\n",
    "base = np.mean(testlist)\n",
    "base = 0.447"
   ]
  },
  {
   "cell_type": "code",
   "execution_count": null,
   "id": "79a4f973-6842-46a3-a42d-8b9d2fc20eb4",
   "metadata": {},
   "outputs": [],
   "source": [
    "# with torch.no_grad():\n",
    "#     for train_first_party, train_second_party, fact, first_party_winner in zip(test_first_partys, test_second_partys, test_facts, test_first_party_winners):\n",
    "#         prompt = prompt_setting(train_first_party, train_second_party, fact)\n",
    "#         inputs = tokenizer(prompt, return_tensors=\"pt\")\n",
    "#         input1 = inputs.input_ids.to('cuda')\n",
    "#         outputs = model.generate(\n",
    "#             input_ids=input1, max_new_tokens=1\n",
    "#         )\n",
    "#         response = tokenizer.decode(outputs[0], skip_special_tokens=True)\n",
    "#         print(response)\n",
    "#         print('==========================================\\n\\n\\n\\n')"
   ]
  },
  {
   "cell_type": "code",
   "execution_count": null,
   "id": "f06feee2-0189-4efd-af04-f0525d073a4d",
   "metadata": {},
   "outputs": [],
   "source": [
    "lastcheck  = '''\n",
    "Q : Guess if the first party can win in a legal case. Let me know the answer with O or X.\n",
    "\n",
    "### Human: \n",
    "\n",
    "first_party : Nidal Khalid Nasrallah\n",
    "\n",
    "second_partys : William P. Barr, Attorney General\n",
    "\n",
    "fact : Nidal Khalid Nasrallah, a native and citizen of Lebanon, was 17 years old when he entered the United States on a tourist visa in 2006. He became a lawful permanent resident the following year.\n",
    "In 2011, pursuant to a plea bargain agreement, Nasrallah pleaded guilty to two counts of receiving stolen property in interstate commerce. An immigration judge determined that one of those convictions made Nasrallah subject to removal as an alien convicted of a crime involving moral turpitude, 8 U.S.C. § 1227(a)(2)(A)(i). However, the judge also found Nasrallah had established a clear probability that he would be tortured and persecuted in Lebanon by groups such as Hezbollah and ISIS because of his Druze religion and western ties, so the judge granted him a deferral of removal under the Convention Ag\n",
    "\n",
    "### Assistant:\n",
    "\n",
    "answer : \n",
    "\n",
    "\n",
    "'''\n",
    "\n",
    "# lastcheck  = '''\n",
    "# Q : Guess if the first party can win in a legal case. Let me know the answer with O or X.\n",
    "\n",
    "# ### Human: \n",
    "\n",
    "# first_party : Michael Sexton, Warden\n",
    "\n",
    "# second_partys : Nicholas Beaudreaux\n",
    "\n",
    "# fact : Nicholas Beaudreaux shot and killed Wayne Drummond in 2006. Two witnesses to the shooting recognized or were able to describe Beaudreaux but did not know his name. Seventeen months later, one of the witnesses was arrested for an unrelated crime, and while in custody, was shown a middle-school yearbook with Beaudreaux's photograph. The witness identified Beaudreaux as the shooter in the Drummond murder.\n",
    "# Officers interviewed the second witness the following day, and the witness identified Beaudreaux as the shooter from a photo array that included Beaudreaux and five other men. Later, the witness was shown a different photo array that used a different photograph of Beaudreaux, and again the witness identified Beaudreaux as the shooter. At a preliminary hearing, the witness positively identified Beaudreaux \n",
    "\n",
    "# ### Assistant:\n",
    "\n",
    "# answer : \n",
    "\n",
    "# '''\n",
    "inputs = tokenizer(lastcheck, return_tensors=\"pt\")\n",
    "input1 = inputs.input_ids.to('cuda')\n",
    "outputs = model.generate(\n",
    "    input_ids=input1, max_new_tokens=1\n",
    ")\n",
    "response = tokenizer.decode(outputs[0], skip_special_tokens=True)\n",
    "print(response)\n",
    "# outputs_l = model(input_ids=input1)\n",
    "# print(outputs)"
   ]
  },
  {
   "cell_type": "code",
   "execution_count": null,
   "id": "194149ab-c27d-46ac-8482-7af2242b484c",
   "metadata": {},
   "outputs": [],
   "source": [
    "# tokenizer.decode()\n",
    "# #O : 29949, X : 29990"
   ]
  },
  {
   "cell_type": "code",
   "execution_count": null,
   "id": "e503927c-6bbd-44f9-ab98-3ad51f59d106",
   "metadata": {},
   "outputs": [],
   "source": [
    "\n",
    "# base =0.43486590038314177"
   ]
  },
  {
   "cell_type": "code",
   "execution_count": null,
   "id": "b78c4cef-9dec-4744-a362-0238dfe33f68",
   "metadata": {},
   "outputs": [],
   "source": [
    "# train_first_partys, train_second_partys, train_facts, train_first_party_winners = zip(*train_temp)\n",
    "# prompt = prompt_setting(train_first_partys[0], train_second_partys[0], facts[0])"
   ]
  },
  {
   "cell_type": "code",
   "execution_count": null,
   "id": "657f9a48-d539-49f5-ab80-cade84ff0237",
   "metadata": {},
   "outputs": [],
   "source": [
    "# input_ids = tokenizer(prompt, return_tensors=\"pt\").input_ids\n",
    "# input_ids = input_ids.to(model.device)\n",
    "\n",
    "# with torch.no_grad():\n",
    "#     outputs = model.generate(\n",
    "#         input_ids=input_ids, max_new_tokens=1\n",
    "#     )\n",
    "# response = tokenizer.decode(outputs[0], skip_special_tokens=True)\n",
    "# print(response)"
   ]
  },
  {
   "cell_type": "markdown",
   "id": "3286db25-7ce9-42f0-becf-ce42322e1161",
   "metadata": {},
   "source": [
    "# train setting"
   ]
  },
  {
   "cell_type": "code",
   "execution_count": 10,
   "id": "3b4a1cf5-fe4d-403b-8e3a-218c57a9c70e",
   "metadata": {},
   "outputs": [],
   "source": [
    "model.requires_grad = False\n",
    "lora.mark_only_lora_as_trainable(model)\n",
    "\n",
    "# if you don't want binary return, then remove lm_head code\n",
    "    \n",
    "\n",
    "model.lm_head = nn.Linear(5120, 2)\n",
    "model.lm_head.requires_grad = True\n",
    "\n",
    "my_model = model.to(torch.bfloat16).to('cuda')"
   ]
  },
  {
   "cell_type": "markdown",
   "id": "ef61a83d-bca9-4412-a915-93582558bf3a",
   "metadata": {},
   "source": [
    "# train"
   ]
  },
  {
   "cell_type": "code",
   "execution_count": null,
   "id": "2d18d424-6e74-4059-80bc-00e9925ed300",
   "metadata": {},
   "outputs": [
    {
     "data": {
      "image/png": "[encoded data removed]",
      "text/plain": [
       "<Figure size 1200x800 with 2 Axes>"
      ]
     },
     "metadata": {},
     "output_type": "display_data"
    },
    {
     "name": "stdout",
     "output_type": "stream",
     "text": [
      "Accuracy\n",
      "\ttraining         \t (min:    0.522, max:    0.587, cur:    0.587)\n",
      "\tvalidation       \t (min:    0.468, max:    0.502, cur:    0.502)\n",
      "Loss\n",
      "\ttraining         \t (min:    0.682, max:    0.713, cur:    0.682)\n",
      "\tvalidation       \t (min:    0.699, max:    0.701, cur:    0.700)\n"
     ]
    },
    {
     "name": "stderr",
     "output_type": "stream",
     "text": [
      "/usr/local/lib/python3.10/dist-packages/numpy/core/fromnumeric.py:3474: RuntimeWarning: Mean of empty slice.\n",
      "  return _methods._mean(a, axis=axis, dtype=dtype,\n",
      "/usr/local/lib/python3.10/dist-packages/numpy/core/_methods.py:189: RuntimeWarning: invalid value encountered in double_scalars\n",
      "  ret = ret.dtype.type(ret / rcount)\n"
     ]
    }
   ],
   "source": [
    "from livelossplot import PlotLosses\n",
    "rst = pd.DataFrame(columns=['loss', 'acc', 'val_loss', 'val_acc'], index=pd.Index([], name='Epoch'))\n",
    "liveloss = PlotLosses()\n",
    "\n",
    "\n",
    "epochs = 100\n",
    "optimizer = torch.optim.Adam(model.parameters(), lr=5e-5)\n",
    "\n",
    "avg_train_acc = []\n",
    "avg_valid_acc = []\n",
    "avg_train_loss = []\n",
    "avg_valid_loss = []\n",
    "\n",
    "bestloss = 0\n",
    "maxprompt = 0\n",
    "for epoch in range(epochs):\n",
    "    acc_train_list = []\n",
    "    loss_train_list = []\n",
    "    acc_valid_list = []\n",
    "    loss_valid_list = []\n",
    "    \n",
    "    count = 0\n",
    "    loss = None\n",
    "    for train_first_party, second_party, facts, first_party_winner in zip(train_first_partys, train_second_partys, train_facts, train_first_party_winners):\n",
    "        prompt = prompt_setting(train_first_party, second_party, facts)\n",
    "        \n",
    "        if first_party_winner==1:\n",
    "            labels = torch.tensor([1]).to('cuda') # 1, 29949\n",
    "        else:\n",
    "            labels = torch.tensor([0]).to('cuda') # 0, 29990\n",
    "            \n",
    "        inputs = tokenizer(prompt, return_tensors=\"pt\")\n",
    "        input1 = inputs.input_ids.to('cuda')\n",
    "        ouputs = my_model(input1)\n",
    "        \n",
    "        loss_temp = nn.CrossEntropyLoss()\n",
    "        if (count+1)%2==0:\n",
    "            loss += loss_temp(ouputs.logits[:,-1,:], labels)\n",
    "            loss /= 2          \n",
    "            optimizer.zero_grad()\n",
    "            loss.backward()\n",
    "            optimizer.step()\n",
    "            loss_train_list.append(loss.item())\n",
    "            del loss\n",
    "            loss = None\n",
    "        else:\n",
    "            if loss==None:\n",
    "                loss = loss_temp(ouputs.logits[:,-1,:], labels)\n",
    "            else:\n",
    "                loss += loss_temp(ouputs.logits[:,-1,:], labels)\n",
    "        \n",
    "        del ouputs\n",
    "        del inputs\n",
    "        del input1\n",
    "        count += 1\n",
    "        torch.cuda.empty_cache()\n",
    "        \n",
    "    with torch.no_grad():\n",
    "        for train_first_party, second_party, facts, first_party_winner in zip(valid_first_partys, valid_second_partys, valid_facts, valid_first_party_winners):\n",
    "            prompt = prompt_setting(train_first_party, second_party, facts)\n",
    "\n",
    "            if first_party_winner==1:\n",
    "                labels = torch.tensor([1]).to('cuda') \n",
    "            else:\n",
    "                labels = torch.tensor([0]).to('cuda')    \n",
    "            \n",
    "            loss_temp = nn.CrossEntropyLoss()\n",
    "            inputs = tokenizer(prompt, return_tensors=\"pt\")\n",
    "            input1 = inputs.input_ids.to('cuda')\n",
    "            ouputs = my_model(input1)\n",
    "            loss = loss_temp(ouputs.logits[:,-1,:], labels)\n",
    "            loss_valid_list.append(loss.item())\n",
    "            if first_party_winner==1:\n",
    "                if ouputs.logits[0,-1,1]>ouputs.logits[0,-1,0]:\n",
    "                    acc_valid_list.append(1)\n",
    "                else:\n",
    "                    acc_valid_list.append(0)\n",
    "            else:\n",
    "                if ouputs.logits[0,-1,1]<ouputs.logits[0,-1,0]:\n",
    "                    acc_valid_list.append(1)\n",
    "                else:\n",
    "                    acc_valid_list.append(0)\n",
    "                    \n",
    "            torch.cuda.empty_cache()\n",
    "            \n",
    "        for train_first_party, second_party, facts, first_party_winner in zip(train_first_partys, train_second_partys, train_facts, train_first_party_winners):\n",
    "            prompt = prompt_setting(train_first_party, second_party, facts)\n",
    "            if first_party_winner==1:\n",
    "                labels = torch.tensor([1]).to('cuda') \n",
    "            else:\n",
    "                labels = torch.tensor([0]).to('cuda')    \n",
    "            \n",
    "            loss_temp = nn.CrossEntropyLoss()\n",
    "            inputs = tokenizer(prompt, return_tensors=\"pt\")\n",
    "            input1 = inputs.input_ids.to('cuda')\n",
    "            ouputs = my_model(input1)\n",
    "            loss = loss_temp(ouputs.logits[:,-1,:], labels)\n",
    "            \n",
    "            if first_party_winner==1:\n",
    "                if ouputs.logits[0,-1,1]>ouputs.logits[0,-1,0]:\n",
    "                    acc_train_list.append(1)\n",
    "                else:\n",
    "                    acc_train_list.append(0)\n",
    "            else:\n",
    "                if ouputs.logits[0,-1,1]<ouputs.logits[0,-1,0]:\n",
    "                    acc_train_list.append(1)\n",
    "                else:\n",
    "                    acc_train_list.append(0)\n",
    "                    \n",
    "            torch.cuda.empty_cache()\n",
    "            \n",
    "    rst.loc[epoch] = list(map(float, [np.mean(loss_train_list), np.mean(acc_train_list), np.mean(loss_valid_list), np.mean(acc_valid_list)]))\n",
    "    liveloss.update(rst.loc[epoch])\n",
    "    liveloss.send()\n",
    "    \n",
    "    if np.mean(testlist)>bestloss:\n",
    "        bestloss = np.mean(testlist)\n",
    "        torch.save(lora.lora_state_dict(my_model), \"temp.pt\")\n",
    "        torch.save(my_model.lm_head.state_dict(), \"temp_h.pt\")\n",
    "    acc_train_list = []\n",
    "    acc_valid_list = []\n",
    "    loss_train_list = []\n",
    "    loss_valid_list = []\n",
    "    \n",
    "#     plt.clf()\n",
    "#     plt.plot(avgtest, color='r')\n",
    "#     plt.plot(avgtrain, color='b')\n",
    "#     plt.axhline(y=base, color = 'g')   # draw y =0 axes\n",
    "#     plt.savefig('loss.png')\n",
    "    "
   ]
  },
  {
   "cell_type": "code",
   "execution_count": null,
   "id": "821ced9e",
   "metadata": {},
   "outputs": [],
   "source": [
    "liveloss = PlotLosses()"
   ]
  },
  {
   "cell_type": "code",
   "execution_count": null,
   "id": "4a64584b",
   "metadata": {},
   "outputs": [],
   "source": [
    "rst.loc[epoch] = list(map(float, [np.mean(loss_train_list), np.mean(acc_train_list), np.mean(loss_valid_list), np.mean(acc_valid_list)]))\n",
    "liveloss.update(rst.loc[epoch])\n",
    "liveloss.send()"
   ]
  },
  {
   "cell_type": "code",
   "execution_count": null,
   "id": "0c280b5a-d0a1-4e7f-8f75-80d4292c81ce",
   "metadata": {},
   "outputs": [],
   "source": [
    "ouputs = model(input1, labels = input2)\n",
    "print(ouputs.loss.item())\n",
    "optimizer.zero_grad()\n",
    "ouputs.loss.requires_grad_(True)\n",
    "ouputs.loss.backward()\n",
    "optimizer.step()\n",
    "print(ouputs.loss.item())"
   ]
  },
  {
   "cell_type": "code",
   "execution_count": null,
   "id": "10895f20-b475-4da4-b50c-699769347043",
   "metadata": {},
   "outputs": [],
   "source": [
    "len(input1[0])"
   ]
  },
  {
   "cell_type": "code",
   "execution_count": null,
   "id": "39748670-ef3c-49b6-bb7f-770a8094b7ba",
   "metadata": {},
   "outputs": [],
   "source": [
    "len(input2[0])"
   ]
  },
  {
   "cell_type": "code",
   "execution_count": null,
   "id": "4b95c395-b586-4557-aa67-312ca454476a",
   "metadata": {},
   "outputs": [],
   "source": [
    "len(input1[0])"
   ]
  },
  {
   "cell_type": "code",
   "execution_count": null,
   "id": "9fb1d0c2-92a7-4672-b7fd-5f9608aa567f",
   "metadata": {},
   "outputs": [],
   "source": [
    "'''\n",
    "o 438, x ; 1060\n",
    "'''"
   ]
  }
 ],
 "metadata": {
  "kernelspec": {
   "display_name": "Python 3",
   "language": "python",
   "name": "python3"
  },
  "language_info": {
   "codemirror_mode": {
    "name": "ipython",
    "version": 3
   },
   "file_extension": ".py",
   "mimetype": "text/x-python",
   "name": "python",
   "nbconvert_exporter": "python",
   "pygments_lexer": "ipython3",
   "version": "3.10.12"
  }
 },
 "nbformat": 4,
 "nbformat_minor": 5
}
