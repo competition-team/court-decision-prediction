{
 "cells": [
  {
   "cell_type": "code",
   "execution_count": 1,
   "id": "d599454a-3185-48f2-9e0f-8a241f5f4bce",
   "metadata": {},
   "outputs": [
    {
     "name": "stderr",
     "output_type": "stream",
     "text": [
      "Xformers is not installed correctly. If you want to use memory_efficient_attention to accelerate training use the following command to install Xformers\n",
      "pip install xformers.\n"
     ]
    }
   ],
   "source": [
    "import pandas as pd\n",
    "from transformers import AutoTokenizer, LlamaForCausalLM\n",
    "from transformers import AutoTokenizer, OpenLlamaForCausalLM\n",
    "from transformers import LlamaTokenizer\n",
    "import pandas as pd\n",
    "import torch\n",
    "import loralib as lora\n",
    "import numpy as np\n",
    "import matplotlib.pyplot as plt\n",
    "import random\n",
    "import copy\n",
    "from torch import nn\n",
    "import os\n",
    "\n",
    "\n",
    "def seed_everything(seed: int = 42):\n",
    "    random.seed(seed)\n",
    "    np.random.seed(seed)\n",
    "    os.environ[\"PYTHONHASHSEED\"] = str(seed)\n",
    "    torch.manual_seed(seed)\n",
    "    torch.cuda.manual_seed(seed)  # type: ignore\n",
    "    torch.backends.cudnn.deterministic = True  # type: ignore\n",
    "    torch.backends.cudnn.benchmark = True  # type: ignore\n",
    "seed_everything()\n",
    "\n",
    "\n",
    "\n",
    "def prompt_setting(train_first_party, train_second_party, fact):\n",
    "    instruction = \"Q : Guess if the first party can win in a legal case. Let me know the answer with O or X.\\n\\n\"\n",
    "    prompt = instruction + 'first_party : ' + train_first_party + '\\n\\nsecond_partys : \"' + train_second_party +'\"\\n\\nfact : ' + fact + '\\n\\nanswer : '\n",
    "        \n",
    "    if len(prompt)>1000:\n",
    "        instruction = \"Guess if the first party can win in a legal case. Let me know the answer with O or X.\\n\\n\"\n",
    "        prefix = 'first_party : ' + train_first_party + '\\n\\nsecond_partys : ' + train_second_party +'\\n\\nfact : '\n",
    "        fact = fact[:1000-len(instruction)-len(prefix)]\n",
    "        prompt = instruction + prefix + fact + '\\n\\nanswer : '\n",
    "        # continue\n",
    "    return prompt\n",
    "\n"
   ]
  },
  {
   "cell_type": "markdown",
   "id": "22812d79-d455-4d58-8118-52fa26df85cb",
   "metadata": {},
   "source": [
    "# model"
   ]
  },
  {
   "cell_type": "code",
   "execution_count": 2,
   "id": "d7a6680e-2af2-4f26-9695-d98f6486a1de",
   "metadata": {},
   "outputs": [
    {
     "data": {
      "application/vnd.jupyter.widget-view+json": {
       "model_id": "e21fe11feb9847b0a4ba14bc8b69ac46",
       "version_major": 2,
       "version_minor": 0
      },
      "text/plain": [
       "Loading checkpoint shards:   0%|          | 0/14 [00:00<?, ?it/s]"
      ]
     },
     "metadata": {},
     "output_type": "display_data"
    },
    {
     "name": "stderr",
     "output_type": "stream",
     "text": [
      "Some weights of LlamaForCausalLM were not initialized from the model checkpoint at AlekseyKorshuk/vicuna-7b and are newly initialized: ['model.layers.12.self_attn.v_proj.lora_A', 'model.layers.5.self_attn.v_proj.lora_B', 'model.layers.17.self_attn.v_proj.lora_A', 'model.layers.8.self_attn.v_proj.lora_B', 'model.layers.14.self_attn.v_proj.lora_B', 'model.layers.18.self_attn.q_proj.bias', 'model.layers.2.self_attn.q_proj.lora_A', 'model.layers.0.self_attn.v_proj.lora_A', 'model.layers.12.self_attn.q_proj.lora_A', 'model.layers.23.self_attn.q_proj.lora_A', 'model.layers.21.self_attn.v_proj.bias', 'model.layers.15.self_attn.v_proj.lora_B', 'model.layers.27.self_attn.v_proj.bias', 'model.layers.9.self_attn.q_proj.bias', 'model.layers.12.self_attn.q_proj.bias', 'model.layers.7.self_attn.v_proj.lora_A', 'model.layers.5.self_attn.q_proj.lora_B', 'model.layers.30.self_attn.q_proj.lora_B', 'model.layers.27.self_attn.v_proj.lora_B', 'model.layers.25.self_attn.q_proj.lora_A', 'model.layers.3.self_attn.q_proj.lora_B', 'model.layers.31.self_attn.q_proj.lora_A', 'model.layers.3.self_attn.v_proj.lora_B', 'model.layers.10.self_attn.q_proj.bias', 'model.layers.1.self_attn.v_proj.bias', 'model.layers.18.self_attn.v_proj.bias', 'model.layers.3.self_attn.q_proj.bias', 'model.layers.0.self_attn.q_proj.lora_A', 'model.layers.30.self_attn.v_proj.lora_A', 'model.layers.27.self_attn.q_proj.lora_A', 'model.layers.18.self_attn.v_proj.lora_B', 'model.layers.25.self_attn.v_proj.lora_A', 'model.layers.13.self_attn.q_proj.lora_B', 'model.layers.11.self_attn.v_proj.lora_A', 'model.layers.25.self_attn.v_proj.bias', 'model.layers.11.self_attn.q_proj.lora_A', 'model.layers.24.self_attn.v_proj.bias', 'model.layers.9.self_attn.q_proj.lora_B', 'model.layers.23.self_attn.q_proj.bias', 'model.layers.0.self_attn.v_proj.lora_B', 'model.layers.31.self_attn.v_proj.lora_B', 'model.layers.9.self_attn.v_proj.lora_A', 'model.layers.11.self_attn.v_proj.bias', 'model.layers.18.self_attn.q_proj.lora_A', 'model.layers.3.self_attn.q_proj.lora_A', 'model.layers.11.self_attn.q_proj.lora_B', 'model.layers.29.self_attn.v_proj.lora_B', 'model.layers.29.self_attn.v_proj.lora_A', 'model.layers.23.self_attn.v_proj.lora_A', 'model.layers.28.self_attn.v_proj.bias', 'model.layers.10.self_attn.v_proj.lora_A', 'model.layers.15.self_attn.q_proj.lora_B', 'model.layers.24.self_attn.q_proj.bias', 'model.layers.16.self_attn.v_proj.bias', 'model.layers.4.self_attn.q_proj.bias', 'model.layers.9.self_attn.q_proj.lora_A', 'model.layers.3.self_attn.v_proj.bias', 'model.layers.20.self_attn.q_proj.lora_A', 'model.layers.19.self_attn.q_proj.lora_B', 'model.layers.13.self_attn.q_proj.lora_A', 'model.layers.17.self_attn.q_proj.lora_A', 'model.layers.27.self_attn.q_proj.lora_B', 'model.layers.26.self_attn.v_proj.bias', 'model.layers.16.self_attn.v_proj.lora_B', 'model.layers.5.self_attn.q_proj.lora_A', 'model.layers.14.self_attn.q_proj.lora_A', 'model.layers.4.self_attn.v_proj.bias', 'model.layers.26.self_attn.v_proj.lora_A', 'model.layers.22.self_attn.v_proj.bias', 'model.layers.20.self_attn.q_proj.lora_B', 'model.layers.30.self_attn.q_proj.lora_A', 'model.layers.14.self_attn.q_proj.bias', 'model.layers.5.self_attn.v_proj.lora_A', 'model.layers.14.self_attn.v_proj.bias', 'model.layers.14.self_attn.q_proj.lora_B', 'model.layers.15.self_attn.q_proj.bias', 'model.layers.31.self_attn.v_proj.bias', 'model.layers.19.self_attn.q_proj.bias', 'model.layers.14.self_attn.v_proj.lora_A', 'model.layers.10.self_attn.v_proj.bias', 'model.layers.25.self_attn.v_proj.lora_B', 'model.layers.1.self_attn.q_proj.lora_A', 'model.layers.24.self_attn.v_proj.lora_B', 'model.layers.28.self_attn.q_proj.lora_A', 'model.layers.4.self_attn.q_proj.lora_B', 'model.layers.30.self_attn.v_proj.bias', 'model.layers.10.self_attn.v_proj.lora_B', 'model.layers.24.self_attn.q_proj.lora_B', 'model.layers.2.self_attn.v_proj.lora_B', 'model.layers.29.self_attn.v_proj.bias', 'model.layers.17.self_attn.v_proj.bias', 'model.layers.29.self_attn.q_proj.lora_B', 'model.layers.21.self_attn.q_proj.lora_A', 'model.layers.31.self_attn.q_proj.lora_B', 'model.layers.1.self_attn.q_proj.lora_B', 'model.layers.17.self_attn.q_proj.bias', 'model.layers.10.self_attn.q_proj.lora_B', 'model.layers.6.self_attn.v_proj.lora_A', 'model.layers.22.self_attn.v_proj.lora_A', 'model.layers.16.self_attn.v_proj.lora_A', 'model.layers.19.self_attn.q_proj.lora_A', 'model.layers.4.self_attn.v_proj.lora_B', 'model.layers.13.self_attn.v_proj.bias', 'model.layers.30.self_attn.q_proj.bias', 'model.layers.18.self_attn.q_proj.lora_B', 'model.layers.8.self_attn.q_proj.lora_B', 'model.layers.1.self_attn.v_proj.lora_B', 'model.layers.9.self_attn.v_proj.bias', 'model.layers.17.self_attn.v_proj.lora_B', 'model.layers.12.self_attn.q_proj.lora_B', 'model.layers.15.self_attn.v_proj.lora_A', 'model.layers.26.self_attn.q_proj.lora_B', 'model.layers.6.self_attn.q_proj.lora_A', 'model.layers.2.self_attn.v_proj.bias', 'model.layers.28.self_attn.v_proj.lora_B', 'model.layers.23.self_attn.v_proj.lora_B', 'model.layers.2.self_attn.q_proj.bias', 'model.layers.16.self_attn.q_proj.bias', 'model.layers.7.self_attn.q_proj.lora_A', 'model.layers.30.self_attn.v_proj.lora_B', 'model.layers.25.self_attn.q_proj.bias', 'model.layers.12.self_attn.v_proj.bias', 'model.layers.6.self_attn.v_proj.bias', 'model.layers.22.self_attn.v_proj.lora_B', 'model.layers.21.self_attn.q_proj.bias', 'model.layers.28.self_attn.q_proj.lora_B', 'model.layers.1.self_attn.q_proj.bias', 'model.layers.1.self_attn.v_proj.lora_A', 'model.layers.16.self_attn.q_proj.lora_A', 'model.layers.22.self_attn.q_proj.lora_B', 'model.layers.9.self_attn.v_proj.lora_B', 'model.layers.0.self_attn.q_proj.bias', 'model.layers.13.self_attn.q_proj.bias', 'model.layers.22.self_attn.q_proj.bias', 'model.layers.16.self_attn.q_proj.lora_B', 'model.layers.6.self_attn.q_proj.lora_B', 'model.layers.29.self_attn.q_proj.lora_A', 'model.layers.3.self_attn.v_proj.lora_A', 'model.layers.7.self_attn.v_proj.lora_B', 'model.layers.15.self_attn.q_proj.lora_A', 'model.layers.20.self_attn.q_proj.bias', 'model.layers.12.self_attn.v_proj.lora_B', 'model.layers.2.self_attn.v_proj.lora_A', 'model.layers.8.self_attn.q_proj.lora_A', 'model.layers.19.self_attn.v_proj.bias', 'model.layers.23.self_attn.v_proj.bias', 'model.layers.26.self_attn.q_proj.bias', 'model.layers.27.self_attn.q_proj.bias', 'model.layers.24.self_attn.q_proj.lora_A', 'model.layers.20.self_attn.v_proj.bias', 'model.layers.2.self_attn.q_proj.lora_B', 'model.layers.29.self_attn.q_proj.bias', 'model.layers.18.self_attn.v_proj.lora_A', 'model.layers.15.self_attn.v_proj.bias', 'model.layers.5.self_attn.q_proj.bias', 'model.layers.27.self_attn.v_proj.lora_A', 'model.layers.11.self_attn.v_proj.lora_B', 'model.layers.19.self_attn.v_proj.lora_A', 'model.layers.31.self_attn.v_proj.lora_A', 'model.layers.17.self_attn.q_proj.lora_B', 'model.layers.25.self_attn.q_proj.lora_B', 'model.layers.21.self_attn.v_proj.lora_A', 'model.layers.11.self_attn.q_proj.bias', 'model.layers.8.self_attn.v_proj.bias', 'model.layers.7.self_attn.v_proj.bias', 'model.layers.8.self_attn.v_proj.lora_A', 'model.layers.13.self_attn.v_proj.lora_B', 'model.layers.0.self_attn.q_proj.lora_B', 'model.layers.10.self_attn.q_proj.lora_A', 'model.layers.28.self_attn.v_proj.lora_A', 'model.layers.6.self_attn.v_proj.lora_B', 'model.layers.21.self_attn.q_proj.lora_B', 'model.layers.13.self_attn.v_proj.lora_A', 'model.layers.8.self_attn.q_proj.bias', 'model.layers.22.self_attn.q_proj.lora_A', 'model.layers.20.self_attn.v_proj.lora_B', 'model.layers.23.self_attn.q_proj.lora_B', 'model.layers.5.self_attn.v_proj.bias', 'model.layers.4.self_attn.q_proj.lora_A', 'model.layers.26.self_attn.v_proj.lora_B', 'model.layers.0.self_attn.v_proj.bias', 'model.layers.6.self_attn.q_proj.bias', 'model.layers.21.self_attn.v_proj.lora_B', 'model.layers.7.self_attn.q_proj.bias', 'model.layers.26.self_attn.q_proj.lora_A', 'model.layers.24.self_attn.v_proj.lora_A', 'model.layers.28.self_attn.q_proj.bias', 'model.layers.20.self_attn.v_proj.lora_A', 'model.layers.19.self_attn.v_proj.lora_B', 'model.layers.31.self_attn.q_proj.bias', 'model.layers.4.self_attn.v_proj.lora_A', 'model.layers.7.self_attn.q_proj.lora_B']\n",
      "You should probably TRAIN this model on a down-stream task to be able to use it for predictions and inference.\n"
     ]
    }
   ],
   "source": [
    "train = pd.read_csv('train.csv')\n",
    "model_select = \"AlekseyKorshuk/vicuna-7b\" #openlm-research/open_llama_3b\n",
    "# model_select = \"chainyo/alpaca-lora-7b\"\n",
    "# model_select = \"openlm-research/open_llama_3b\"\n",
    "\n",
    "tokenizer = LlamaTokenizer.from_pretrained(model_select)\n",
    "model = LlamaForCausalLM.from_pretrained(model_select).to(torch.bfloat16).to(\"cuda\")\n"
   ]
  },
  {
   "cell_type": "markdown",
   "id": "39a202ae-d8d0-4b35-9361-d4634b6f5407",
   "metadata": {},
   "source": [
    "# inference test"
   ]
  },
  {
   "cell_type": "code",
   "execution_count": 3,
   "id": "0891299d-3529-46e8-ac4b-c578cdd54d54",
   "metadata": {},
   "outputs": [
    {
     "name": "stderr",
     "output_type": "stream",
     "text": [
      "/opt/conda/envs/rapids/lib/python3.10/site-packages/transformers/generation/utils.py:1259: UserWarning: You have modified the pretrained model configuration to control generation. This is a deprecated strategy to control generation and will be removed soon, in a future version. Please use a generation configuration file (see https://huggingface.co/docs/transformers/main_classes/text_generation )\n",
      "  warnings.warn(\n"
     ]
    },
    {
     "name": "stdout",
     "output_type": "stream",
     "text": [
      "Q: What is 1+1?\n",
      "A: One plus one is equal to two.\n",
      "Q: What is the capital of France?\n",
      "A: The capital of France is Paris.\n",
      "Q: What\n"
     ]
    }
   ],
   "source": [
    "instruction = \"Q: What is 1+1?\\nA:\"\n",
    "#input_ctxt = 'For some tasks, you can provide an input context to help the model generate a better response.'\n",
    "\n",
    "prompt = instruction#generate_prompt(instruction, input_ctxt)\n",
    "input_ids = tokenizer(prompt, return_tensors=\"pt\").input_ids\n",
    "input_ids = input_ids.to(model.device)\n",
    "\n",
    "with torch.no_grad():\n",
    "    outputs = model.generate(\n",
    "        input_ids=input_ids, max_new_tokens=32\n",
    "    )\n",
    "response = tokenizer.decode(outputs[0], skip_special_tokens=True)\n",
    "print(response)"
   ]
  },
  {
   "cell_type": "markdown",
   "id": "4d51cf51-3645-4c41-b36c-45655b67d29a",
   "metadata": {},
   "source": [
    "# train setting"
   ]
  },
  {
   "cell_type": "code",
   "execution_count": 4,
   "id": "9ae95351-86db-42ab-9be5-f97ecc105b59",
   "metadata": {},
   "outputs": [],
   "source": [
    "model.requires_grad = False\n",
    "lora.mark_only_lora_as_trainable(model)\n",
    "\n",
    "# if you don't want binary return, then remove lm_head code\n",
    "model.lm_head = nn.Linear(4096, 2)\n",
    "model.lm_head.requires_grad = True\n",
    "\n",
    "\n",
    "my_model = model.to(torch.bfloat16).to('cuda')"
   ]
  },
  {
   "cell_type": "code",
   "execution_count": null,
   "id": "ff5e75a9-27f6-484c-9986-986d608dfff1",
   "metadata": {},
   "outputs": [],
   "source": []
  },
  {
   "cell_type": "markdown",
   "id": "fdec37fd-664d-4e15-a6ff-f4e8dbe1c568",
   "metadata": {},
   "source": [
    "# data setting"
   ]
  },
  {
   "cell_type": "code",
   "execution_count": 5,
   "id": "2bcbc15f-5dde-4bec-aba2-bff9ed1aeff2",
   "metadata": {},
   "outputs": [],
   "source": [
    "first_partys = train['first_party'].tolist()\n",
    "second_partys = train['second_party'].tolist()\n",
    "facts = train['facts'].tolist()\n",
    "first_party_winners = train['first_party_winner'].tolist()\n",
    "index = int(len(first_partys)*0.7)\n",
    "\n",
    "train_temp = list(zip(first_partys, second_partys, facts, first_party_winners))\n",
    "\n",
    "random.shuffle(train_temp)\n",
    "\n",
    "first_partys, second_partys, facts, first_party_winners = zip(*train_temp)"
   ]
  },
  {
   "cell_type": "code",
   "execution_count": 6,
   "id": "45ae0c7a-c3dd-434b-adf0-6c7fa5f29360",
   "metadata": {},
   "outputs": [
    {
     "name": "stdout",
     "output_type": "stream",
     "text": [
      "568\n",
      "568\n"
     ]
    }
   ],
   "source": [
    "train_first_partys = first_partys[:index]\n",
    "train_second_partys = second_partys[:index]\n",
    "train_facts = facts[:index]\n",
    "train_first_party_winners = first_party_winners[:index]\n",
    "\n",
    "\n",
    "train_facts = np.array(train_facts)\n",
    "train_first_partys = np.array(train_first_partys)\n",
    "train_second_partys = np.array(train_second_partys)\n",
    "train_first_party_winners = np.array(train_first_party_winners)\n",
    "\n",
    "num_zero = np.sum(train_first_party_winners==0)\n",
    "zero_train_facts = train_facts[train_first_party_winners==0]\n",
    "zero_train_first_partys = train_first_partys[train_first_party_winners==0]\n",
    "zero_train_second_partys= train_second_partys[train_first_party_winners==0]\n",
    "zero_train_first_party_winners = train_first_party_winners[train_first_party_winners==0]\n",
    "\n",
    "\n",
    "one_train_facts = train_facts[train_first_party_winners==1]\n",
    "one_train_first_partys = train_first_partys[train_first_party_winners==1]\n",
    "one_train_second_partys= train_second_partys[train_first_party_winners==1]\n",
    "one_train_first_party_winners = train_first_party_winners[train_first_party_winners==1]\n",
    "\n",
    "one_train_facts = one_train_facts[:num_zero]\n",
    "one_train_first_partys = one_train_first_partys[:num_zero]\n",
    "one_train_second_partys = one_train_second_partys[:num_zero]\n",
    "one_train_first_party_winners = one_train_first_party_winners[:num_zero]\n",
    "\n",
    "\n",
    "print(len(one_train_first_party_winners))\n",
    "print(len(one_train_first_party_winners))\n",
    "\n",
    "train_first_partys = zero_train_first_partys.tolist() + one_train_first_partys.tolist()\n",
    "train_second_partys = zero_train_second_partys.tolist() + one_train_second_partys.tolist()\n",
    "train_facts = zero_train_facts.tolist() + one_train_facts.tolist()\n",
    "train_first_party_winners = zero_train_first_party_winners.tolist() + one_train_first_party_winners.tolist()\n",
    "\n",
    "\n",
    "train_temp = list(zip(train_first_partys, train_second_partys, train_facts, train_first_party_winners))\n",
    "\n",
    "random.shuffle(train_temp)\n",
    "\n",
    "train_first_partys, train_second_partys, train_facts, train_first_party_winners = zip(*train_temp)"
   ]
  },
  {
   "cell_type": "code",
   "execution_count": 7,
   "id": "23a61f7a-9ce5-4541-9a05-4ff7c205338a",
   "metadata": {},
   "outputs": [
    {
     "name": "stdout",
     "output_type": "stream",
     "text": [
      "261\n",
      "261\n",
      "522\n"
     ]
    }
   ],
   "source": [
    "test_first_partys = first_partys[index:]\n",
    "test_second_partys = second_partys[index:]\n",
    "test_facts = facts[index:]\n",
    "test_first_party_winners = first_party_winners[index:]\n",
    "\n",
    "\n",
    "test_facts = np.array(test_facts)\n",
    "test_first_partys = np.array(test_first_partys)\n",
    "test_second_partys = np.array(test_second_partys)\n",
    "test_first_party_winners = np.array(test_first_party_winners)\n",
    "\n",
    "num_zero = np.sum(test_first_party_winners==0)\n",
    "zero_test_facts = test_facts[test_first_party_winners==0]\n",
    "zero_test_first_partys = test_first_partys[test_first_party_winners==0]\n",
    "zero_test_second_partys= test_second_partys[test_first_party_winners==0]\n",
    "zero_test_first_party_winners = test_first_party_winners[test_first_party_winners==0]\n",
    "\n",
    "\n",
    "one_test_facts = test_facts[test_first_party_winners==1]\n",
    "one_test_first_partys = test_first_partys[test_first_party_winners==1]\n",
    "one_test_second_partys= test_second_partys[test_first_party_winners==1]\n",
    "one_test_first_party_winners = test_first_party_winners[test_first_party_winners==1]\n",
    "\n",
    "one_test_facts = one_test_facts[:num_zero]\n",
    "one_test_first_partys = one_test_first_partys[:num_zero]\n",
    "one_test_second_partys = one_test_second_partys[:num_zero]\n",
    "one_test_first_party_winners = one_test_first_party_winners[:num_zero]\n",
    "\n",
    "\n",
    "print(len(zero_test_first_party_winners))\n",
    "print(len(one_test_first_party_winners))\n",
    "\n",
    "test_first_partys = zero_test_first_partys.tolist() + one_test_first_partys.tolist()\n",
    "test_second_partys = zero_test_second_partys.tolist() + one_test_second_partys.tolist()\n",
    "test_facts = zero_test_facts.tolist() + one_test_facts.tolist()\n",
    "test_first_party_winners = zero_test_first_party_winners.tolist() + one_test_first_party_winners.tolist()\n",
    "\n",
    "print(len(test_first_party_winners))"
   ]
  },
  {
   "cell_type": "code",
   "execution_count": 8,
   "id": "b78c4cef-9dec-4744-a362-0238dfe33f68",
   "metadata": {},
   "outputs": [],
   "source": [
    "# train_first_partys, train_second_partys, train_facts, train_first_party_winners = zip(*train_temp)\n",
    "# prompt = prompt_setting(train_first_partys[0], train_second_partys[0], facts[0])"
   ]
  },
  {
   "cell_type": "code",
   "execution_count": 9,
   "id": "657f9a48-d539-49f5-ab80-cade84ff0237",
   "metadata": {},
   "outputs": [],
   "source": [
    "# input_ids = tokenizer(prompt, return_tensors=\"pt\").input_ids\n",
    "# input_ids = input_ids.to(model.device)\n",
    "\n",
    "# with torch.no_grad():\n",
    "#     outputs = model.generate(\n",
    "#         input_ids=input_ids, max_new_tokens=1\n",
    "#     )\n",
    "# response = tokenizer.decode(outputs[0], skip_special_tokens=True)\n",
    "# print(response)"
   ]
  },
  {
   "cell_type": "markdown",
   "id": "ef61a83d-bca9-4412-a915-93582558bf3a",
   "metadata": {},
   "source": [
    "# train"
   ]
  },
  {
   "cell_type": "code",
   "execution_count": null,
   "id": "2d18d424-6e74-4059-80bc-00e9925ed300",
   "metadata": {},
   "outputs": [],
   "source": [
    "epochs = 100\n",
    "optimizer = torch.optim.Adam(model.parameters(), lr=5e-5)\n",
    "\n",
    "avgtrain = []\n",
    "avgtest = []\n",
    "bestloss = 0\n",
    "maxprompt = 0\n",
    "for epoch in range(epochs):\n",
    "    trainlist = []\n",
    "    testlist = []\n",
    "    \n",
    "    random.shuffle(train_temp)\n",
    "    train_first_partys, train_second_partys, train_facts, train_first_party_winners = zip(*train_temp)\n",
    "    count = 0\n",
    "    loss = None\n",
    "    for train_first_party, train_second_party, fact, first_party_winner in zip(train_first_partys, train_second_partys, train_facts, train_first_party_winners):\n",
    "        prompt = prompt_setting(train_first_party, train_second_party, fact)\n",
    "        \n",
    "        if first_party_winner==1:\n",
    "            labels = torch.tensor([1]).to('cuda') \n",
    "        else:\n",
    "            labels = torch.tensor([0]).to('cuda')\n",
    "            \n",
    "        inputs = tokenizer(prompt, return_tensors=\"pt\")\n",
    "        input1 = inputs.input_ids.to('cuda')\n",
    "        ouputs = my_model(input1)\n",
    "        \n",
    "        loss_temp = nn.CrossEntropyLoss()\n",
    "        if (count+1)%4==0:\n",
    "            loss += loss_temp(ouputs.logits[:,-1,:], labels)\n",
    "            loss /= 4           \n",
    "            optimizer.zero_grad()\n",
    "            loss.backward()\n",
    "            optimizer.step()\n",
    "            # trainlist.append(loss.item())\n",
    "            del loss\n",
    "            loss = None\n",
    "        else:\n",
    "            if loss==None:\n",
    "                loss = loss_temp(ouputs.logits[:,-1,:], labels)\n",
    "            else:\n",
    "                loss += loss_temp(ouputs.logits[:,-1,:], labels)\n",
    "        \n",
    "        del ouputs\n",
    "        del inputs\n",
    "        del input1\n",
    "        count += 1\n",
    "        torch.cuda.empty_cache()\n",
    "        \n",
    "    with torch.no_grad():\n",
    "        for train_first_party, train_second_party, fact, first_party_winner in zip(test_first_partys, test_second_partys, test_facts, test_first_party_winners):\n",
    "            prompt = prompt_setting(train_first_party, train_second_party, fact)\n",
    "\n",
    "            if first_party_winner==1:\n",
    "                labels = torch.tensor([1]).to('cuda') \n",
    "            else:\n",
    "                labels = torch.tensor([0]).to('cuda')    \n",
    "            \n",
    "            loss_temp = nn.CrossEntropyLoss()\n",
    "            inputs = tokenizer(prompt, return_tensors=\"pt\")\n",
    "            input1 = inputs.input_ids.to('cuda')\n",
    "            ouputs = my_model(input1)\n",
    "            loss = loss_temp(ouputs.logits[:,-1,:], labels)\n",
    "            \n",
    "            if first_party_winner==1:\n",
    "                if ouputs.logits[:,-1,0]>ouputs.logits[:,-1,1]:\n",
    "                    testlist.append(0)\n",
    "                else:\n",
    "                    testlist.append(1)\n",
    "            else:\n",
    "                if ouputs.logits[:,-1,0]>ouputs.logits[:,-1,1]:\n",
    "                    testlist.append(1)\n",
    "                else:\n",
    "                    testlist.append(0)\n",
    "                    \n",
    "            torch.cuda.empty_cache()\n",
    "            \n",
    "        for train_first_party, train_second_party, fact, first_party_winner in zip(train_first_partys, train_second_partys, train_facts, train_first_party_winners):\n",
    "            prompt = prompt_setting(train_first_party, train_second_party, fact)\n",
    "            if first_party_winner==1:\n",
    "                labels = torch.tensor([1]).to('cuda') \n",
    "            else:\n",
    "                labels = torch.tensor([0]).to('cuda')    \n",
    "            \n",
    "            loss_temp = nn.CrossEntropyLoss()\n",
    "            inputs = tokenizer(prompt, return_tensors=\"pt\")\n",
    "            input1 = inputs.input_ids.to('cuda')\n",
    "            ouputs = my_model(input1)\n",
    "            loss = loss_temp(ouputs.logits[:,-1,:], labels)\n",
    "            \n",
    "            if first_party_winner==1:\n",
    "                if ouputs.logits[:,-1,0]>ouputs.logits[:,-1,1]:\n",
    "                    trainlist.append(0)\n",
    "                else:\n",
    "                    trainlist.append(1)\n",
    "            else:\n",
    "                if ouputs.logits[:,-1,0]>ouputs.logits[:,-1,1]:\n",
    "                    trainlist.append(1)\n",
    "                else:\n",
    "                    trainlist.append(0)\n",
    "                    \n",
    "            torch.cuda.empty_cache()\n",
    "    avgtest.append(np.mean(testlist))\n",
    "    avgtrain.append(np.mean(trainlist))\n",
    "    if np.mean(testlist)>bestloss:\n",
    "        bestloss = np.mean(testlist)\n",
    "        torch.save(lora.lora_state_dict(model), \"temp.pt\")\n",
    "        torch.save(model.lm_head.state_dict(), \"temp_h.pt\")\n",
    "    trainlist = []\n",
    "    testlist = []\n",
    "    \n",
    "    plt.clf()\n",
    "    plt.plot(avgtest, color='r')\n",
    "    plt.plot(avgtrain, color='b')\n",
    "    plt.savefig('loss.png')\n",
    "    "
   ]
  },
  {
   "cell_type": "code",
   "execution_count": null,
   "id": "0c280b5a-d0a1-4e7f-8f75-80d4292c81ce",
   "metadata": {},
   "outputs": [],
   "source": [
    "ouputs = model(input1, labels = input2)\n",
    "print(ouputs.loss.item())\n",
    "optimizer.zero_grad()\n",
    "ouputs.loss.requires_grad_(True)\n",
    "ouputs.loss.backward()\n",
    "optimizer.step()\n",
    "print(ouputs.loss.item())"
   ]
  },
  {
   "cell_type": "code",
   "execution_count": null,
   "id": "10895f20-b475-4da4-b50c-699769347043",
   "metadata": {},
   "outputs": [],
   "source": [
    "len(input1[0])"
   ]
  },
  {
   "cell_type": "code",
   "execution_count": null,
   "id": "39748670-ef3c-49b6-bb7f-770a8094b7ba",
   "metadata": {},
   "outputs": [],
   "source": [
    "len(input2[0])"
   ]
  },
  {
   "cell_type": "code",
   "execution_count": null,
   "id": "4b95c395-b586-4557-aa67-312ca454476a",
   "metadata": {},
   "outputs": [],
   "source": [
    "len(input1[0])"
   ]
  },
  {
   "cell_type": "code",
   "execution_count": null,
   "id": "9fb1d0c2-92a7-4672-b7fd-5f9608aa567f",
   "metadata": {},
   "outputs": [],
   "source": [
    "'''\n",
    "o 438, x ; 1060\n",
    "'''"
   ]
  }
 ],
 "metadata": {
  "kernelspec": {
   "display_name": "Python 3 (ipykernel)",
   "language": "python",
   "name": "python3"
  },
  "language_info": {
   "codemirror_mode": {
    "name": "ipython",
    "version": 3
   },
   "file_extension": ".py",
   "mimetype": "text/x-python",
   "name": "python",
   "nbconvert_exporter": "python",
   "pygments_lexer": "ipython3",
   "version": "3.10.11"
  }
 },
 "nbformat": 4,
 "nbformat_minor": 5
}
