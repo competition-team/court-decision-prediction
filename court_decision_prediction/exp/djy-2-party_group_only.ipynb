{
 "cells": [
  {
   "cell_type": "code",
   "execution_count": null,
   "id": "59f0a44f",
   "metadata": {},
   "outputs": [],
   "source": [
    "!pip install packaging==21.3\n",
    "!pip install pycaret[full] scikit-learn"
   ]
  },
  {
   "cell_type": "code",
   "execution_count": 1,
   "id": "7fb90289",
   "metadata": {
    "scrolled": false
   },
   "outputs": [],
   "source": [
    "import os\n",
    "from os.path import join, dirname\n",
    "import random\n",
    "import warnings\n",
    "\n",
    "import numpy as np\n",
    "import pandas as pd\n",
    "import spacy\n",
    "from tqdm import tqdm, trange\n",
    "\n",
    "from pycaret.classification import setup, compare_models, create_model, tune_model, blend_models, evaluate_model, automl, predict_model\n",
    "\n",
    "import matplotlib.pyplot as plt\n",
    "import seaborn as sns\n",
    "\n",
    "plt.style.use('ggplot')\n",
    "warnings.filterwarnings('ignore')\n",
    "\n",
    "nlp = spacy.load(\"en_core_web_sm\")"
   ]
  },
  {
   "cell_type": "code",
   "execution_count": 2,
   "id": "116f3d95",
   "metadata": {},
   "outputs": [],
   "source": [
    "def seed_everything(seed: int=42):\n",
    "    random.seed(seed)\n",
    "    np.random.seed(seed)\n",
    "    os.environ[\"PYTHONHASHSEED\"] = str(seed)\n",
    "#     torch.manual_seed(seed)\n",
    "#     torch.cuda.manual_seed(seed)  # type: ignore\n",
    "#     torch.backends.cudnn.deterministic = True  # type: ignore\n",
    "#     torch.backends.cudnn.benchmark = True  # type: ignore\n",
    "\n",
    "seed_everything()"
   ]
  },
  {
   "cell_type": "code",
   "execution_count": 3,
   "id": "ddaecddb",
   "metadata": {},
   "outputs": [],
   "source": [
    "class PATH:\n",
    "    root   = '/root/court-decision-prediction'\n",
    "    yaml   = join(root, 'court_decision_prediction/configs.yaml')\n",
    "    data   = join(root, 'data/open')\n",
    "    train  = join(data, 'train.csv')\n",
    "    test   = join(data, 'test.csv')\n",
    "    sample = join(data, 'sample_submission.csv')\n",
    "    submit = join(root, 'submission')\n",
    "    models = join(root, 'models')"
   ]
  },
  {
   "cell_type": "markdown",
   "id": "033622ef",
   "metadata": {},
   "source": [
    "# 1. Load Data "
   ]
  },
  {
   "cell_type": "code",
   "execution_count": 4,
   "id": "defed9e6",
   "metadata": {},
   "outputs": [],
   "source": [
    "train_full_data = pd.read_csv(PATH.train)\n",
    "test_data       = pd.read_csv(PATH.test)\n",
    "target          = 'first_party_winner'"
   ]
  },
  {
   "cell_type": "code",
   "execution_count": 27,
   "id": "5713ad2e",
   "metadata": {},
   "outputs": [],
   "source": [
    "from sklearn.preprocessing import LabelEncoder\n",
    "from sklearn.utils import resample\n",
    "\n",
    "\n",
    "def preprocess(data, target):\n",
    "#     data = select_facts(data)\n",
    "    data = append_party_group(data)\n",
    "    if target in data:\n",
    "#         data = undersampling(data, target)'\n",
    "#         data = oversampling(data, target)\n",
    "        cols = ['first_party_grp', 'second_party_grp', target]\n",
    "    else:\n",
    "        cols = ['first_party_grp', 'second_party_grp']\n",
    "    return data[cols]\n",
    "\n",
    "\n",
    "# def select_facts(data):\n",
    "#     transition_words = [\"accordingly\", \"additionally\", \"also\", \"although\", \"alternatively\", \"as a result\", \"besides\", \"but\", \"consequently\", \"conversely\", \"despite\", \"due to\", \"either\", \"equally\", \"eventually\", \"finally\", \"first\", \"furthermore\", \"hence\", \"however\", \"in addition\", \"in conclusion\", \"in contrast\", \"in other words\", \"in spite of\", \"instead\", \"likewise\", \"meanwhile\", \"moreover\", \"nevertheless\", \"next\", \"nonetheless\", \"nor\", \"on the contrary\", \"on the other hand\", \"otherwise\", \"overall\", \"particularly\", \"similarly\", \"since\", \"so\", \"subsequently\", \"that is\", \"then\", \"therefore\", \"though\", \"thus\", \"ultimately\", \"unless\", \"unlike\", \"until\", \"when\", \"whereas\", \"while\", \"yet\", \"above all\", \"afterward\", \"all in all\", \"as an illustration\", \"as well as\", \"at the same time\", \"at length\", \"basically\", \"certainly\", \"comparatively\", \"consequently\", \"eventually\", \"for example\", \"for instance\", \"for this reason\", \"for the most part\", \"for this purpose\", \"generally\", \"given these points\", \"in a word\", \"in any case\", \"in essence\", \"in fact\", \"in general\", \"in particular\", \"in reality\", \"in short\", \"in summary\", \"in the first place\", \"notably\", \"of course\", \"of great importance\", \"of necessity\", \"of course\", \"of great importance\", \"of necessity\", \"specifically\", \"surprisingly\", \"to begin with\", \"to conclude\", \"to illustrate\", \"to sum up\", \"to summarize\", \"truly\", \"without a doubt\"]\n",
    "#     core_words       = ['court', 'reverse', 'judge', 'adjudicate', 'guilty']\n",
    "\n",
    "#     data = data.reset_index(drop=True)\n",
    "#     docs = data.facts\n",
    "\n",
    "#     for doc_id, doc in enumerate(tqdm(docs)):\n",
    "#         selected_sents = []\n",
    "#         for sent in nlp(doc).sents:\n",
    "#             sent_str = sent.text\n",
    "#             cond1 = any(sent_str.lower().startswith(word) for word in transition_words)\n",
    "#             cond2 = any(word in sent.lemma_.lower() for word in core_words)\n",
    "#             is_selected = True if any([cond1, cond2]) else False\n",
    "#             if is_selected:\n",
    "#                 selected_sents.append(sent_str)\n",
    "#         data.loc[doc_id, 'facts'] = '\\n'.join(selected_sents)\n",
    "#     return data\n",
    "\n",
    "\n",
    "def append_party_group(data):\n",
    "    data = data.copy()\n",
    "\n",
    "    def generate_fn(col):\n",
    "        len_filter = lambda fn, arr: len(list(filter(fn, arr)))  # get number of elements in arr filtered by fn\n",
    "\n",
    "        def fn(row):\n",
    "            party       = row[col]\n",
    "            party_lower = row[col].lower()\n",
    "\n",
    "            keywords_usa = ['united states', 'federal', 'commision', 'commodity', 'national']\n",
    "            keywords_gpe = ['school board', 'city', 'republic', 'region', 'district', 'county']\n",
    "            keywords_org = ['corporation', 'inc', 'company', 'bank', 'association', 'llc', 'ltd', 'llp', 'co.', 'hospital', 'usa', 'school', 'group', 'office', 'department']\n",
    "            keywords_grp = [',', 'et al']\n",
    "\n",
    "            for keyword in keywords_usa:\n",
    "                if keyword in party_lower:\n",
    "                    return 'USA'\n",
    "            else:\n",
    "                ents = nlp(party).ents\n",
    "                labels = [e.label_ for e in ents]\n",
    "                if ('GPE' in labels) or len_filter(lambda k: k in party_lower, keywords_gpe):\n",
    "                    return 'GPE'\n",
    "                elif ('ORG' in labels) or ('NORP' in labels) or len_filter(lambda k: k in party_lower, keywords_org):\n",
    "                    return 'ORG'\n",
    "                elif (len(labels) > 1) or len_filter(lambda k: k in party_lower, keywords_grp):\n",
    "                    return 'GRP'\n",
    "                else:\n",
    "                    return 'IND'\n",
    "\n",
    "        return fn\n",
    "\n",
    "    data['first_party_grp']  = data.apply(generate_fn('first_party'), axis=1)\n",
    "    data['second_party_grp'] = data.apply(generate_fn('second_party'), axis=1)\n",
    "    return data\n",
    "\n",
    "def undersampling(data, target):\n",
    "    data_zero_target = data[data[target] == 0]\n",
    "    data_one_target  = data[data[target] == 1]\n",
    "    first_party_grp_int = LabelEncoder().fit_transform(data_one_target['first_party_grp'])\n",
    "    data_one_target_sample = resample(data_one_target, replace=False, n_samples=len(data_zero_target), stratify=first_party_grp_int)\n",
    "    data = pd.concat([data_zero_target, data_one_target_sample], ignore_index=True)\n",
    "    return data.sample(frac=1).reset_index(drop=True)\n",
    "\n",
    "def oversampling(data, target):\n",
    "    data_zero_target = data[data[target] == 0]\n",
    "    data_one_target  = data[data[target] == 1]\n",
    "    first_party_grp_int = LabelEncoder().fit_transform(data_zero_target['first_party_grp'])\n",
    "    data_zero_target_sample = resample(data_zero_target, replace=True, n_samples=len(data_one_target) - len(data_zero_target), stratify=first_party_grp_int)\n",
    "    data = pd.concat([data_zero_target, data_zero_target_sample, data_one_target], ignore_index=True)\n",
    "    return data.sample(frac=1).reset_index(drop=True)"
   ]
  },
  {
   "cell_type": "code",
   "execution_count": 6,
   "id": "de00efb2",
   "metadata": {},
   "outputs": [],
   "source": [
    "train_full_data_pp = preprocess(train_full_data, target)\n",
    "test_data_pp       = preprocess(test_data, target)"
   ]
  },
  {
   "cell_type": "code",
   "execution_count": 7,
   "id": "511bd79b",
   "metadata": {},
   "outputs": [
    {
     "data": {
      "text/plain": [
       "1    1649\n",
       "0     829\n",
       "Name: first_party_winner, dtype: int64"
      ]
     },
     "execution_count": 7,
     "metadata": {},
     "output_type": "execute_result"
    }
   ],
   "source": [
    "train_full_data_pp[target].value_counts()"
   ]
  },
  {
   "cell_type": "code",
   "execution_count": 20,
   "id": "9a9d5e7c",
   "metadata": {},
   "outputs": [
    {
     "data": {
      "text/plain": [
       "1    829\n",
       "0    829\n",
       "Name: first_party_winner, dtype: int64"
      ]
     },
     "execution_count": 20,
     "metadata": {},
     "output_type": "execute_result"
    }
   ],
   "source": [
    "from sklearn.model_selection import train_test_split\n",
    "\n",
    "ones         = train_full_data_pp[train_full_data_pp[target] == 1]\n",
    "zeros        = train_full_data_pp[train_full_data_pp[target] == 0]\n",
    "first_party_grp_int = LabelEncoder().fit_transform(ones['first_party_grp'])\n",
    "ones1, ones2 = train_test_split(ones, test_size=829, stratify=first_party_grp_int)\n",
    "\n",
    "train_val_data = pd.concat([ones2, zeros])\n",
    "train_val_data[target].value_counts()"
   ]
  },
  {
   "cell_type": "code",
   "execution_count": 18,
   "id": "786132f8",
   "metadata": {},
   "outputs": [
    {
     "data": {
      "text/plain": [
       "(1649, 820, 829)"
      ]
     },
     "execution_count": 18,
     "metadata": {},
     "output_type": "execute_result"
    }
   ],
   "source": [
    "len(ones), len(ones1), len(ones2)"
   ]
  },
  {
   "cell_type": "code",
   "execution_count": 21,
   "id": "e725215f",
   "metadata": {},
   "outputs": [
    {
     "data": {
      "text/plain": [
       "(1160, 498)"
      ]
     },
     "execution_count": 21,
     "metadata": {},
     "output_type": "execute_result"
    }
   ],
   "source": [
    "train_data1, val_data = train_test_split(train_val_data, test_size=0.3, stratify=train_val_data[target])\n",
    "len(train_data1), len(val_data)"
   ]
  },
  {
   "cell_type": "code",
   "execution_count": 22,
   "id": "79bdd84e",
   "metadata": {},
   "outputs": [],
   "source": [
    "train_data = pd.concat([ones1, train_data1])"
   ]
  },
  {
   "cell_type": "code",
   "execution_count": 23,
   "id": "d53f004d",
   "metadata": {},
   "outputs": [
    {
     "data": {
      "text/plain": [
       "(1980, 498)"
      ]
     },
     "execution_count": 23,
     "metadata": {},
     "output_type": "execute_result"
    }
   ],
   "source": [
    "len(train_data), len(val_data)"
   ]
  },
  {
   "cell_type": "code",
   "execution_count": 25,
   "id": "06ea292e",
   "metadata": {},
   "outputs": [
    {
     "data": {
      "text/plain": [
       "0    249\n",
       "1    249\n",
       "Name: first_party_winner, dtype: int64"
      ]
     },
     "execution_count": 25,
     "metadata": {},
     "output_type": "execute_result"
    }
   ],
   "source": [
    "val_data[target].value_counts()"
   ]
  },
  {
   "cell_type": "code",
   "execution_count": 28,
   "id": "7347c260",
   "metadata": {},
   "outputs": [
    {
     "data": {
      "text/plain": [
       "0    1400\n",
       "1    1400\n",
       "Name: first_party_winner, dtype: int64"
      ]
     },
     "execution_count": 28,
     "metadata": {},
     "output_type": "execute_result"
    }
   ],
   "source": [
    "train_data = oversampling(train_data, target)\n",
    "train_data[target].value_counts()"
   ]
  },
  {
   "cell_type": "code",
   "execution_count": 30,
   "id": "e3c0f7fc",
   "metadata": {},
   "outputs": [],
   "source": [
    "train_data.reset_index(drop=True, inplace=True)\n",
    "val_data.reset_index(drop=True, inplace=True)"
   ]
  },
  {
   "cell_type": "markdown",
   "id": "b4140a95",
   "metadata": {},
   "source": [
    "1649 -> (249) + (580 + 820) \\\n",
    "829  -> (249) + (580 + **820**)"
   ]
  },
  {
   "cell_type": "code",
   "execution_count": null,
   "id": "32b125e5",
   "metadata": {},
   "outputs": [],
   "source": [
    "def plot_conf_heatmap(data):\n",
    "    conf = data.pivot_table(index='first_party_grp', columns='second_party_grp', values='first_party_winner')\n",
    "    sns.heatmap(conf, annot=True, center=data[target].mean(), cmap='coolwarm')\n",
    "    plt.show()"
   ]
  },
  {
   "cell_type": "code",
   "execution_count": null,
   "id": "707409ca",
   "metadata": {},
   "outputs": [],
   "source": [
    "d = train_full_data_pp\n",
    "zeros = d[d[target] == 0] #.drop(columns=target)\n",
    "ones  = d[d[target] == 1] #.drop(columns=target)"
   ]
  },
  {
   "cell_type": "code",
   "execution_count": null,
   "id": "aba2b09a",
   "metadata": {},
   "outputs": [],
   "source": [
    "plot_conf_heatmap(d)"
   ]
  },
  {
   "cell_type": "code",
   "execution_count": null,
   "id": "41a412d3",
   "metadata": {},
   "outputs": [],
   "source": [
    "combined_counts"
   ]
  },
  {
   "cell_type": "code",
   "execution_count": null,
   "id": "a706411c",
   "metadata": {},
   "outputs": [],
   "source": [
    "cnts"
   ]
  },
  {
   "cell_type": "code",
   "execution_count": null,
   "id": "13675aad",
   "metadata": {},
   "outputs": [],
   "source": [
    "zd = zeros.drop(columns=target)\n",
    "od = ones.drop(columns=target)\n",
    "\n",
    "fig, axes = plt.subplots(ncols=5, figsize=(30, 3))\n",
    "unique_grps = d.first_party_grp.unique()\n",
    "for ax, first_party_grp in zip(axes.flat, unique_grps):\n",
    "    ax.set_title(f\"first={first_party_grp}\")\n",
    "    zero_cnts = zd[zd.first_party_grp == first_party_grp].second_party_grp.value_counts() / len(zd[zd.first_party_grp == first_party_grp])\n",
    "    one_cnts  = od[od.first_party_grp == first_party_grp].second_party_grp.value_counts() / len(od[od.first_party_grp == first_party_grp])\n",
    "    cnts      = pd.concat([zero_cnts, one_cnts], axis=1)\n",
    "\n",
    "    cnts = cnts.reindex(unique_grps)\n",
    "    cnts.columns = ['target=0', 'target=1']\n",
    "    \n",
    "    cnts['(y=1) - (y=0)'] = cnts['target=1'] - cnts['target=0']\n",
    "    cnts[['(y=1) - (y=0)']].plot.bar(ax=ax)\n",
    "    ax.axhline(0, color='k')\n",
    "plt.show()"
   ]
  },
  {
   "cell_type": "code",
   "execution_count": null,
   "id": "4a853b38",
   "metadata": {},
   "outputs": [],
   "source": [
    "zp = zeros.pivot_table(index='first_party_grp', columns='second_party_grp', aggfunc='count') / len(zeros) * 100\n",
    "zp.round(2).style.background_gradient(axis=1)"
   ]
  },
  {
   "cell_type": "code",
   "execution_count": null,
   "id": "bac242d9",
   "metadata": {},
   "outputs": [],
   "source": [
    "op = ones.pivot_table(index='first_party_grp', columns='second_party_grp', aggfunc='count') / len(ones) * 100\n",
    "op.round(2).style.background_gradient(axis=1)"
   ]
  },
  {
   "cell_type": "markdown",
   "id": "59f5772f",
   "metadata": {},
   "source": [
    "# 2. Modeling"
   ]
  },
  {
   "cell_type": "code",
   "execution_count": 34,
   "id": "02e6872c",
   "metadata": {
    "scrolled": false
   },
   "outputs": [
    {
     "name": "stderr",
     "output_type": "stream",
     "text": [
      "[LightGBM] [Fatal] GPU Tree Learner was not enabled in this build.\n",
      "Please recompile with CMake option -DUSE_GPU=1\n",
      "[LightGBM] [Fatal] CUDA Tree Learner was not enabled in this build.\n",
      "Please recompile with CMake option -DUSE_CUDA=1\n",
      "[LightGBM] [Fatal] GPU Tree Learner was not enabled in this build.\n",
      "Please recompile with CMake option -DUSE_GPU=1\n",
      "[LightGBM] [Fatal] CUDA Tree Learner was not enabled in this build.\n",
      "Please recompile with CMake option -DUSE_CUDA=1\n",
      "[LightGBM] [Fatal] GPU Tree Learner was not enabled in this build.\n",
      "Please recompile with CMake option -DUSE_GPU=1\n",
      "[LightGBM] [Fatal] CUDA Tree Learner was not enabled in this build.\n",
      "Please recompile with CMake option -DUSE_CUDA=1\n",
      "[LightGBM] [Fatal] GPU Tree Learner was not enabled in this build.\n",
      "Please recompile with CMake option -DUSE_GPU=1\n",
      "[LightGBM] [Fatal] CUDA Tree Learner was not enabled in this build.\n",
      "Please recompile with CMake option -DUSE_CUDA=1\n",
      "[LightGBM] [Fatal] GPU Tree Learner was not enabled in this build.\n",
      "Please recompile with CMake option -DUSE_GPU=1\n",
      "[LightGBM] [Fatal] CUDA Tree Learner was not enabled in this build.\n",
      "Please recompile with CMake option -DUSE_CUDA=1\n",
      "[LightGBM] [Fatal] GPU Tree Learner was not enabled in this build.\n",
      "Please recompile with CMake option -DUSE_GPU=1\n",
      "[LightGBM] [Fatal] CUDA Tree Learner was not enabled in this build.\n",
      "Please recompile with CMake option -DUSE_CUDA=1\n"
     ]
    },
    {
     "data": {
      "text/html": [
       "<style type=\"text/css\">\n",
       "#T_ab0cf_row8_col1, #T_ab0cf_row17_col1 {\n",
       "  background-color: lightgreen;\n",
       "}\n",
       "</style>\n",
       "<table id=\"T_ab0cf\">\n",
       "  <thead>\n",
       "    <tr>\n",
       "      <th class=\"blank level0\" >&nbsp;</th>\n",
       "      <th id=\"T_ab0cf_level0_col0\" class=\"col_heading level0 col0\" >Description</th>\n",
       "      <th id=\"T_ab0cf_level0_col1\" class=\"col_heading level0 col1\" >Value</th>\n",
       "    </tr>\n",
       "  </thead>\n",
       "  <tbody>\n",
       "    <tr>\n",
       "      <th id=\"T_ab0cf_level0_row0\" class=\"row_heading level0 row0\" >0</th>\n",
       "      <td id=\"T_ab0cf_row0_col0\" class=\"data row0 col0\" >Session id</td>\n",
       "      <td id=\"T_ab0cf_row0_col1\" class=\"data row0 col1\" >4656</td>\n",
       "    </tr>\n",
       "    <tr>\n",
       "      <th id=\"T_ab0cf_level0_row1\" class=\"row_heading level0 row1\" >1</th>\n",
       "      <td id=\"T_ab0cf_row1_col0\" class=\"data row1 col0\" >Target</td>\n",
       "      <td id=\"T_ab0cf_row1_col1\" class=\"data row1 col1\" >first_party_winner</td>\n",
       "    </tr>\n",
       "    <tr>\n",
       "      <th id=\"T_ab0cf_level0_row2\" class=\"row_heading level0 row2\" >2</th>\n",
       "      <td id=\"T_ab0cf_row2_col0\" class=\"data row2 col0\" >Target type</td>\n",
       "      <td id=\"T_ab0cf_row2_col1\" class=\"data row2 col1\" >Binary</td>\n",
       "    </tr>\n",
       "    <tr>\n",
       "      <th id=\"T_ab0cf_level0_row3\" class=\"row_heading level0 row3\" >3</th>\n",
       "      <td id=\"T_ab0cf_row3_col0\" class=\"data row3 col0\" >Original data shape</td>\n",
       "      <td id=\"T_ab0cf_row3_col1\" class=\"data row3 col1\" >(3298, 3)</td>\n",
       "    </tr>\n",
       "    <tr>\n",
       "      <th id=\"T_ab0cf_level0_row4\" class=\"row_heading level0 row4\" >4</th>\n",
       "      <td id=\"T_ab0cf_row4_col0\" class=\"data row4 col0\" >Transformed data shape</td>\n",
       "      <td id=\"T_ab0cf_row4_col1\" class=\"data row4 col1\" >(3298, 11)</td>\n",
       "    </tr>\n",
       "    <tr>\n",
       "      <th id=\"T_ab0cf_level0_row5\" class=\"row_heading level0 row5\" >5</th>\n",
       "      <td id=\"T_ab0cf_row5_col0\" class=\"data row5 col0\" >Transformed train set shape</td>\n",
       "      <td id=\"T_ab0cf_row5_col1\" class=\"data row5 col1\" >(2800, 11)</td>\n",
       "    </tr>\n",
       "    <tr>\n",
       "      <th id=\"T_ab0cf_level0_row6\" class=\"row_heading level0 row6\" >6</th>\n",
       "      <td id=\"T_ab0cf_row6_col0\" class=\"data row6 col0\" >Transformed test set shape</td>\n",
       "      <td id=\"T_ab0cf_row6_col1\" class=\"data row6 col1\" >(498, 11)</td>\n",
       "    </tr>\n",
       "    <tr>\n",
       "      <th id=\"T_ab0cf_level0_row7\" class=\"row_heading level0 row7\" >7</th>\n",
       "      <td id=\"T_ab0cf_row7_col0\" class=\"data row7 col0\" >Categorical features</td>\n",
       "      <td id=\"T_ab0cf_row7_col1\" class=\"data row7 col1\" >2</td>\n",
       "    </tr>\n",
       "    <tr>\n",
       "      <th id=\"T_ab0cf_level0_row8\" class=\"row_heading level0 row8\" >8</th>\n",
       "      <td id=\"T_ab0cf_row8_col0\" class=\"data row8 col0\" >Preprocess</td>\n",
       "      <td id=\"T_ab0cf_row8_col1\" class=\"data row8 col1\" >True</td>\n",
       "    </tr>\n",
       "    <tr>\n",
       "      <th id=\"T_ab0cf_level0_row9\" class=\"row_heading level0 row9\" >9</th>\n",
       "      <td id=\"T_ab0cf_row9_col0\" class=\"data row9 col0\" >Imputation type</td>\n",
       "      <td id=\"T_ab0cf_row9_col1\" class=\"data row9 col1\" >simple</td>\n",
       "    </tr>\n",
       "    <tr>\n",
       "      <th id=\"T_ab0cf_level0_row10\" class=\"row_heading level0 row10\" >10</th>\n",
       "      <td id=\"T_ab0cf_row10_col0\" class=\"data row10 col0\" >Numeric imputation</td>\n",
       "      <td id=\"T_ab0cf_row10_col1\" class=\"data row10 col1\" >mean</td>\n",
       "    </tr>\n",
       "    <tr>\n",
       "      <th id=\"T_ab0cf_level0_row11\" class=\"row_heading level0 row11\" >11</th>\n",
       "      <td id=\"T_ab0cf_row11_col0\" class=\"data row11 col0\" >Categorical imputation</td>\n",
       "      <td id=\"T_ab0cf_row11_col1\" class=\"data row11 col1\" >mode</td>\n",
       "    </tr>\n",
       "    <tr>\n",
       "      <th id=\"T_ab0cf_level0_row12\" class=\"row_heading level0 row12\" >12</th>\n",
       "      <td id=\"T_ab0cf_row12_col0\" class=\"data row12 col0\" >Maximum one-hot encoding</td>\n",
       "      <td id=\"T_ab0cf_row12_col1\" class=\"data row12 col1\" >25</td>\n",
       "    </tr>\n",
       "    <tr>\n",
       "      <th id=\"T_ab0cf_level0_row13\" class=\"row_heading level0 row13\" >13</th>\n",
       "      <td id=\"T_ab0cf_row13_col0\" class=\"data row13 col0\" >Encoding method</td>\n",
       "      <td id=\"T_ab0cf_row13_col1\" class=\"data row13 col1\" >None</td>\n",
       "    </tr>\n",
       "    <tr>\n",
       "      <th id=\"T_ab0cf_level0_row14\" class=\"row_heading level0 row14\" >14</th>\n",
       "      <td id=\"T_ab0cf_row14_col0\" class=\"data row14 col0\" >Fold Generator</td>\n",
       "      <td id=\"T_ab0cf_row14_col1\" class=\"data row14 col1\" >StratifiedKFold</td>\n",
       "    </tr>\n",
       "    <tr>\n",
       "      <th id=\"T_ab0cf_level0_row15\" class=\"row_heading level0 row15\" >15</th>\n",
       "      <td id=\"T_ab0cf_row15_col0\" class=\"data row15 col0\" >Fold Number</td>\n",
       "      <td id=\"T_ab0cf_row15_col1\" class=\"data row15 col1\" >10</td>\n",
       "    </tr>\n",
       "    <tr>\n",
       "      <th id=\"T_ab0cf_level0_row16\" class=\"row_heading level0 row16\" >16</th>\n",
       "      <td id=\"T_ab0cf_row16_col0\" class=\"data row16 col0\" >CPU Jobs</td>\n",
       "      <td id=\"T_ab0cf_row16_col1\" class=\"data row16 col1\" >-1</td>\n",
       "    </tr>\n",
       "    <tr>\n",
       "      <th id=\"T_ab0cf_level0_row17\" class=\"row_heading level0 row17\" >17</th>\n",
       "      <td id=\"T_ab0cf_row17_col0\" class=\"data row17 col0\" >Use GPU</td>\n",
       "      <td id=\"T_ab0cf_row17_col1\" class=\"data row17 col1\" >True</td>\n",
       "    </tr>\n",
       "    <tr>\n",
       "      <th id=\"T_ab0cf_level0_row18\" class=\"row_heading level0 row18\" >18</th>\n",
       "      <td id=\"T_ab0cf_row18_col0\" class=\"data row18 col0\" >Log Experiment</td>\n",
       "      <td id=\"T_ab0cf_row18_col1\" class=\"data row18 col1\" >False</td>\n",
       "    </tr>\n",
       "    <tr>\n",
       "      <th id=\"T_ab0cf_level0_row19\" class=\"row_heading level0 row19\" >19</th>\n",
       "      <td id=\"T_ab0cf_row19_col0\" class=\"data row19 col0\" >Experiment Name</td>\n",
       "      <td id=\"T_ab0cf_row19_col1\" class=\"data row19 col1\" >clf-default-name</td>\n",
       "    </tr>\n",
       "    <tr>\n",
       "      <th id=\"T_ab0cf_level0_row20\" class=\"row_heading level0 row20\" >20</th>\n",
       "      <td id=\"T_ab0cf_row20_col0\" class=\"data row20 col0\" >USI</td>\n",
       "      <td id=\"T_ab0cf_row20_col1\" class=\"data row20 col1\" >bc3d</td>\n",
       "    </tr>\n",
       "  </tbody>\n",
       "</table>\n"
      ],
      "text/plain": [
       "<pandas.io.formats.style.Styler at 0x7fbddf061a00>"
      ]
     },
     "metadata": {},
     "output_type": "display_data"
    },
    {
     "name": "stderr",
     "output_type": "stream",
     "text": [
      "[LightGBM] [Fatal] GPU Tree Learner was not enabled in this build.\n",
      "Please recompile with CMake option -DUSE_GPU=1\n",
      "[LightGBM] [Fatal] CUDA Tree Learner was not enabled in this build.\n",
      "Please recompile with CMake option -DUSE_CUDA=1\n",
      "[LightGBM] [Fatal] GPU Tree Learner was not enabled in this build.\n",
      "Please recompile with CMake option -DUSE_GPU=1\n",
      "[LightGBM] [Fatal] CUDA Tree Learner was not enabled in this build.\n",
      "Please recompile with CMake option -DUSE_CUDA=1\n"
     ]
    }
   ],
   "source": [
    "s = setup(train_data, test_data=val_data, target=target, categorical_features=['first_party_grp', 'second_party_grp'], use_gpu=True, index=False)"
   ]
  },
  {
   "cell_type": "code",
   "execution_count": 35,
   "id": "1771ab47",
   "metadata": {},
   "outputs": [
    {
     "data": {
      "text/html": [],
      "text/plain": [
       "<IPython.core.display.HTML object>"
      ]
     },
     "metadata": {},
     "output_type": "display_data"
    },
    {
     "data": {
      "text/html": [
       "<style type=\"text/css\">\n",
       "#T_5f0d2 th {\n",
       "  text-align: left;\n",
       "}\n",
       "#T_5f0d2_row0_col0, #T_5f0d2_row0_col1, #T_5f0d2_row0_col2, #T_5f0d2_row0_col3, #T_5f0d2_row0_col4, #T_5f0d2_row0_col5, #T_5f0d2_row0_col6, #T_5f0d2_row1_col0, #T_5f0d2_row1_col2, #T_5f0d2_row1_col3, #T_5f0d2_row1_col4, #T_5f0d2_row1_col5, #T_5f0d2_row1_col7, #T_5f0d2_row2_col0, #T_5f0d2_row2_col1, #T_5f0d2_row2_col2, #T_5f0d2_row2_col3, #T_5f0d2_row2_col5, #T_5f0d2_row2_col6, #T_5f0d2_row2_col7, #T_5f0d2_row3_col0, #T_5f0d2_row3_col1, #T_5f0d2_row3_col2, #T_5f0d2_row3_col3, #T_5f0d2_row3_col4, #T_5f0d2_row3_col5, #T_5f0d2_row3_col6, #T_5f0d2_row3_col7, #T_5f0d2_row4_col0, #T_5f0d2_row4_col1, #T_5f0d2_row4_col2, #T_5f0d2_row4_col4, #T_5f0d2_row4_col6, #T_5f0d2_row4_col7, #T_5f0d2_row5_col0, #T_5f0d2_row5_col1, #T_5f0d2_row5_col2, #T_5f0d2_row5_col4, #T_5f0d2_row5_col6, #T_5f0d2_row5_col7, #T_5f0d2_row6_col0, #T_5f0d2_row6_col1, #T_5f0d2_row6_col2, #T_5f0d2_row6_col3, #T_5f0d2_row6_col4, #T_5f0d2_row6_col5, #T_5f0d2_row6_col6, #T_5f0d2_row6_col7, #T_5f0d2_row7_col0, #T_5f0d2_row7_col1, #T_5f0d2_row7_col3, #T_5f0d2_row7_col4, #T_5f0d2_row7_col5, #T_5f0d2_row7_col6, #T_5f0d2_row7_col7, #T_5f0d2_row8_col0, #T_5f0d2_row8_col1, #T_5f0d2_row8_col2, #T_5f0d2_row8_col3, #T_5f0d2_row8_col4, #T_5f0d2_row8_col5, #T_5f0d2_row8_col6, #T_5f0d2_row8_col7, #T_5f0d2_row9_col0, #T_5f0d2_row9_col1, #T_5f0d2_row9_col2, #T_5f0d2_row9_col3, #T_5f0d2_row9_col4, #T_5f0d2_row9_col5, #T_5f0d2_row9_col6, #T_5f0d2_row9_col7, #T_5f0d2_row10_col0, #T_5f0d2_row10_col1, #T_5f0d2_row10_col2, #T_5f0d2_row10_col3, #T_5f0d2_row10_col4, #T_5f0d2_row10_col5, #T_5f0d2_row10_col6, #T_5f0d2_row10_col7, #T_5f0d2_row11_col0, #T_5f0d2_row11_col1, #T_5f0d2_row11_col2, #T_5f0d2_row11_col3, #T_5f0d2_row11_col4, #T_5f0d2_row11_col5, #T_5f0d2_row11_col6, #T_5f0d2_row11_col7, #T_5f0d2_row12_col0, #T_5f0d2_row12_col1, #T_5f0d2_row12_col2, #T_5f0d2_row12_col3, #T_5f0d2_row12_col4, #T_5f0d2_row12_col5, #T_5f0d2_row12_col6, #T_5f0d2_row12_col7, #T_5f0d2_row13_col0, #T_5f0d2_row13_col1, #T_5f0d2_row13_col2, #T_5f0d2_row13_col3, #T_5f0d2_row13_col4, #T_5f0d2_row13_col5, #T_5f0d2_row13_col6, #T_5f0d2_row13_col7, #T_5f0d2_row14_col0, #T_5f0d2_row14_col1, #T_5f0d2_row14_col2, #T_5f0d2_row14_col3, #T_5f0d2_row14_col4, #T_5f0d2_row14_col5, #T_5f0d2_row14_col6, #T_5f0d2_row14_col7, #T_5f0d2_row15_col0, #T_5f0d2_row15_col1, #T_5f0d2_row15_col2, #T_5f0d2_row15_col3, #T_5f0d2_row15_col4, #T_5f0d2_row15_col5, #T_5f0d2_row15_col6, #T_5f0d2_row15_col7 {\n",
       "  text-align: left;\n",
       "}\n",
       "#T_5f0d2_row0_col7, #T_5f0d2_row1_col1, #T_5f0d2_row1_col6, #T_5f0d2_row2_col4, #T_5f0d2_row4_col3, #T_5f0d2_row4_col5, #T_5f0d2_row5_col3, #T_5f0d2_row5_col5, #T_5f0d2_row7_col2 {\n",
       "  text-align: left;\n",
       "  background-color: yellow;\n",
       "}\n",
       "#T_5f0d2_row0_col8 {\n",
       "  text-align: left;\n",
       "  background-color: yellow;\n",
       "  background-color: lightgrey;\n",
       "}\n",
       "#T_5f0d2_row1_col8, #T_5f0d2_row2_col8, #T_5f0d2_row3_col8, #T_5f0d2_row4_col8, #T_5f0d2_row5_col8, #T_5f0d2_row6_col8, #T_5f0d2_row7_col8, #T_5f0d2_row8_col8, #T_5f0d2_row9_col8, #T_5f0d2_row10_col8, #T_5f0d2_row11_col8, #T_5f0d2_row12_col8, #T_5f0d2_row13_col8, #T_5f0d2_row14_col8, #T_5f0d2_row15_col8 {\n",
       "  text-align: left;\n",
       "  background-color: lightgrey;\n",
       "}\n",
       "</style>\n",
       "<table id=\"T_5f0d2\">\n",
       "  <thead>\n",
       "    <tr>\n",
       "      <th class=\"blank level0\" >&nbsp;</th>\n",
       "      <th id=\"T_5f0d2_level0_col0\" class=\"col_heading level0 col0\" >Model</th>\n",
       "      <th id=\"T_5f0d2_level0_col1\" class=\"col_heading level0 col1\" >Accuracy</th>\n",
       "      <th id=\"T_5f0d2_level0_col2\" class=\"col_heading level0 col2\" >AUC</th>\n",
       "      <th id=\"T_5f0d2_level0_col3\" class=\"col_heading level0 col3\" >Recall</th>\n",
       "      <th id=\"T_5f0d2_level0_col4\" class=\"col_heading level0 col4\" >Prec.</th>\n",
       "      <th id=\"T_5f0d2_level0_col5\" class=\"col_heading level0 col5\" >F1</th>\n",
       "      <th id=\"T_5f0d2_level0_col6\" class=\"col_heading level0 col6\" >Kappa</th>\n",
       "      <th id=\"T_5f0d2_level0_col7\" class=\"col_heading level0 col7\" >MCC</th>\n",
       "      <th id=\"T_5f0d2_level0_col8\" class=\"col_heading level0 col8\" >TT (Sec)</th>\n",
       "    </tr>\n",
       "  </thead>\n",
       "  <tbody>\n",
       "    <tr>\n",
       "      <th id=\"T_5f0d2_level0_row0\" class=\"row_heading level0 row0\" >svm</th>\n",
       "      <td id=\"T_5f0d2_row0_col0\" class=\"data row0 col0\" >SVM - Linear Kernel</td>\n",
       "      <td id=\"T_5f0d2_row0_col1\" class=\"data row0 col1\" >0.5386</td>\n",
       "      <td id=\"T_5f0d2_row0_col2\" class=\"data row0 col2\" >0.0000</td>\n",
       "      <td id=\"T_5f0d2_row0_col3\" class=\"data row0 col3\" >0.6829</td>\n",
       "      <td id=\"T_5f0d2_row0_col4\" class=\"data row0 col4\" >0.5353</td>\n",
       "      <td id=\"T_5f0d2_row0_col5\" class=\"data row0 col5\" >0.5801</td>\n",
       "      <td id=\"T_5f0d2_row0_col6\" class=\"data row0 col6\" >0.0771</td>\n",
       "      <td id=\"T_5f0d2_row0_col7\" class=\"data row0 col7\" >0.0912</td>\n",
       "      <td id=\"T_5f0d2_row0_col8\" class=\"data row0 col8\" >0.0630</td>\n",
       "    </tr>\n",
       "    <tr>\n",
       "      <th id=\"T_5f0d2_level0_row1\" class=\"row_heading level0 row1\" >knn</th>\n",
       "      <td id=\"T_5f0d2_row1_col0\" class=\"data row1 col0\" >K Neighbors Classifier</td>\n",
       "      <td id=\"T_5f0d2_row1_col1\" class=\"data row1 col1\" >0.5407</td>\n",
       "      <td id=\"T_5f0d2_row1_col2\" class=\"data row1 col2\" >0.5401</td>\n",
       "      <td id=\"T_5f0d2_row1_col3\" class=\"data row1 col3\" >0.6571</td>\n",
       "      <td id=\"T_5f0d2_row1_col4\" class=\"data row1 col4\" >0.5354</td>\n",
       "      <td id=\"T_5f0d2_row1_col5\" class=\"data row1 col5\" >0.5860</td>\n",
       "      <td id=\"T_5f0d2_row1_col6\" class=\"data row1 col6\" >0.0814</td>\n",
       "      <td id=\"T_5f0d2_row1_col7\" class=\"data row1 col7\" >0.0845</td>\n",
       "      <td id=\"T_5f0d2_row1_col8\" class=\"data row1 col8\" >0.1270</td>\n",
       "    </tr>\n",
       "    <tr>\n",
       "      <th id=\"T_5f0d2_level0_row2\" class=\"row_heading level0 row2\" >rf</th>\n",
       "      <td id=\"T_5f0d2_row2_col0\" class=\"data row2 col0\" >Random Forest Classifier</td>\n",
       "      <td id=\"T_5f0d2_row2_col1\" class=\"data row2 col1\" >0.5389</td>\n",
       "      <td id=\"T_5f0d2_row2_col2\" class=\"data row2 col2\" >0.5657</td>\n",
       "      <td id=\"T_5f0d2_row2_col3\" class=\"data row2 col3\" >0.5371</td>\n",
       "      <td id=\"T_5f0d2_row2_col4\" class=\"data row2 col4\" >0.5400</td>\n",
       "      <td id=\"T_5f0d2_row2_col5\" class=\"data row2 col5\" >0.5375</td>\n",
       "      <td id=\"T_5f0d2_row2_col6\" class=\"data row2 col6\" >0.0779</td>\n",
       "      <td id=\"T_5f0d2_row2_col7\" class=\"data row2 col7\" >0.0781</td>\n",
       "      <td id=\"T_5f0d2_row2_col8\" class=\"data row2 col8\" >0.4730</td>\n",
       "    </tr>\n",
       "    <tr>\n",
       "      <th id=\"T_5f0d2_level0_row3\" class=\"row_heading level0 row3\" >xgboost</th>\n",
       "      <td id=\"T_5f0d2_row3_col0\" class=\"data row3 col0\" >Extreme Gradient Boosting</td>\n",
       "      <td id=\"T_5f0d2_row3_col1\" class=\"data row3 col1\" >0.5354</td>\n",
       "      <td id=\"T_5f0d2_row3_col2\" class=\"data row3 col2\" >0.5646</td>\n",
       "      <td id=\"T_5f0d2_row3_col3\" class=\"data row3 col3\" >0.5414</td>\n",
       "      <td id=\"T_5f0d2_row3_col4\" class=\"data row3 col4\" >0.5357</td>\n",
       "      <td id=\"T_5f0d2_row3_col5\" class=\"data row3 col5\" >0.5363</td>\n",
       "      <td id=\"T_5f0d2_row3_col6\" class=\"data row3 col6\" >0.0707</td>\n",
       "      <td id=\"T_5f0d2_row3_col7\" class=\"data row3 col7\" >0.0712</td>\n",
       "      <td id=\"T_5f0d2_row3_col8\" class=\"data row3 col8\" >0.2510</td>\n",
       "    </tr>\n",
       "    <tr>\n",
       "      <th id=\"T_5f0d2_level0_row4\" class=\"row_heading level0 row4\" >ridge</th>\n",
       "      <td id=\"T_5f0d2_row4_col0\" class=\"data row4 col0\" >Ridge Classifier</td>\n",
       "      <td id=\"T_5f0d2_row4_col1\" class=\"data row4 col1\" >0.5321</td>\n",
       "      <td id=\"T_5f0d2_row4_col2\" class=\"data row4 col2\" >0.0000</td>\n",
       "      <td id=\"T_5f0d2_row4_col3\" class=\"data row4 col3\" >0.7036</td>\n",
       "      <td id=\"T_5f0d2_row4_col4\" class=\"data row4 col4\" >0.5233</td>\n",
       "      <td id=\"T_5f0d2_row4_col5\" class=\"data row4 col5\" >0.5994</td>\n",
       "      <td id=\"T_5f0d2_row4_col6\" class=\"data row4 col6\" >0.0643</td>\n",
       "      <td id=\"T_5f0d2_row4_col7\" class=\"data row4 col7\" >0.0700</td>\n",
       "      <td id=\"T_5f0d2_row4_col8\" class=\"data row4 col8\" >0.0950</td>\n",
       "    </tr>\n",
       "    <tr>\n",
       "      <th id=\"T_5f0d2_level0_row5\" class=\"row_heading level0 row5\" >lda</th>\n",
       "      <td id=\"T_5f0d2_row5_col0\" class=\"data row5 col0\" >Linear Discriminant Analysis</td>\n",
       "      <td id=\"T_5f0d2_row5_col1\" class=\"data row5 col1\" >0.5321</td>\n",
       "      <td id=\"T_5f0d2_row5_col2\" class=\"data row5 col2\" >0.5617</td>\n",
       "      <td id=\"T_5f0d2_row5_col3\" class=\"data row5 col3\" >0.7036</td>\n",
       "      <td id=\"T_5f0d2_row5_col4\" class=\"data row5 col4\" >0.5233</td>\n",
       "      <td id=\"T_5f0d2_row5_col5\" class=\"data row5 col5\" >0.5994</td>\n",
       "      <td id=\"T_5f0d2_row5_col6\" class=\"data row5 col6\" >0.0643</td>\n",
       "      <td id=\"T_5f0d2_row5_col7\" class=\"data row5 col7\" >0.0700</td>\n",
       "      <td id=\"T_5f0d2_row5_col8\" class=\"data row5 col8\" >0.0770</td>\n",
       "    </tr>\n",
       "    <tr>\n",
       "      <th id=\"T_5f0d2_level0_row6\" class=\"row_heading level0 row6\" >ada</th>\n",
       "      <td id=\"T_5f0d2_row6_col0\" class=\"data row6 col0\" >Ada Boost Classifier</td>\n",
       "      <td id=\"T_5f0d2_row6_col1\" class=\"data row6 col1\" >0.5314</td>\n",
       "      <td id=\"T_5f0d2_row6_col2\" class=\"data row6 col2\" >0.5616</td>\n",
       "      <td id=\"T_5f0d2_row6_col3\" class=\"data row6 col3\" >0.6979</td>\n",
       "      <td id=\"T_5f0d2_row6_col4\" class=\"data row6 col4\" >0.5228</td>\n",
       "      <td id=\"T_5f0d2_row6_col5\" class=\"data row6 col5\" >0.5966</td>\n",
       "      <td id=\"T_5f0d2_row6_col6\" class=\"data row6 col6\" >0.0629</td>\n",
       "      <td id=\"T_5f0d2_row6_col7\" class=\"data row6 col7\" >0.0685</td>\n",
       "      <td id=\"T_5f0d2_row6_col8\" class=\"data row6 col8\" >0.1490</td>\n",
       "    </tr>\n",
       "    <tr>\n",
       "      <th id=\"T_5f0d2_level0_row7\" class=\"row_heading level0 row7\" >gbc</th>\n",
       "      <td id=\"T_5f0d2_row7_col0\" class=\"data row7 col0\" >Gradient Boosting Classifier</td>\n",
       "      <td id=\"T_5f0d2_row7_col1\" class=\"data row7 col1\" >0.5332</td>\n",
       "      <td id=\"T_5f0d2_row7_col2\" class=\"data row7 col2\" >0.5660</td>\n",
       "      <td id=\"T_5f0d2_row7_col3\" class=\"data row7 col3\" >0.5457</td>\n",
       "      <td id=\"T_5f0d2_row7_col4\" class=\"data row7 col4\" >0.5321</td>\n",
       "      <td id=\"T_5f0d2_row7_col5\" class=\"data row7 col5\" >0.5362</td>\n",
       "      <td id=\"T_5f0d2_row7_col6\" class=\"data row7 col6\" >0.0664</td>\n",
       "      <td id=\"T_5f0d2_row7_col7\" class=\"data row7 col7\" >0.0670</td>\n",
       "      <td id=\"T_5f0d2_row7_col8\" class=\"data row7 col8\" >0.1720</td>\n",
       "    </tr>\n",
       "    <tr>\n",
       "      <th id=\"T_5f0d2_level0_row8\" class=\"row_heading level0 row8\" >dt</th>\n",
       "      <td id=\"T_5f0d2_row8_col0\" class=\"data row8 col0\" >Decision Tree Classifier</td>\n",
       "      <td id=\"T_5f0d2_row8_col1\" class=\"data row8 col1\" >0.5329</td>\n",
       "      <td id=\"T_5f0d2_row8_col2\" class=\"data row8 col2\" >0.5646</td>\n",
       "      <td id=\"T_5f0d2_row8_col3\" class=\"data row8 col3\" >0.5186</td>\n",
       "      <td id=\"T_5f0d2_row8_col4\" class=\"data row8 col4\" >0.5347</td>\n",
       "      <td id=\"T_5f0d2_row8_col5\" class=\"data row8 col5\" >0.5252</td>\n",
       "      <td id=\"T_5f0d2_row8_col6\" class=\"data row8 col6\" >0.0657</td>\n",
       "      <td id=\"T_5f0d2_row8_col7\" class=\"data row8 col7\" >0.0659</td>\n",
       "      <td id=\"T_5f0d2_row8_col8\" class=\"data row8 col8\" >0.0750</td>\n",
       "    </tr>\n",
       "    <tr>\n",
       "      <th id=\"T_5f0d2_level0_row9\" class=\"row_heading level0 row9\" >et</th>\n",
       "      <td id=\"T_5f0d2_row9_col0\" class=\"data row9 col0\" >Extra Trees Classifier</td>\n",
       "      <td id=\"T_5f0d2_row9_col1\" class=\"data row9 col1\" >0.5329</td>\n",
       "      <td id=\"T_5f0d2_row9_col2\" class=\"data row9 col2\" >0.5646</td>\n",
       "      <td id=\"T_5f0d2_row9_col3\" class=\"data row9 col3\" >0.5186</td>\n",
       "      <td id=\"T_5f0d2_row9_col4\" class=\"data row9 col4\" >0.5347</td>\n",
       "      <td id=\"T_5f0d2_row9_col5\" class=\"data row9 col5\" >0.5252</td>\n",
       "      <td id=\"T_5f0d2_row9_col6\" class=\"data row9 col6\" >0.0657</td>\n",
       "      <td id=\"T_5f0d2_row9_col7\" class=\"data row9 col7\" >0.0659</td>\n",
       "      <td id=\"T_5f0d2_row9_col8\" class=\"data row9 col8\" >0.4130</td>\n",
       "    </tr>\n",
       "    <tr>\n",
       "      <th id=\"T_5f0d2_level0_row10\" class=\"row_heading level0 row10\" >lightgbm</th>\n",
       "      <td id=\"T_5f0d2_row10_col0\" class=\"data row10 col0\" >Light Gradient Boosting Machine</td>\n",
       "      <td id=\"T_5f0d2_row10_col1\" class=\"data row10 col1\" >0.5329</td>\n",
       "      <td id=\"T_5f0d2_row10_col2\" class=\"data row10 col2\" >0.5642</td>\n",
       "      <td id=\"T_5f0d2_row10_col3\" class=\"data row10 col3\" >0.5186</td>\n",
       "      <td id=\"T_5f0d2_row10_col4\" class=\"data row10 col4\" >0.5347</td>\n",
       "      <td id=\"T_5f0d2_row10_col5\" class=\"data row10 col5\" >0.5252</td>\n",
       "      <td id=\"T_5f0d2_row10_col6\" class=\"data row10 col6\" >0.0657</td>\n",
       "      <td id=\"T_5f0d2_row10_col7\" class=\"data row10 col7\" >0.0659</td>\n",
       "      <td id=\"T_5f0d2_row10_col8\" class=\"data row10 col8\" >0.1160</td>\n",
       "    </tr>\n",
       "    <tr>\n",
       "      <th id=\"T_5f0d2_level0_row11\" class=\"row_heading level0 row11\" >lr</th>\n",
       "      <td id=\"T_5f0d2_row11_col0\" class=\"data row11 col0\" >Logistic Regression</td>\n",
       "      <td id=\"T_5f0d2_row11_col1\" class=\"data row11 col1\" >0.5300</td>\n",
       "      <td id=\"T_5f0d2_row11_col2\" class=\"data row11 col2\" >0.5617</td>\n",
       "      <td id=\"T_5f0d2_row11_col3\" class=\"data row11 col3\" >0.6900</td>\n",
       "      <td id=\"T_5f0d2_row11_col4\" class=\"data row11 col4\" >0.5218</td>\n",
       "      <td id=\"T_5f0d2_row11_col5\" class=\"data row11 col5\" >0.5930</td>\n",
       "      <td id=\"T_5f0d2_row11_col6\" class=\"data row11 col6\" >0.0600</td>\n",
       "      <td id=\"T_5f0d2_row11_col7\" class=\"data row11 col7\" >0.0654</td>\n",
       "      <td id=\"T_5f0d2_row11_col8\" class=\"data row11 col8\" >0.1130</td>\n",
       "    </tr>\n",
       "    <tr>\n",
       "      <th id=\"T_5f0d2_level0_row12\" class=\"row_heading level0 row12\" >nb</th>\n",
       "      <td id=\"T_5f0d2_row12_col0\" class=\"data row12 col0\" >Naive Bayes</td>\n",
       "      <td id=\"T_5f0d2_row12_col1\" class=\"data row12 col1\" >0.5318</td>\n",
       "      <td id=\"T_5f0d2_row12_col2\" class=\"data row12 col2\" >0.5624</td>\n",
       "      <td id=\"T_5f0d2_row12_col3\" class=\"data row12 col3\" >0.5793</td>\n",
       "      <td id=\"T_5f0d2_row12_col4\" class=\"data row12 col4\" >0.5303</td>\n",
       "      <td id=\"T_5f0d2_row12_col5\" class=\"data row12 col5\" >0.5530</td>\n",
       "      <td id=\"T_5f0d2_row12_col6\" class=\"data row12 col6\" >0.0636</td>\n",
       "      <td id=\"T_5f0d2_row12_col7\" class=\"data row12 col7\" >0.0637</td>\n",
       "      <td id=\"T_5f0d2_row12_col8\" class=\"data row12 col8\" >0.0760</td>\n",
       "    </tr>\n",
       "    <tr>\n",
       "      <th id=\"T_5f0d2_level0_row13\" class=\"row_heading level0 row13\" >catboost</th>\n",
       "      <td id=\"T_5f0d2_row13_col0\" class=\"data row13 col0\" >CatBoost Classifier</td>\n",
       "      <td id=\"T_5f0d2_row13_col1\" class=\"data row13 col1\" >0.5307</td>\n",
       "      <td id=\"T_5f0d2_row13_col2\" class=\"data row13 col2\" >0.5601</td>\n",
       "      <td id=\"T_5f0d2_row13_col3\" class=\"data row13 col3\" >0.5443</td>\n",
       "      <td id=\"T_5f0d2_row13_col4\" class=\"data row13 col4\" >0.5310</td>\n",
       "      <td id=\"T_5f0d2_row13_col5\" class=\"data row13 col5\" >0.5363</td>\n",
       "      <td id=\"T_5f0d2_row13_col6\" class=\"data row13 col6\" >0.0614</td>\n",
       "      <td id=\"T_5f0d2_row13_col7\" class=\"data row13 col7\" >0.0618</td>\n",
       "      <td id=\"T_5f0d2_row13_col8\" class=\"data row13 col8\" >18.0520</td>\n",
       "    </tr>\n",
       "    <tr>\n",
       "      <th id=\"T_5f0d2_level0_row14\" class=\"row_heading level0 row14\" >qda</th>\n",
       "      <td id=\"T_5f0d2_row14_col0\" class=\"data row14 col0\" >Quadratic Discriminant Analysis</td>\n",
       "      <td id=\"T_5f0d2_row14_col1\" class=\"data row14 col1\" >0.5179</td>\n",
       "      <td id=\"T_5f0d2_row14_col2\" class=\"data row14 col2\" >0.5326</td>\n",
       "      <td id=\"T_5f0d2_row14_col3\" class=\"data row14 col3\" >0.6007</td>\n",
       "      <td id=\"T_5f0d2_row14_col4\" class=\"data row14 col4\" >0.5110</td>\n",
       "      <td id=\"T_5f0d2_row14_col5\" class=\"data row14 col5\" >0.5354</td>\n",
       "      <td id=\"T_5f0d2_row14_col6\" class=\"data row14 col6\" >0.0357</td>\n",
       "      <td id=\"T_5f0d2_row14_col7\" class=\"data row14 col7\" >0.0402</td>\n",
       "      <td id=\"T_5f0d2_row14_col8\" class=\"data row14 col8\" >0.0730</td>\n",
       "    </tr>\n",
       "    <tr>\n",
       "      <th id=\"T_5f0d2_level0_row15\" class=\"row_heading level0 row15\" >dummy</th>\n",
       "      <td id=\"T_5f0d2_row15_col0\" class=\"data row15 col0\" >Dummy Classifier</td>\n",
       "      <td id=\"T_5f0d2_row15_col1\" class=\"data row15 col1\" >0.5000</td>\n",
       "      <td id=\"T_5f0d2_row15_col2\" class=\"data row15 col2\" >0.5000</td>\n",
       "      <td id=\"T_5f0d2_row15_col3\" class=\"data row15 col3\" >0.0000</td>\n",
       "      <td id=\"T_5f0d2_row15_col4\" class=\"data row15 col4\" >0.0000</td>\n",
       "      <td id=\"T_5f0d2_row15_col5\" class=\"data row15 col5\" >0.0000</td>\n",
       "      <td id=\"T_5f0d2_row15_col6\" class=\"data row15 col6\" >0.0000</td>\n",
       "      <td id=\"T_5f0d2_row15_col7\" class=\"data row15 col7\" >0.0000</td>\n",
       "      <td id=\"T_5f0d2_row15_col8\" class=\"data row15 col8\" >0.0730</td>\n",
       "    </tr>\n",
       "  </tbody>\n",
       "</table>\n"
      ],
      "text/plain": [
       "<pandas.io.formats.style.Styler at 0x7fbde95cb2b0>"
      ]
     },
     "metadata": {},
     "output_type": "display_data"
    },
    {
     "data": {
      "application/vnd.jupyter.widget-view+json": {
       "model_id": "",
       "version_major": 2,
       "version_minor": 0
      },
      "text/plain": [
       "Processing:   0%|          | 0/73 [00:00<?, ?it/s]"
      ]
     },
     "metadata": {},
     "output_type": "display_data"
    }
   ],
   "source": [
    "base_models = compare_models(n_select=5, sort='MCC')"
   ]
  },
  {
   "cell_type": "code",
   "execution_count": 37,
   "id": "b68e2979",
   "metadata": {},
   "outputs": [],
   "source": [
    "base_model = base_models[3]"
   ]
  },
  {
   "cell_type": "code",
   "execution_count": null,
   "id": "6af12d29",
   "metadata": {},
   "outputs": [],
   "source": [
    "base_models = [\n",
    "    create_model('svm'),\n",
    "    create_model('xgboost'),\n",
    "    create_model('gbc'),\n",
    "    create_model('catboost')\n",
    "]"
   ]
  },
  {
   "cell_type": "code",
   "execution_count": 38,
   "id": "b14febb7",
   "metadata": {},
   "outputs": [],
   "source": [
    "final_model = base_model"
   ]
  },
  {
   "cell_type": "code",
   "execution_count": 39,
   "id": "9de288df",
   "metadata": {
    "scrolled": false
   },
   "outputs": [
    {
     "data": {
      "application/vnd.jupyter.widget-view+json": {
       "model_id": "f0bbb4a1fd2b44ada974c4fb04999bb9",
       "version_major": 2,
       "version_minor": 0
      },
      "text/plain": [
       "interactive(children=(ToggleButtons(description='Plot Type:', icons=('',), options=(('Pipeline Plot', 'pipelin…"
      ]
     },
     "metadata": {},
     "output_type": "display_data"
    },
    {
     "data": {
      "text/html": [],
      "text/plain": [
       "<IPython.core.display.HTML object>"
      ]
     },
     "metadata": {},
     "output_type": "display_data"
    },
    {
     "data": {
      "image/png": "[encoded data removed]",
      "text/plain": [
       "<Figure size 800x550 with 1 Axes>"
      ]
     },
     "metadata": {},
     "output_type": "display_data"
    }
   ],
   "source": [
    "# 4) Hyperparameter tuning\n",
    "# tuned_models = [tune_model(model, choose_better=True, return_train_score=True, optimize='MCC') for model in base_models]\n",
    "\n",
    "# 5) Ensemble models\n",
    "# ensemble_model = blend_models(tuned_models, choose_better=True, return_train_score=True)  # voting(average)\n",
    "# final_model = blend_models(base_models, choose_better=True, return_train_score=True, optimize='MCC')  # voting(average)\n",
    "\n",
    "# 6) Select final model\n",
    "# final_model = automl(return_train_score=True)  # 생성한 모델들 중 최적의 모델을 선택\n",
    "# final_model = base_models[0]\n",
    "\n",
    "# 7) Evaluate model\n",
    "evaluate_model(final_model)  # 다양한 평가지표들과 시각자료들을 통해 모델을 평가\n",
    "\n",
    "# 8) Predict\n",
    "preds = predict_model(final_model, data=test_data_pp)  # 'Label' column으로 예측값을 추가"
   ]
  },
  {
   "cell_type": "markdown",
   "id": "80ae0c7a",
   "metadata": {},
   "source": [
    "```\n",
    "        Accuracy\tAUC\tRecall\tPrec.\tF1\tKappa\tMCC\n",
    "Split\tFold\t \t \t \t \t \t \t \n",
    "CV-Train\t0\t0.5642\t0.0000\t0.7261\t0.5485\t0.6249\t0.1284\t0.1357\n",
    "1\t0.5757\t0.0000\t0.6322\t0.5680\t0.5984\t0.1513\t0.1523\n",
    "2\t0.5699\t0.0000\t0.7605\t0.5506\t0.6388\t0.1398\t0.1513\n",
    "3\t0.5776\t0.0000\t0.6073\t0.5732\t0.5898\t0.1552\t0.1554\n",
    "4\t0.5575\t0.0000\t0.7816\t0.5397\t0.6385\t0.1149\t0.1286\n",
    "5\t0.5699\t0.0000\t0.7548\t0.5510\t0.6370\t0.1398\t0.1505\n",
    "6\t0.5718\t0.0000\t0.6935\t0.5578\t0.6183\t0.1437\t0.1481\n",
    "7\t0.5670\t0.0000\t0.7701\t0.5477\t0.6401\t0.1341\t0.1467\n",
    "8\t0.5718\t0.0000\t0.6456\t0.5626\t0.6012\t0.1437\t0.1453\n",
    "9\t0.5623\t0.0000\t0.7835\t0.5432\t0.6416\t0.1245\t0.1389\n",
    "CV-Val\t0\t0.5603\t0.0000\t0.7586\t0.5432\t0.6331\t0.1207\t0.1315\n",
    "1\t0.4914\t0.0000\t0.5345\t0.4921\t0.5124\t-0.0172\t-0.0173\n",
    "2\t0.5259\t0.0000\t0.7759\t0.5172\t0.6207\t0.0517\t0.0597\n",
    "3\t0.4655\t0.0000\t0.4655\t0.4655\t0.4655\t-0.0690\t-0.0690\n",
    "4\t0.6121\t0.0000\t0.8793\t0.5730\t0.6939\t0.2241\t0.2652\n",
    "5\t0.5690\t0.0000\t0.7414\t0.5513\t0.6324\t0.1379\t0.1469\n",
    "6\t0.4828\t0.0000\t0.5862\t0.4857\t0.5312\t-0.0345\t-0.0352\n",
    "7\t0.5690\t0.0000\t0.7414\t0.5513\t0.6324\t0.1379\t0.1469\n",
    "8\t0.5603\t0.0000\t0.6724\t0.5493\t0.6047\t0.1207\t0.1238\n",
    "9\t0.5517\t0.0000\t0.7931\t0.5349\t0.6389\t0.1034\t0.1181\n",
    "CV-Train\tMean\t0.5688\t0.0000\t0.7155\t0.5542\t0.6229\t0.1375\t0.1453\n",
    "Std\t0.0058\t0.0000\t0.0630\t0.0103\t0.0188\t0.0117\t0.0080\n",
    "CV-Val\tMean\t0.5388\t0.0000\t0.6948\t0.5264\t0.5965\t0.0776\t0.0871\n",
    "Std\t0.0438\t0.0000\t0.1222\t0.0330\t0.0666\t0.0877\t0.0970\n",
    "Train\tnan\t0.5621\t0.5621\t0.6793\t0.5503\t0.6080\t0.1241\t0.1277\n",
    "```"
   ]
  },
  {
   "cell_type": "code",
   "execution_count": 40,
   "id": "35663381",
   "metadata": {},
   "outputs": [
    {
     "data": {
      "text/html": [
       "<div>\n",
       "<style scoped>\n",
       "    .dataframe tbody tr th:only-of-type {\n",
       "        vertical-align: middle;\n",
       "    }\n",
       "\n",
       "    .dataframe tbody tr th {\n",
       "        vertical-align: top;\n",
       "    }\n",
       "\n",
       "    .dataframe thead th {\n",
       "        text-align: right;\n",
       "    }\n",
       "</style>\n",
       "<table border=\"1\" class=\"dataframe\">\n",
       "  <thead>\n",
       "    <tr style=\"text-align: right;\">\n",
       "      <th></th>\n",
       "      <th>first_party_grp</th>\n",
       "      <th>second_party_grp</th>\n",
       "      <th>prediction_label</th>\n",
       "      <th>prediction_score</th>\n",
       "    </tr>\n",
       "  </thead>\n",
       "  <tbody>\n",
       "    <tr>\n",
       "      <th>0</th>\n",
       "      <td>IND</td>\n",
       "      <td>USA</td>\n",
       "      <td>0</td>\n",
       "      <td>0.6601</td>\n",
       "    </tr>\n",
       "    <tr>\n",
       "      <th>1</th>\n",
       "      <td>ORG</td>\n",
       "      <td>ORG</td>\n",
       "      <td>0</td>\n",
       "      <td>0.5338</td>\n",
       "    </tr>\n",
       "    <tr>\n",
       "      <th>2</th>\n",
       "      <td>USA</td>\n",
       "      <td>ORG</td>\n",
       "      <td>1</td>\n",
       "      <td>0.6415</td>\n",
       "    </tr>\n",
       "    <tr>\n",
       "      <th>3</th>\n",
       "      <td>IND</td>\n",
       "      <td>USA</td>\n",
       "      <td>0</td>\n",
       "      <td>0.6601</td>\n",
       "    </tr>\n",
       "    <tr>\n",
       "      <th>4</th>\n",
       "      <td>IND</td>\n",
       "      <td>IND</td>\n",
       "      <td>1</td>\n",
       "      <td>0.5195</td>\n",
       "    </tr>\n",
       "    <tr>\n",
       "      <th>...</th>\n",
       "      <td>...</td>\n",
       "      <td>...</td>\n",
       "      <td>...</td>\n",
       "      <td>...</td>\n",
       "    </tr>\n",
       "    <tr>\n",
       "      <th>1235</th>\n",
       "      <td>ORG</td>\n",
       "      <td>ORG</td>\n",
       "      <td>0</td>\n",
       "      <td>0.5338</td>\n",
       "    </tr>\n",
       "    <tr>\n",
       "      <th>1236</th>\n",
       "      <td>IND</td>\n",
       "      <td>ORG</td>\n",
       "      <td>1</td>\n",
       "      <td>0.5254</td>\n",
       "    </tr>\n",
       "    <tr>\n",
       "      <th>1237</th>\n",
       "      <td>GRP</td>\n",
       "      <td>IND</td>\n",
       "      <td>1</td>\n",
       "      <td>0.5312</td>\n",
       "    </tr>\n",
       "    <tr>\n",
       "      <th>1238</th>\n",
       "      <td>ORG</td>\n",
       "      <td>IND</td>\n",
       "      <td>0</td>\n",
       "      <td>0.5172</td>\n",
       "    </tr>\n",
       "    <tr>\n",
       "      <th>1239</th>\n",
       "      <td>IND</td>\n",
       "      <td>GPE</td>\n",
       "      <td>1</td>\n",
       "      <td>0.5037</td>\n",
       "    </tr>\n",
       "  </tbody>\n",
       "</table>\n",
       "<p>1240 rows × 4 columns</p>\n",
       "</div>"
      ],
      "text/plain": [
       "     first_party_grp second_party_grp  prediction_label  prediction_score\n",
       "0                IND              USA                 0            0.6601\n",
       "1                ORG              ORG                 0            0.5338\n",
       "2                USA              ORG                 1            0.6415\n",
       "3                IND              USA                 0            0.6601\n",
       "4                IND              IND                 1            0.5195\n",
       "...              ...              ...               ...               ...\n",
       "1235             ORG              ORG                 0            0.5338\n",
       "1236             IND              ORG                 1            0.5254\n",
       "1237             GRP              IND                 1            0.5312\n",
       "1238             ORG              IND                 0            0.5172\n",
       "1239             IND              GPE                 1            0.5037\n",
       "\n",
       "[1240 rows x 4 columns]"
      ]
     },
     "execution_count": 40,
     "metadata": {},
     "output_type": "execute_result"
    }
   ],
   "source": [
    "preds"
   ]
  },
  {
   "cell_type": "code",
   "execution_count": 41,
   "id": "0b204cac",
   "metadata": {},
   "outputs": [
    {
     "data": {
      "text/html": [
       "<style type=\"text/css\">\n",
       "</style>\n",
       "<table id=\"T_1e8e5\">\n",
       "  <thead>\n",
       "    <tr>\n",
       "      <th class=\"blank level0\" >&nbsp;</th>\n",
       "      <th id=\"T_1e8e5_level0_col0\" class=\"col_heading level0 col0\" >Model</th>\n",
       "      <th id=\"T_1e8e5_level0_col1\" class=\"col_heading level0 col1\" >Accuracy</th>\n",
       "      <th id=\"T_1e8e5_level0_col2\" class=\"col_heading level0 col2\" >AUC</th>\n",
       "      <th id=\"T_1e8e5_level0_col3\" class=\"col_heading level0 col3\" >Recall</th>\n",
       "      <th id=\"T_1e8e5_level0_col4\" class=\"col_heading level0 col4\" >Prec.</th>\n",
       "      <th id=\"T_1e8e5_level0_col5\" class=\"col_heading level0 col5\" >F1</th>\n",
       "      <th id=\"T_1e8e5_level0_col6\" class=\"col_heading level0 col6\" >Kappa</th>\n",
       "      <th id=\"T_1e8e5_level0_col7\" class=\"col_heading level0 col7\" >MCC</th>\n",
       "    </tr>\n",
       "  </thead>\n",
       "  <tbody>\n",
       "    <tr>\n",
       "      <th id=\"T_1e8e5_level0_row0\" class=\"row_heading level0 row0\" >0</th>\n",
       "      <td id=\"T_1e8e5_row0_col0\" class=\"data row0 col0\" >Extreme Gradient Boosting</td>\n",
       "      <td id=\"T_1e8e5_row0_col1\" class=\"data row0 col1\" >0.5100</td>\n",
       "      <td id=\"T_1e8e5_row0_col2\" class=\"data row0 col2\" >0.5209</td>\n",
       "      <td id=\"T_1e8e5_row0_col3\" class=\"data row0 col3\" >0.5663</td>\n",
       "      <td id=\"T_1e8e5_row0_col4\" class=\"data row0 col4\" >0.5090</td>\n",
       "      <td id=\"T_1e8e5_row0_col5\" class=\"data row0 col5\" >0.5361</td>\n",
       "      <td id=\"T_1e8e5_row0_col6\" class=\"data row0 col6\" >0.0201</td>\n",
       "      <td id=\"T_1e8e5_row0_col7\" class=\"data row0 col7\" >0.0202</td>\n",
       "    </tr>\n",
       "  </tbody>\n",
       "</table>\n"
      ],
      "text/plain": [
       "<pandas.io.formats.style.Styler at 0x7fbde91943d0>"
      ]
     },
     "metadata": {},
     "output_type": "display_data"
    }
   ],
   "source": [
    "preds_val = predict_model(final_model, data=val_data)  # 'Label' column으로 예측값을 추가"
   ]
  },
  {
   "cell_type": "code",
   "execution_count": 52,
   "id": "728ae1f5",
   "metadata": {},
   "outputs": [
    {
     "data": {
      "text/html": [
       "<div>\n",
       "<style scoped>\n",
       "    .dataframe tbody tr th:only-of-type {\n",
       "        vertical-align: middle;\n",
       "    }\n",
       "\n",
       "    .dataframe tbody tr th {\n",
       "        vertical-align: top;\n",
       "    }\n",
       "\n",
       "    .dataframe thead th {\n",
       "        text-align: right;\n",
       "    }\n",
       "</style>\n",
       "<table border=\"1\" class=\"dataframe\">\n",
       "  <thead>\n",
       "    <tr style=\"text-align: right;\">\n",
       "      <th></th>\n",
       "      <th>first_party_grp</th>\n",
       "      <th>second_party_grp</th>\n",
       "      <th>first_party_winner</th>\n",
       "      <th>prediction_label</th>\n",
       "      <th>prediction_score</th>\n",
       "    </tr>\n",
       "  </thead>\n",
       "  <tbody>\n",
       "    <tr>\n",
       "      <th>0</th>\n",
       "      <td>ORG</td>\n",
       "      <td>IND</td>\n",
       "      <td>0</td>\n",
       "      <td>0</td>\n",
       "      <td>0.5172</td>\n",
       "    </tr>\n",
       "    <tr>\n",
       "      <th>1</th>\n",
       "      <td>IND</td>\n",
       "      <td>ORG</td>\n",
       "      <td>0</td>\n",
       "      <td>1</td>\n",
       "      <td>0.5254</td>\n",
       "    </tr>\n",
       "    <tr>\n",
       "      <th>2</th>\n",
       "      <td>IND</td>\n",
       "      <td>IND</td>\n",
       "      <td>1</td>\n",
       "      <td>1</td>\n",
       "      <td>0.5195</td>\n",
       "    </tr>\n",
       "    <tr>\n",
       "      <th>3</th>\n",
       "      <td>IND</td>\n",
       "      <td>IND</td>\n",
       "      <td>1</td>\n",
       "      <td>1</td>\n",
       "      <td>0.5195</td>\n",
       "    </tr>\n",
       "    <tr>\n",
       "      <th>4</th>\n",
       "      <td>ORG</td>\n",
       "      <td>GRP</td>\n",
       "      <td>0</td>\n",
       "      <td>1</td>\n",
       "      <td>0.6539</td>\n",
       "    </tr>\n",
       "    <tr>\n",
       "      <th>5</th>\n",
       "      <td>IND</td>\n",
       "      <td>USA</td>\n",
       "      <td>0</td>\n",
       "      <td>0</td>\n",
       "      <td>0.6601</td>\n",
       "    </tr>\n",
       "    <tr>\n",
       "      <th>6</th>\n",
       "      <td>GPE</td>\n",
       "      <td>IND</td>\n",
       "      <td>1</td>\n",
       "      <td>1</td>\n",
       "      <td>0.6089</td>\n",
       "    </tr>\n",
       "    <tr>\n",
       "      <th>7</th>\n",
       "      <td>GRP</td>\n",
       "      <td>GRP</td>\n",
       "      <td>0</td>\n",
       "      <td>1</td>\n",
       "      <td>0.5849</td>\n",
       "    </tr>\n",
       "    <tr>\n",
       "      <th>8</th>\n",
       "      <td>ORG</td>\n",
       "      <td>GPE</td>\n",
       "      <td>1</td>\n",
       "      <td>1</td>\n",
       "      <td>0.5999</td>\n",
       "    </tr>\n",
       "    <tr>\n",
       "      <th>9</th>\n",
       "      <td>IND</td>\n",
       "      <td>USA</td>\n",
       "      <td>1</td>\n",
       "      <td>0</td>\n",
       "      <td>0.6601</td>\n",
       "    </tr>\n",
       "  </tbody>\n",
       "</table>\n",
       "</div>"
      ],
      "text/plain": [
       "  first_party_grp second_party_grp  first_party_winner  prediction_label  \\\n",
       "0             ORG              IND                   0                 0   \n",
       "1             IND              ORG                   0                 1   \n",
       "2             IND              IND                   1                 1   \n",
       "3             IND              IND                   1                 1   \n",
       "4             ORG              GRP                   0                 1   \n",
       "5             IND              USA                   0                 0   \n",
       "6             GPE              IND                   1                 1   \n",
       "7             GRP              GRP                   0                 1   \n",
       "8             ORG              GPE                   1                 1   \n",
       "9             IND              USA                   1                 0   \n",
       "\n",
       "   prediction_score  \n",
       "0            0.5172  \n",
       "1            0.5254  \n",
       "2            0.5195  \n",
       "3            0.5195  \n",
       "4            0.6539  \n",
       "5            0.6601  \n",
       "6            0.6089  \n",
       "7            0.5849  \n",
       "8            0.5999  \n",
       "9            0.6601  "
      ]
     },
     "execution_count": 52,
     "metadata": {},
     "output_type": "execute_result"
    }
   ],
   "source": [
    "preds_val.head(10)"
   ]
  },
  {
   "cell_type": "code",
   "execution_count": 56,
   "id": "0a5b9682",
   "metadata": {},
   "outputs": [
    {
     "data": {
      "text/plain": [
       "0.6666"
      ]
     },
     "execution_count": 56,
     "metadata": {},
     "output_type": "execute_result"
    }
   ],
   "source": [
    "preds_val['prediction_score']"
   ]
  },
  {
   "cell_type": "code",
   "execution_count": 53,
   "id": "6e07ba97",
   "metadata": {},
   "outputs": [],
   "source": [
    "zeros = preds_val[preds_val[target] == 0]\n",
    "ones  = preds_val[preds_val[target] == 1]"
   ]
  },
  {
   "cell_type": "code",
   "execution_count": 54,
   "id": "5b08cfa7",
   "metadata": {},
   "outputs": [
    {
     "data": {
      "image/png": "[encoded data removed]",
      "text/plain": [
       "<Figure size 800x550 with 1 Axes>"
      ]
     },
     "metadata": {},
     "output_type": "display_data"
    }
   ],
   "source": [
    "sns.kdeplot(zeros['prediction_score'])\n",
    "sns.kdeplot(ones['prediction_score']);"
   ]
  },
  {
   "cell_type": "code",
   "execution_count": 59,
   "id": "3848d4f3",
   "metadata": {},
   "outputs": [],
   "source": [
    "submit = pd.read_csv(PATH.sample)\n",
    "submit[target] = preds['prediction_label']\n",
    "submit.to_csv(join(PATH.submit, f\"xgboost-oversampling-advanced_data.csv\"), index=False)"
   ]
  }
 ],
 "metadata": {
  "kernelspec": {
   "display_name": "Python 3 (ipykernel)",
   "language": "python",
   "name": "python3"
  },
  "language_info": {
   "codemirror_mode": {
    "name": "ipython",
    "version": 3
   },
   "file_extension": ".py",
   "mimetype": "text/x-python",
   "name": "python",
   "nbconvert_exporter": "python",
   "pygments_lexer": "ipython3",
   "version": "3.8.16"
  }
 },
 "nbformat": 4,
 "nbformat_minor": 5
}
