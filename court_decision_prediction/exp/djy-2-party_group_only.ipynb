{
 "cells": [
  {
   "cell_type": "code",
   "execution_count": null,
   "id": "59f0a44f",
   "metadata": {},
   "outputs": [],
   "source": [
    "!pip install packaging==21.3\n",
    "!pip install pycaret[full] scikit-learn"
   ]
  },
  {
   "cell_type": "code",
   "execution_count": null,
   "id": "7fb90289",
   "metadata": {
    "scrolled": false
   },
   "outputs": [],
   "source": [
    "import os\n",
    "from os.path import join, dirname\n",
    "import random\n",
    "import warnings\n",
    "\n",
    "import numpy as np\n",
    "import pandas as pd\n",
    "import spacy\n",
    "from tqdm import tqdm, trange\n",
    "\n",
    "from pycaret.classification import setup, compare_models, create_model, tune_model, blend_models, evaluate_model, automl, predict_model\n",
    "\n",
    "import matplotlib.pyplot as plt\n",
    "import seaborn as sns\n",
    "\n",
    "plt.style.use('ggplot')\n",
    "warnings.filterwarnings('ignore')\n",
    "\n",
    "nlp = spacy.load(\"en_core_web_sm\")"
   ]
  },
  {
   "cell_type": "code",
   "execution_count": null,
   "id": "116f3d95",
   "metadata": {},
   "outputs": [],
   "source": [
    "def seed_everything(seed: int=42):\n",
    "    random.seed(seed)\n",
    "    np.random.seed(seed)\n",
    "    os.environ[\"PYTHONHASHSEED\"] = str(seed)\n",
    "#     torch.manual_seed(seed)\n",
    "#     torch.cuda.manual_seed(seed)  # type: ignore\n",
    "#     torch.backends.cudnn.deterministic = True  # type: ignore\n",
    "#     torch.backends.cudnn.benchmark = True  # type: ignore\n",
    "\n",
    "seed_everything()"
   ]
  },
  {
   "cell_type": "code",
   "execution_count": null,
   "id": "ddaecddb",
   "metadata": {},
   "outputs": [],
   "source": [
    "class PATH:\n",
    "    root   = '/root/court-decision-prediction'\n",
    "    yaml   = join(root, 'court_decision_prediction/configs.yaml')\n",
    "    data   = join(root, 'data/open')\n",
    "    train  = join(data, 'train.csv')\n",
    "    test   = join(data, 'test.csv')\n",
    "    sample = join(data, 'sample_submission.csv')\n",
    "    submit = join(root, 'submission')\n",
    "    models = join(root, 'models')"
   ]
  },
  {
   "cell_type": "markdown",
   "id": "033622ef",
   "metadata": {},
   "source": [
    "# 1. Load Data "
   ]
  },
  {
   "cell_type": "code",
   "execution_count": null,
   "id": "defed9e6",
   "metadata": {},
   "outputs": [],
   "source": [
    "train_full_data = pd.read_csv(PATH.train)\n",
    "test_data       = pd.read_csv(PATH.test)\n",
    "target          = 'first_party_winner'"
   ]
  },
  {
   "cell_type": "code",
   "execution_count": null,
   "id": "5713ad2e",
   "metadata": {},
   "outputs": [],
   "source": [
    "from sklearn.preprocessing import LabelEncoder\n",
    "from sklearn.utils import resample\n",
    "\n",
    "\n",
    "def preprocess(data, target):\n",
    "#     data = select_facts(data)\n",
    "    data = append_party_group(data)\n",
    "    if target in data:\n",
    "#         data = undersampling(data, target)'\n",
    "#         data = oversampling(data, target)\n",
    "        cols = ['first_party_grp', 'second_party_grp', target]\n",
    "    else:\n",
    "        cols = ['first_party_grp', 'second_party_grp']\n",
    "    return data[cols]\n",
    "\n",
    "\n",
    "# def select_facts(data):\n",
    "#     transition_words = [\"accordingly\", \"additionally\", \"also\", \"although\", \"alternatively\", \"as a result\", \"besides\", \"but\", \"consequently\", \"conversely\", \"despite\", \"due to\", \"either\", \"equally\", \"eventually\", \"finally\", \"first\", \"furthermore\", \"hence\", \"however\", \"in addition\", \"in conclusion\", \"in contrast\", \"in other words\", \"in spite of\", \"instead\", \"likewise\", \"meanwhile\", \"moreover\", \"nevertheless\", \"next\", \"nonetheless\", \"nor\", \"on the contrary\", \"on the other hand\", \"otherwise\", \"overall\", \"particularly\", \"similarly\", \"since\", \"so\", \"subsequently\", \"that is\", \"then\", \"therefore\", \"though\", \"thus\", \"ultimately\", \"unless\", \"unlike\", \"until\", \"when\", \"whereas\", \"while\", \"yet\", \"above all\", \"afterward\", \"all in all\", \"as an illustration\", \"as well as\", \"at the same time\", \"at length\", \"basically\", \"certainly\", \"comparatively\", \"consequently\", \"eventually\", \"for example\", \"for instance\", \"for this reason\", \"for the most part\", \"for this purpose\", \"generally\", \"given these points\", \"in a word\", \"in any case\", \"in essence\", \"in fact\", \"in general\", \"in particular\", \"in reality\", \"in short\", \"in summary\", \"in the first place\", \"notably\", \"of course\", \"of great importance\", \"of necessity\", \"of course\", \"of great importance\", \"of necessity\", \"specifically\", \"surprisingly\", \"to begin with\", \"to conclude\", \"to illustrate\", \"to sum up\", \"to summarize\", \"truly\", \"without a doubt\"]\n",
    "#     core_words       = ['court', 'reverse', 'judge', 'adjudicate', 'guilty']\n",
    "\n",
    "#     data = data.reset_index(drop=True)\n",
    "#     docs = data.facts\n",
    "\n",
    "#     for doc_id, doc in enumerate(tqdm(docs)):\n",
    "#         selected_sents = []\n",
    "#         for sent in nlp(doc).sents:\n",
    "#             sent_str = sent.text\n",
    "#             cond1 = any(sent_str.lower().startswith(word) for word in transition_words)\n",
    "#             cond2 = any(word in sent.lemma_.lower() for word in core_words)\n",
    "#             is_selected = True if any([cond1, cond2]) else False\n",
    "#             if is_selected:\n",
    "#                 selected_sents.append(sent_str)\n",
    "#         data.loc[doc_id, 'facts'] = '\\n'.join(selected_sents)\n",
    "#     return data\n",
    "\n",
    "\n",
    "def append_party_group(data):\n",
    "    data = data.copy()\n",
    "\n",
    "    def generate_fn(col):\n",
    "        len_filter = lambda fn, arr: len(list(filter(fn, arr)))  # get number of elements in arr filtered by fn\n",
    "\n",
    "        def fn(row):\n",
    "            party       = row[col]\n",
    "            party_lower = row[col].lower()\n",
    "\n",
    "            keywords_usa = ['united states', 'federal', 'commision', 'commodity', 'national']\n",
    "            keywords_gpe = ['school board', 'city', 'republic', 'region', 'district', 'county']\n",
    "            keywords_org = ['corporation', 'inc', 'company', 'bank', 'association', 'llc', 'ltd', 'llp', 'co.', 'hospital', 'usa', 'school', 'group', 'office', 'department']\n",
    "            keywords_grp = [',', 'et al']\n",
    "\n",
    "            for keyword in keywords_usa:\n",
    "                if keyword in party_lower:\n",
    "                    return 'USA'\n",
    "            else:\n",
    "                ents = nlp(party).ents\n",
    "                labels = [e.label_ for e in ents]\n",
    "                if ('GPE' in labels) or len_filter(lambda k: k in party_lower, keywords_gpe):\n",
    "                    return 'GPE'\n",
    "                elif ('ORG' in labels) or ('NORP' in labels) or len_filter(lambda k: k in party_lower, keywords_org):\n",
    "                    return 'ORG'\n",
    "                elif (len(labels) > 1) or len_filter(lambda k: k in party_lower, keywords_grp):\n",
    "                    return 'GRP'\n",
    "                else:\n",
    "                    return 'IND'\n",
    "\n",
    "        return fn\n",
    "\n",
    "    data['first_party_grp']  = data.apply(generate_fn('first_party'), axis=1)\n",
    "    data['second_party_grp'] = data.apply(generate_fn('second_party'), axis=1)\n",
    "    return data\n",
    "\n",
    "def undersampling(data, target):\n",
    "    data_zero_target = data[data[target] == 0]\n",
    "    data_one_target  = data[data[target] == 1]\n",
    "    first_party_grp_int = LabelEncoder().fit_transform(data_one_target['first_party_grp'])\n",
    "    data_one_target_sample = resample(data_one_target, replace=False, n_samples=len(data_zero_target), stratify=first_party_grp_int)\n",
    "    data = pd.concat([data_zero_target, data_one_target_sample], ignore_index=True)\n",
    "    return data.sample(frac=1).reset_index(drop=True)\n",
    "\n",
    "def oversampling(data, target):\n",
    "    data_zero_target = data[data[target] == 0]\n",
    "    data_one_target  = data[data[target] == 1]\n",
    "    first_party_grp_int = LabelEncoder().fit_transform(data_zero_target['first_party_grp'])\n",
    "    data_zero_target_sample = resample(data_zero_target, replace=True, n_samples=len(data_one_target) - len(data_zero_target), stratify=first_party_grp_int)\n",
    "    data = pd.concat([data_zero_target, data_zero_target_sample, data_one_target], ignore_index=True)\n",
    "    return data.sample(frac=1).reset_index(drop=True)"
   ]
  },
  {
   "cell_type": "code",
   "execution_count": null,
   "id": "de00efb2",
   "metadata": {},
   "outputs": [],
   "source": [
    "train_full_data_pp = preprocess(train_full_data, target)\n",
    "test_data_pp       = preprocess(test_data, target)"
   ]
  },
  {
   "cell_type": "code",
   "execution_count": null,
   "id": "511bd79b",
   "metadata": {},
   "outputs": [],
   "source": [
    "train_full_data_pp[target].value_counts()"
   ]
  },
  {
   "cell_type": "code",
   "execution_count": null,
   "id": "9a9d5e7c",
   "metadata": {},
   "outputs": [],
   "source": [
    "from sklearn.model_selection import train_test_split\n",
    "\n",
    "ones         = train_full_data_pp[train_full_data_pp[target] == 1]\n",
    "zeros        = train_full_data_pp[train_full_data_pp[target] == 0]\n",
    "first_party_grp_int = LabelEncoder().fit_transform(ones['first_party_grp'])\n",
    "ones1, ones2 = train_test_split(ones, test_size=829, stratify=first_party_grp_int)\n",
    "\n",
    "train_val_data = pd.concat([ones2, zeros])\n",
    "train_val_data[target].value_counts()"
   ]
  },
  {
   "cell_type": "code",
   "execution_count": null,
   "id": "786132f8",
   "metadata": {},
   "outputs": [],
   "source": [
    "len(ones), len(ones1), len(ones2)"
   ]
  },
  {
   "cell_type": "code",
   "execution_count": null,
   "id": "e725215f",
   "metadata": {},
   "outputs": [],
   "source": [
    "train_data1, val_data = train_test_split(train_val_data, test_size=0.3, stratify=train_val_data[target])\n",
    "len(train_data1), len(val_data)"
   ]
  },
  {
   "cell_type": "code",
   "execution_count": null,
   "id": "79bdd84e",
   "metadata": {},
   "outputs": [],
   "source": [
    "train_data = pd.concat([ones1, train_data1])"
   ]
  },
  {
   "cell_type": "code",
   "execution_count": null,
   "id": "d53f004d",
   "metadata": {},
   "outputs": [],
   "source": [
    "len(train_data), len(val_data)"
   ]
  },
  {
   "cell_type": "code",
   "execution_count": null,
   "id": "06ea292e",
   "metadata": {},
   "outputs": [],
   "source": [
    "val_data[target].value_counts()"
   ]
  },
  {
   "cell_type": "code",
   "execution_count": null,
   "id": "7347c260",
   "metadata": {},
   "outputs": [],
   "source": [
    "train_data = oversampling(train_data, target)\n",
    "train_data[target].value_counts()"
   ]
  },
  {
   "cell_type": "code",
   "execution_count": null,
   "id": "e3c0f7fc",
   "metadata": {},
   "outputs": [],
   "source": [
    "train_data.reset_index(drop=True, inplace=True)\n",
    "val_data.reset_index(drop=True, inplace=True)"
   ]
  },
  {
   "cell_type": "markdown",
   "id": "b4140a95",
   "metadata": {},
   "source": [
    "1649 -> (249) + (580 + 820) \\\n",
    "829  -> (249) + (580 + **820**)"
   ]
  },
  {
   "cell_type": "code",
   "execution_count": null,
   "id": "32b125e5",
   "metadata": {},
   "outputs": [],
   "source": [
    "def plot_conf_heatmap(data):\n",
    "    conf = data.pivot_table(index='first_party_grp', columns='second_party_grp', values='first_party_winner')\n",
    "    sns.heatmap(conf, annot=True, center=data[target].mean(), cmap='coolwarm')\n",
    "    plt.show()"
   ]
  },
  {
   "cell_type": "code",
   "execution_count": null,
   "id": "707409ca",
   "metadata": {},
   "outputs": [],
   "source": [
    "d = train_full_data_pp\n",
    "zeros = d[d[target] == 0] #.drop(columns=target)\n",
    "ones  = d[d[target] == 1] #.drop(columns=target)"
   ]
  },
  {
   "cell_type": "code",
   "execution_count": null,
   "id": "aba2b09a",
   "metadata": {},
   "outputs": [],
   "source": [
    "plot_conf_heatmap(d)"
   ]
  },
  {
   "cell_type": "code",
   "execution_count": null,
   "id": "41a412d3",
   "metadata": {},
   "outputs": [],
   "source": [
    "combined_counts"
   ]
  },
  {
   "cell_type": "code",
   "execution_count": null,
   "id": "a706411c",
   "metadata": {},
   "outputs": [],
   "source": [
    "cnts"
   ]
  },
  {
   "cell_type": "code",
   "execution_count": null,
   "id": "13675aad",
   "metadata": {},
   "outputs": [],
   "source": [
    "zd = zeros.drop(columns=target)\n",
    "od = ones.drop(columns=target)\n",
    "\n",
    "fig, axes = plt.subplots(ncols=5, figsize=(30, 3))\n",
    "unique_grps = d.first_party_grp.unique()\n",
    "for ax, first_party_grp in zip(axes.flat, unique_grps):\n",
    "    ax.set_title(f\"first={first_party_grp}\")\n",
    "    zero_cnts = zd[zd.first_party_grp == first_party_grp].second_party_grp.value_counts() / len(zd[zd.first_party_grp == first_party_grp])\n",
    "    one_cnts  = od[od.first_party_grp == first_party_grp].second_party_grp.value_counts() / len(od[od.first_party_grp == first_party_grp])\n",
    "    cnts      = pd.concat([zero_cnts, one_cnts], axis=1)\n",
    "\n",
    "    cnts = cnts.reindex(unique_grps)\n",
    "    cnts.columns = ['target=0', 'target=1']\n",
    "    \n",
    "    cnts['(y=1) - (y=0)'] = cnts['target=1'] - cnts['target=0']\n",
    "    cnts[['(y=1) - (y=0)']].plot.bar(ax=ax)\n",
    "    ax.axhline(0, color='k')\n",
    "plt.show()"
   ]
  },
  {
   "cell_type": "code",
   "execution_count": null,
   "id": "4a853b38",
   "metadata": {},
   "outputs": [],
   "source": [
    "zp = zeros.pivot_table(index='first_party_grp', columns='second_party_grp', aggfunc='count') / len(zeros) * 100\n",
    "zp.round(2).style.background_gradient(axis=1)"
   ]
  },
  {
   "cell_type": "code",
   "execution_count": null,
   "id": "bac242d9",
   "metadata": {},
   "outputs": [],
   "source": [
    "op = ones.pivot_table(index='first_party_grp', columns='second_party_grp', aggfunc='count') / len(ones) * 100\n",
    "op.round(2).style.background_gradient(axis=1)"
   ]
  },
  {
   "cell_type": "markdown",
   "id": "59f5772f",
   "metadata": {},
   "source": [
    "# 2. Modeling"
   ]
  },
  {
   "cell_type": "code",
   "execution_count": null,
   "id": "02e6872c",
   "metadata": {
    "scrolled": false
   },
   "outputs": [],
   "source": [
    "s = setup(train_data, test_data=val_data, target=target, categorical_features=['first_party_grp', 'second_party_grp'], use_gpu=True, index=False)"
   ]
  },
  {
   "cell_type": "code",
   "execution_count": null,
   "id": "1771ab47",
   "metadata": {},
   "outputs": [],
   "source": [
    "base_models = compare_models(n_select=5, sort='MCC')"
   ]
  },
  {
   "cell_type": "code",
   "execution_count": null,
   "id": "b68e2979",
   "metadata": {},
   "outputs": [],
   "source": [
    "base_model = base_models[3]"
   ]
  },
  {
   "cell_type": "code",
   "execution_count": null,
   "id": "6af12d29",
   "metadata": {},
   "outputs": [],
   "source": [
    "base_models = [\n",
    "    create_model('svm'),\n",
    "    create_model('xgboost'),\n",
    "    create_model('gbc'),\n",
    "    create_model('catboost')\n",
    "]"
   ]
  },
  {
   "cell_type": "code",
   "execution_count": null,
   "id": "b14febb7",
   "metadata": {},
   "outputs": [],
   "source": [
    "final_model = base_model"
   ]
  },
  {
   "cell_type": "code",
   "execution_count": null,
   "id": "9de288df",
   "metadata": {
    "scrolled": false
   },
   "outputs": [],
   "source": [
    "# 4) Hyperparameter tuning\n",
    "# tuned_models = [tune_model(model, choose_better=True, return_train_score=True, optimize='MCC') for model in base_models]\n",
    "\n",
    "# 5) Ensemble models\n",
    "# ensemble_model = blend_models(tuned_models, choose_better=True, return_train_score=True)  # voting(average)\n",
    "# final_model = blend_models(base_models, choose_better=True, return_train_score=True, optimize='MCC')  # voting(average)\n",
    "\n",
    "# 6) Select final model\n",
    "# final_model = automl(return_train_score=True)  # 생성한 모델들 중 최적의 모델을 선택\n",
    "# final_model = base_models[0]\n",
    "\n",
    "# 7) Evaluate model\n",
    "evaluate_model(final_model)  # 다양한 평가지표들과 시각자료들을 통해 모델을 평가\n",
    "\n",
    "# 8) Predict\n",
    "preds = predict_model(final_model, data=test_data_pp)  # 'Label' column으로 예측값을 추가"
   ]
  },
  {
   "cell_type": "markdown",
   "id": "80ae0c7a",
   "metadata": {},
   "source": [
    "```\n",
    "        Accuracy\tAUC\tRecall\tPrec.\tF1\tKappa\tMCC\n",
    "Split\tFold\t \t \t \t \t \t \t \n",
    "CV-Train\t0\t0.5642\t0.0000\t0.7261\t0.5485\t0.6249\t0.1284\t0.1357\n",
    "1\t0.5757\t0.0000\t0.6322\t0.5680\t0.5984\t0.1513\t0.1523\n",
    "2\t0.5699\t0.0000\t0.7605\t0.5506\t0.6388\t0.1398\t0.1513\n",
    "3\t0.5776\t0.0000\t0.6073\t0.5732\t0.5898\t0.1552\t0.1554\n",
    "4\t0.5575\t0.0000\t0.7816\t0.5397\t0.6385\t0.1149\t0.1286\n",
    "5\t0.5699\t0.0000\t0.7548\t0.5510\t0.6370\t0.1398\t0.1505\n",
    "6\t0.5718\t0.0000\t0.6935\t0.5578\t0.6183\t0.1437\t0.1481\n",
    "7\t0.5670\t0.0000\t0.7701\t0.5477\t0.6401\t0.1341\t0.1467\n",
    "8\t0.5718\t0.0000\t0.6456\t0.5626\t0.6012\t0.1437\t0.1453\n",
    "9\t0.5623\t0.0000\t0.7835\t0.5432\t0.6416\t0.1245\t0.1389\n",
    "CV-Val\t0\t0.5603\t0.0000\t0.7586\t0.5432\t0.6331\t0.1207\t0.1315\n",
    "1\t0.4914\t0.0000\t0.5345\t0.4921\t0.5124\t-0.0172\t-0.0173\n",
    "2\t0.5259\t0.0000\t0.7759\t0.5172\t0.6207\t0.0517\t0.0597\n",
    "3\t0.4655\t0.0000\t0.4655\t0.4655\t0.4655\t-0.0690\t-0.0690\n",
    "4\t0.6121\t0.0000\t0.8793\t0.5730\t0.6939\t0.2241\t0.2652\n",
    "5\t0.5690\t0.0000\t0.7414\t0.5513\t0.6324\t0.1379\t0.1469\n",
    "6\t0.4828\t0.0000\t0.5862\t0.4857\t0.5312\t-0.0345\t-0.0352\n",
    "7\t0.5690\t0.0000\t0.7414\t0.5513\t0.6324\t0.1379\t0.1469\n",
    "8\t0.5603\t0.0000\t0.6724\t0.5493\t0.6047\t0.1207\t0.1238\n",
    "9\t0.5517\t0.0000\t0.7931\t0.5349\t0.6389\t0.1034\t0.1181\n",
    "CV-Train\tMean\t0.5688\t0.0000\t0.7155\t0.5542\t0.6229\t0.1375\t0.1453\n",
    "Std\t0.0058\t0.0000\t0.0630\t0.0103\t0.0188\t0.0117\t0.0080\n",
    "CV-Val\tMean\t0.5388\t0.0000\t0.6948\t0.5264\t0.5965\t0.0776\t0.0871\n",
    "Std\t0.0438\t0.0000\t0.1222\t0.0330\t0.0666\t0.0877\t0.0970\n",
    "Train\tnan\t0.5621\t0.5621\t0.6793\t0.5503\t0.6080\t0.1241\t0.1277\n",
    "```"
   ]
  },
  {
   "cell_type": "code",
   "execution_count": null,
   "id": "35663381",
   "metadata": {},
   "outputs": [],
   "source": [
    "preds"
   ]
  },
  {
   "cell_type": "code",
   "execution_count": null,
   "id": "0b204cac",
   "metadata": {},
   "outputs": [],
   "source": [
    "preds_val = predict_model(final_model, data=val_data)  # 'Label' column으로 예측값을 추가"
   ]
  },
  {
   "cell_type": "code",
   "execution_count": null,
   "id": "728ae1f5",
   "metadata": {},
   "outputs": [],
   "source": [
    "preds_val.head(10)"
   ]
  },
  {
   "cell_type": "code",
   "execution_count": null,
   "id": "0a5b9682",
   "metadata": {},
   "outputs": [],
   "source": [
    "preds_val['prediction_score']"
   ]
  },
  {
   "cell_type": "code",
   "execution_count": null,
   "id": "6e07ba97",
   "metadata": {},
   "outputs": [],
   "source": [
    "zeros = preds_val[preds_val[target] == 0]\n",
    "ones  = preds_val[preds_val[target] == 1]"
   ]
  },
  {
   "cell_type": "code",
   "execution_count": null,
   "id": "5b08cfa7",
   "metadata": {},
   "outputs": [],
   "source": [
    "sns.kdeplot(zeros['prediction_score'])\n",
    "sns.kdeplot(ones['prediction_score']);"
   ]
  },
  {
   "cell_type": "code",
   "execution_count": null,
   "id": "3848d4f3",
   "metadata": {},
   "outputs": [],
   "source": [
    "submit = pd.read_csv(PATH.sample)\n",
    "submit[target] = preds['prediction_label']\n",
    "submit.to_csv(join(PATH.submit, f\"xgboost-oversampling-advanced_data.csv\"), index=False)"
   ]
  }
 ],
 "metadata": {
  "kernelspec": {
   "display_name": "Python 3 (ipykernel)",
   "language": "python",
   "name": "python3"
  },
  "language_info": {
   "codemirror_mode": {
    "name": "ipython",
    "version": 3
   },
   "file_extension": ".py",
   "mimetype": "text/x-python",
   "name": "python",
   "nbconvert_exporter": "python",
   "pygments_lexer": "ipython3",
   "version": "3.8.16"
  }
 },
 "nbformat": 4,
 "nbformat_minor": 5
}
